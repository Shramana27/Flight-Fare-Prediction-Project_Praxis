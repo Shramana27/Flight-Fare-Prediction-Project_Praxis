{
  "cells": [
    {
      "cell_type": "markdown",
      "metadata": {
        "id": "s5_Yt_rJjsYP"
      },
      "source": [
        "## OBJECTIVE"
      ],
      "id": "s5_Yt_rJjsYP"
    },
    {
      "cell_type": "markdown",
      "metadata": {
        "id": "Hu_LgFQ-pXpa"
      },
      "source": [
        "The dataset has been taken from Kaggle. \n",
        "There are 10683 rows and 13 columns.\n",
        "\n",
        "The objective of this project is to study the effect of individual variables on the target variable \"Price\" and then finally obtaining a suitable model for predicting the flight fares.\n",
        "\n",
        "We often find flight fares fluctuating a lot, at one time they go high up and then another time, they go down. It wonders most of us to understand what would be the right time to book a flight ticket to avail the minimum fare possible.\n",
        "Therefore, it would be really helpful if we can build a model to predict flight fares based on certain features as mentioned above that would help the customers to plan their journey depending on these predicted flight fares.\n",
        " \n",
        "Competition is a key factor which results in fluctuations of flight prices in the aviation industry since there is no monopoly. To compete with the contemporaries, aviation companies come up with different offers and discounts. Again, if a place has few airlines, the prices would be very high there compared to busy airports where there are many airlines. The model proposed in this model would also help the airline companies to predict the flight fares that they should maintain to attract more customers.\n",
        "That is why, this project is interesting and important to build a suitable model for flight fares prediciton.\n",
        "\n"
      ],
      "id": "Hu_LgFQ-pXpa"
    },
    {
      "cell_type": "markdown",
      "metadata": {
        "id": "BGejrRTArmZ3"
      },
      "source": [
        "This project is covered in this following step:\n",
        "\n",
        "Step 1: Importing Libraries and Download the Data\n",
        "\n",
        "Step 2: Data Pre-processing, Exploratory Data Analysis (EDA) and Visualization\n",
        "\n",
        "Missing Value Removal,\n",
        "Extracting Date Time,\n",
        "Correlation Matrix,\n",
        "Visualization\n",
        "\n",
        "Step 3 - Prepare the Dataset for Training\n",
        "\n",
        "Identify Numeric columns,\n",
        "Identify Categorical columns,\n",
        "Identify Input columns,\n",
        "Identify Target columns,\n",
        "One hot encoding,\n",
        "Train Test Split, \n",
        "Scale Numeric values with MinMaxScaler\n",
        "\n",
        "Step 4: Building All Regressor Model and Evaluation Performance\n",
        "\n",
        "Model Evaluation with r2 score, MAE, MSE and RMSE values\n",
        "\n",
        "Metrics and Scoring: Quantifying the quality of Predictions\n"
      ],
      "id": "BGejrRTArmZ3"
    },
    {
      "cell_type": "code",
      "execution_count": null,
      "metadata": {
        "colab": {
          "base_uri": "https://localhost:8080/"
        },
        "id": "1nfQsx2xHDIp",
        "outputId": "1c3187bd-aace-40fc-d9be-3d5b1dc91b86"
      },
      "outputs": [
        {
          "output_type": "stream",
          "name": "stdout",
          "text": [
            "Drive already mounted at /content/drive; to attempt to forcibly remount, call drive.mount(\"/content/drive\", force_remount=True).\n"
          ]
        }
      ],
      "source": [
        "#importing google colab drive\n",
        "from google.colab import drive\n",
        "drive.mount('/content/drive')"
      ],
      "id": "1nfQsx2xHDIp"
    },
    {
      "cell_type": "code",
      "execution_count": null,
      "metadata": {
        "id": "9c6a9b96"
      },
      "outputs": [],
      "source": [
        "#importing necessary libraries\n",
        "import pandas as pd \n",
        "import numpy as np \n",
        "import seaborn as sns \n",
        "import matplotlib.pyplot as plt\n",
        "import warnings\n",
        "warnings.filterwarnings('ignore')\n",
        "\n",
        "from sklearn.model_selection import RandomizedSearchCV\n"
      ],
      "id": "9c6a9b96"
    },
    {
      "cell_type": "code",
      "execution_count": null,
      "metadata": {
        "colab": {
          "base_uri": "https://localhost:8080/",
          "height": 337
        },
        "id": "VxWMQbeEI_1L",
        "outputId": "d6770a6f-d7ce-41d2-efdd-47cc7ef9307c"
      },
      "outputs": [
        {
          "output_type": "stream",
          "name": "stdout",
          "text": [
            "(10683, 11)\n",
            "Index(['Airline', 'Date_of_Journey', 'Source', 'Destination', 'Route',\n",
            "       'Dep_Time', 'Arrival_Time', 'Duration', 'Total_Stops',\n",
            "       'Additional_Info', 'Price'],\n",
            "      dtype='object')\n"
          ]
        },
        {
          "output_type": "execute_result",
          "data": {
            "text/plain": [
              "       Airline Date_of_Journey    Source Destination                  Route  \\\n",
              "0       IndiGo      24/03/2019  Banglore   New Delhi              BLR → DEL   \n",
              "1    Air India       1/05/2019   Kolkata    Banglore  CCU → IXR → BBI → BLR   \n",
              "2  Jet Airways       9/06/2019     Delhi      Cochin  DEL → LKO → BOM → COK   \n",
              "3       IndiGo      12/05/2019   Kolkata    Banglore        CCU → NAG → BLR   \n",
              "4       IndiGo      01/03/2019  Banglore   New Delhi        BLR → NAG → DEL   \n",
              "\n",
              "  Dep_Time  Arrival_Time Duration Total_Stops Additional_Info  Price  \n",
              "0    22:20  01:10 22 Mar   2h 50m    non-stop         No info   3897  \n",
              "1    05:50         13:15   7h 25m     2 stops         No info   7662  \n",
              "2    09:25  04:25 10 Jun      19h     2 stops         No info  13882  \n",
              "3    18:05         23:30   5h 25m      1 stop         No info   6218  \n",
              "4    16:50         21:35   4h 45m      1 stop         No info  13302  "
            ],
            "text/html": [
              "\n",
              "  <div id=\"df-658b7126-07de-4e23-987d-03a9cceb814c\">\n",
              "    <div class=\"colab-df-container\">\n",
              "      <div>\n",
              "<style scoped>\n",
              "    .dataframe tbody tr th:only-of-type {\n",
              "        vertical-align: middle;\n",
              "    }\n",
              "\n",
              "    .dataframe tbody tr th {\n",
              "        vertical-align: top;\n",
              "    }\n",
              "\n",
              "    .dataframe thead th {\n",
              "        text-align: right;\n",
              "    }\n",
              "</style>\n",
              "<table border=\"1\" class=\"dataframe\">\n",
              "  <thead>\n",
              "    <tr style=\"text-align: right;\">\n",
              "      <th></th>\n",
              "      <th>Airline</th>\n",
              "      <th>Date_of_Journey</th>\n",
              "      <th>Source</th>\n",
              "      <th>Destination</th>\n",
              "      <th>Route</th>\n",
              "      <th>Dep_Time</th>\n",
              "      <th>Arrival_Time</th>\n",
              "      <th>Duration</th>\n",
              "      <th>Total_Stops</th>\n",
              "      <th>Additional_Info</th>\n",
              "      <th>Price</th>\n",
              "    </tr>\n",
              "  </thead>\n",
              "  <tbody>\n",
              "    <tr>\n",
              "      <th>0</th>\n",
              "      <td>IndiGo</td>\n",
              "      <td>24/03/2019</td>\n",
              "      <td>Banglore</td>\n",
              "      <td>New Delhi</td>\n",
              "      <td>BLR → DEL</td>\n",
              "      <td>22:20</td>\n",
              "      <td>01:10 22 Mar</td>\n",
              "      <td>2h 50m</td>\n",
              "      <td>non-stop</td>\n",
              "      <td>No info</td>\n",
              "      <td>3897</td>\n",
              "    </tr>\n",
              "    <tr>\n",
              "      <th>1</th>\n",
              "      <td>Air India</td>\n",
              "      <td>1/05/2019</td>\n",
              "      <td>Kolkata</td>\n",
              "      <td>Banglore</td>\n",
              "      <td>CCU → IXR → BBI → BLR</td>\n",
              "      <td>05:50</td>\n",
              "      <td>13:15</td>\n",
              "      <td>7h 25m</td>\n",
              "      <td>2 stops</td>\n",
              "      <td>No info</td>\n",
              "      <td>7662</td>\n",
              "    </tr>\n",
              "    <tr>\n",
              "      <th>2</th>\n",
              "      <td>Jet Airways</td>\n",
              "      <td>9/06/2019</td>\n",
              "      <td>Delhi</td>\n",
              "      <td>Cochin</td>\n",
              "      <td>DEL → LKO → BOM → COK</td>\n",
              "      <td>09:25</td>\n",
              "      <td>04:25 10 Jun</td>\n",
              "      <td>19h</td>\n",
              "      <td>2 stops</td>\n",
              "      <td>No info</td>\n",
              "      <td>13882</td>\n",
              "    </tr>\n",
              "    <tr>\n",
              "      <th>3</th>\n",
              "      <td>IndiGo</td>\n",
              "      <td>12/05/2019</td>\n",
              "      <td>Kolkata</td>\n",
              "      <td>Banglore</td>\n",
              "      <td>CCU → NAG → BLR</td>\n",
              "      <td>18:05</td>\n",
              "      <td>23:30</td>\n",
              "      <td>5h 25m</td>\n",
              "      <td>1 stop</td>\n",
              "      <td>No info</td>\n",
              "      <td>6218</td>\n",
              "    </tr>\n",
              "    <tr>\n",
              "      <th>4</th>\n",
              "      <td>IndiGo</td>\n",
              "      <td>01/03/2019</td>\n",
              "      <td>Banglore</td>\n",
              "      <td>New Delhi</td>\n",
              "      <td>BLR → NAG → DEL</td>\n",
              "      <td>16:50</td>\n",
              "      <td>21:35</td>\n",
              "      <td>4h 45m</td>\n",
              "      <td>1 stop</td>\n",
              "      <td>No info</td>\n",
              "      <td>13302</td>\n",
              "    </tr>\n",
              "  </tbody>\n",
              "</table>\n",
              "</div>\n",
              "      <button class=\"colab-df-convert\" onclick=\"convertToInteractive('df-658b7126-07de-4e23-987d-03a9cceb814c')\"\n",
              "              title=\"Convert this dataframe to an interactive table.\"\n",
              "              style=\"display:none;\">\n",
              "        \n",
              "  <svg xmlns=\"http://www.w3.org/2000/svg\" height=\"24px\"viewBox=\"0 0 24 24\"\n",
              "       width=\"24px\">\n",
              "    <path d=\"M0 0h24v24H0V0z\" fill=\"none\"/>\n",
              "    <path d=\"M18.56 5.44l.94 2.06.94-2.06 2.06-.94-2.06-.94-.94-2.06-.94 2.06-2.06.94zm-11 1L8.5 8.5l.94-2.06 2.06-.94-2.06-.94L8.5 2.5l-.94 2.06-2.06.94zm10 10l.94 2.06.94-2.06 2.06-.94-2.06-.94-.94-2.06-.94 2.06-2.06.94z\"/><path d=\"M17.41 7.96l-1.37-1.37c-.4-.4-.92-.59-1.43-.59-.52 0-1.04.2-1.43.59L10.3 9.45l-7.72 7.72c-.78.78-.78 2.05 0 2.83L4 21.41c.39.39.9.59 1.41.59.51 0 1.02-.2 1.41-.59l7.78-7.78 2.81-2.81c.8-.78.8-2.07 0-2.86zM5.41 20L4 18.59l7.72-7.72 1.47 1.35L5.41 20z\"/>\n",
              "  </svg>\n",
              "      </button>\n",
              "      \n",
              "  <style>\n",
              "    .colab-df-container {\n",
              "      display:flex;\n",
              "      flex-wrap:wrap;\n",
              "      gap: 12px;\n",
              "    }\n",
              "\n",
              "    .colab-df-convert {\n",
              "      background-color: #E8F0FE;\n",
              "      border: none;\n",
              "      border-radius: 50%;\n",
              "      cursor: pointer;\n",
              "      display: none;\n",
              "      fill: #1967D2;\n",
              "      height: 32px;\n",
              "      padding: 0 0 0 0;\n",
              "      width: 32px;\n",
              "    }\n",
              "\n",
              "    .colab-df-convert:hover {\n",
              "      background-color: #E2EBFA;\n",
              "      box-shadow: 0px 1px 2px rgba(60, 64, 67, 0.3), 0px 1px 3px 1px rgba(60, 64, 67, 0.15);\n",
              "      fill: #174EA6;\n",
              "    }\n",
              "\n",
              "    [theme=dark] .colab-df-convert {\n",
              "      background-color: #3B4455;\n",
              "      fill: #D2E3FC;\n",
              "    }\n",
              "\n",
              "    [theme=dark] .colab-df-convert:hover {\n",
              "      background-color: #434B5C;\n",
              "      box-shadow: 0px 1px 3px 1px rgba(0, 0, 0, 0.15);\n",
              "      filter: drop-shadow(0px 1px 2px rgba(0, 0, 0, 0.3));\n",
              "      fill: #FFFFFF;\n",
              "    }\n",
              "  </style>\n",
              "\n",
              "      <script>\n",
              "        const buttonEl =\n",
              "          document.querySelector('#df-658b7126-07de-4e23-987d-03a9cceb814c button.colab-df-convert');\n",
              "        buttonEl.style.display =\n",
              "          google.colab.kernel.accessAllowed ? 'block' : 'none';\n",
              "\n",
              "        async function convertToInteractive(key) {\n",
              "          const element = document.querySelector('#df-658b7126-07de-4e23-987d-03a9cceb814c');\n",
              "          const dataTable =\n",
              "            await google.colab.kernel.invokeFunction('convertToInteractive',\n",
              "                                                     [key], {});\n",
              "          if (!dataTable) return;\n",
              "\n",
              "          const docLinkHtml = 'Like what you see? Visit the ' +\n",
              "            '<a target=\"_blank\" href=https://colab.research.google.com/notebooks/data_table.ipynb>data table notebook</a>'\n",
              "            + ' to learn more about interactive tables.';\n",
              "          element.innerHTML = '';\n",
              "          dataTable['output_type'] = 'display_data';\n",
              "          await google.colab.output.renderOutput(dataTable, element);\n",
              "          const docLink = document.createElement('div');\n",
              "          docLink.innerHTML = docLinkHtml;\n",
              "          element.appendChild(docLink);\n",
              "        }\n",
              "      </script>\n",
              "    </div>\n",
              "  </div>\n",
              "  "
            ]
          },
          "metadata": {},
          "execution_count": 95
        }
      ],
      "source": [
        "#data is stored in df1\n",
        "df1=pd.read_excel(\"/content/drive/MyDrive/Data_Train.xlsx\")\n",
        "\n",
        "print(df1.shape)\n",
        "\n",
        "print(df1.columns)\n",
        "\n",
        "df1.head()"
      ],
      "id": "VxWMQbeEI_1L"
    },
    {
      "cell_type": "code",
      "execution_count": null,
      "metadata": {
        "id": "86324673"
      },
      "outputs": [],
      "source": [
        "df=df1.copy() #df stores a copy of the original data"
      ],
      "id": "86324673"
    },
    {
      "cell_type": "code",
      "execution_count": null,
      "metadata": {
        "colab": {
          "base_uri": "https://localhost:8080/"
        },
        "id": "bab3b587",
        "outputId": "9434495b-db7d-44d3-b2a3-8e5670e618d2"
      },
      "outputs": [
        {
          "output_type": "execute_result",
          "data": {
            "text/plain": [
              "(10683, 11)"
            ]
          },
          "metadata": {},
          "execution_count": 97
        }
      ],
      "source": [
        "df.shape #to get the dimensions of the data"
      ],
      "id": "bab3b587"
    },
    {
      "cell_type": "code",
      "execution_count": null,
      "metadata": {
        "colab": {
          "base_uri": "https://localhost:8080/"
        },
        "id": "2a993d6f",
        "outputId": "0319e885-0343-4e89-b552-3b1fbaeaff6e"
      },
      "outputs": [
        {
          "output_type": "stream",
          "name": "stdout",
          "text": [
            "<class 'pandas.core.frame.DataFrame'>\n",
            "RangeIndex: 10683 entries, 0 to 10682\n",
            "Data columns (total 11 columns):\n",
            " #   Column           Non-Null Count  Dtype \n",
            "---  ------           --------------  ----- \n",
            " 0   Airline          10683 non-null  object\n",
            " 1   Date_of_Journey  10683 non-null  object\n",
            " 2   Source           10683 non-null  object\n",
            " 3   Destination      10683 non-null  object\n",
            " 4   Route            10682 non-null  object\n",
            " 5   Dep_Time         10683 non-null  object\n",
            " 6   Arrival_Time     10683 non-null  object\n",
            " 7   Duration         10683 non-null  object\n",
            " 8   Total_Stops      10682 non-null  object\n",
            " 9   Additional_Info  10683 non-null  object\n",
            " 10  Price            10683 non-null  int64 \n",
            "dtypes: int64(1), object(10)\n",
            "memory usage: 918.2+ KB\n"
          ]
        }
      ],
      "source": [
        "#checking the data types of each column\n",
        "\n",
        "df.info()"
      ],
      "id": "2a993d6f"
    },
    {
      "cell_type": "markdown",
      "metadata": {
        "id": "7437e783"
      },
      "source": [
        "# Missing values removal"
      ],
      "id": "7437e783"
    },
    {
      "cell_type": "code",
      "execution_count": null,
      "metadata": {
        "colab": {
          "base_uri": "https://localhost:8080/"
        },
        "id": "50dec625",
        "outputId": "a251336f-0e1a-4a8f-f062-dd096ad35954"
      },
      "outputs": [
        {
          "output_type": "execute_result",
          "data": {
            "text/plain": [
              "Airline            0\n",
              "Date_of_Journey    0\n",
              "Source             0\n",
              "Destination        0\n",
              "Route              1\n",
              "Dep_Time           0\n",
              "Arrival_Time       0\n",
              "Duration           0\n",
              "Total_Stops        1\n",
              "Additional_Info    0\n",
              "Price              0\n",
              "dtype: int64"
            ]
          },
          "metadata": {},
          "execution_count": 99
        }
      ],
      "source": [
        "#Checking missing values in columns\n",
        "missing_sum=df.isnull().sum()\n",
        "missing_sum"
      ],
      "id": "50dec625"
    },
    {
      "cell_type": "code",
      "execution_count": null,
      "metadata": {
        "colab": {
          "base_uri": "https://localhost:8080/"
        },
        "id": "655b3c57",
        "outputId": "c2e42bf0-89f5-4c9b-c922-2775fc0d22fb"
      },
      "outputs": [
        {
          "output_type": "execute_result",
          "data": {
            "text/plain": [
              "0.018721332958906673"
            ]
          },
          "metadata": {},
          "execution_count": 100
        }
      ],
      "source": [
        "(missing_sum.sum()/df.shape[0])*100"
      ],
      "id": "655b3c57"
    },
    {
      "cell_type": "markdown",
      "metadata": {
        "id": "6e91233d"
      },
      "source": [
        "Percentage of missing values is less than 5%. So we can remove them."
      ],
      "id": "6e91233d"
    },
    {
      "cell_type": "code",
      "execution_count": null,
      "metadata": {
        "id": "0835e3cc"
      },
      "outputs": [],
      "source": [
        "df.dropna(inplace=True) #dropping the missing values"
      ],
      "id": "0835e3cc"
    },
    {
      "cell_type": "markdown",
      "metadata": {
        "id": "51fe290a"
      },
      "source": [
        "Checking whether there are any duplicate values"
      ],
      "id": "51fe290a"
    },
    {
      "cell_type": "code",
      "execution_count": null,
      "metadata": {
        "colab": {
          "base_uri": "https://localhost:8080/",
          "height": 624
        },
        "id": "823d1dea",
        "outputId": "d84ba031-a4f3-4203-9b0e-0e19977584e2"
      },
      "outputs": [
        {
          "output_type": "execute_result",
          "data": {
            "text/plain": [
              "           Airline Date_of_Journey    Source Destination  \\\n",
              "683    Jet Airways       1/06/2019     Delhi      Cochin   \n",
              "1061     Air India      21/05/2019     Delhi      Cochin   \n",
              "1348     Air India      18/05/2019     Delhi      Cochin   \n",
              "1418   Jet Airways       6/06/2019     Delhi      Cochin   \n",
              "1674        IndiGo      24/03/2019  Banglore   New Delhi   \n",
              "...            ...             ...       ...         ...   \n",
              "10594  Jet Airways      27/06/2019     Delhi      Cochin   \n",
              "10616  Jet Airways       1/06/2019     Delhi      Cochin   \n",
              "10634  Jet Airways       6/06/2019     Delhi      Cochin   \n",
              "10672  Jet Airways      27/06/2019     Delhi      Cochin   \n",
              "10673  Jet Airways      27/05/2019     Delhi      Cochin   \n",
              "\n",
              "                       Route Dep_Time  Arrival_Time Duration Total_Stops  \\\n",
              "683    DEL → NAG → BOM → COK    14:35  04:25 02 Jun  13h 50m     2 stops   \n",
              "1061   DEL → GOI → BOM → COK    22:00  19:15 22 May  21h 15m     2 stops   \n",
              "1348   DEL → HYD → BOM → COK    17:15  19:15 19 May      26h     2 stops   \n",
              "1418   DEL → JAI → BOM → COK    05:30  04:25 07 Jun  22h 55m     2 stops   \n",
              "1674               BLR → DEL    18:25         21:20   2h 55m    non-stop   \n",
              "...                      ...      ...           ...      ...         ...   \n",
              "10594  DEL → AMD → BOM → COK    23:05  12:35 28 Jun  13h 30m     2 stops   \n",
              "10616  DEL → JAI → BOM → COK    09:40  12:35 02 Jun  26h 55m     2 stops   \n",
              "10634  DEL → JAI → BOM → COK    09:40  12:35 07 Jun  26h 55m     2 stops   \n",
              "10672  DEL → AMD → BOM → COK    23:05  19:00 28 Jun  19h 55m     2 stops   \n",
              "10673  DEL → AMD → BOM → COK    13:25  04:25 28 May      15h     2 stops   \n",
              "\n",
              "                   Additional_Info  Price  \n",
              "683                        No info  13376  \n",
              "1061                       No info  10231  \n",
              "1348                       No info  12392  \n",
              "1418   In-flight meal not included  10368  \n",
              "1674                       No info   7303  \n",
              "...                            ...    ...  \n",
              "10594                      No info  12819  \n",
              "10616                      No info  13014  \n",
              "10634  In-flight meal not included  11733  \n",
              "10672  In-flight meal not included  11150  \n",
              "10673                      No info  16704  \n",
              "\n",
              "[220 rows x 11 columns]"
            ],
            "text/html": [
              "\n",
              "  <div id=\"df-4d6e8042-3604-4fa9-8f3e-b5895217be9f\">\n",
              "    <div class=\"colab-df-container\">\n",
              "      <div>\n",
              "<style scoped>\n",
              "    .dataframe tbody tr th:only-of-type {\n",
              "        vertical-align: middle;\n",
              "    }\n",
              "\n",
              "    .dataframe tbody tr th {\n",
              "        vertical-align: top;\n",
              "    }\n",
              "\n",
              "    .dataframe thead th {\n",
              "        text-align: right;\n",
              "    }\n",
              "</style>\n",
              "<table border=\"1\" class=\"dataframe\">\n",
              "  <thead>\n",
              "    <tr style=\"text-align: right;\">\n",
              "      <th></th>\n",
              "      <th>Airline</th>\n",
              "      <th>Date_of_Journey</th>\n",
              "      <th>Source</th>\n",
              "      <th>Destination</th>\n",
              "      <th>Route</th>\n",
              "      <th>Dep_Time</th>\n",
              "      <th>Arrival_Time</th>\n",
              "      <th>Duration</th>\n",
              "      <th>Total_Stops</th>\n",
              "      <th>Additional_Info</th>\n",
              "      <th>Price</th>\n",
              "    </tr>\n",
              "  </thead>\n",
              "  <tbody>\n",
              "    <tr>\n",
              "      <th>683</th>\n",
              "      <td>Jet Airways</td>\n",
              "      <td>1/06/2019</td>\n",
              "      <td>Delhi</td>\n",
              "      <td>Cochin</td>\n",
              "      <td>DEL → NAG → BOM → COK</td>\n",
              "      <td>14:35</td>\n",
              "      <td>04:25 02 Jun</td>\n",
              "      <td>13h 50m</td>\n",
              "      <td>2 stops</td>\n",
              "      <td>No info</td>\n",
              "      <td>13376</td>\n",
              "    </tr>\n",
              "    <tr>\n",
              "      <th>1061</th>\n",
              "      <td>Air India</td>\n",
              "      <td>21/05/2019</td>\n",
              "      <td>Delhi</td>\n",
              "      <td>Cochin</td>\n",
              "      <td>DEL → GOI → BOM → COK</td>\n",
              "      <td>22:00</td>\n",
              "      <td>19:15 22 May</td>\n",
              "      <td>21h 15m</td>\n",
              "      <td>2 stops</td>\n",
              "      <td>No info</td>\n",
              "      <td>10231</td>\n",
              "    </tr>\n",
              "    <tr>\n",
              "      <th>1348</th>\n",
              "      <td>Air India</td>\n",
              "      <td>18/05/2019</td>\n",
              "      <td>Delhi</td>\n",
              "      <td>Cochin</td>\n",
              "      <td>DEL → HYD → BOM → COK</td>\n",
              "      <td>17:15</td>\n",
              "      <td>19:15 19 May</td>\n",
              "      <td>26h</td>\n",
              "      <td>2 stops</td>\n",
              "      <td>No info</td>\n",
              "      <td>12392</td>\n",
              "    </tr>\n",
              "    <tr>\n",
              "      <th>1418</th>\n",
              "      <td>Jet Airways</td>\n",
              "      <td>6/06/2019</td>\n",
              "      <td>Delhi</td>\n",
              "      <td>Cochin</td>\n",
              "      <td>DEL → JAI → BOM → COK</td>\n",
              "      <td>05:30</td>\n",
              "      <td>04:25 07 Jun</td>\n",
              "      <td>22h 55m</td>\n",
              "      <td>2 stops</td>\n",
              "      <td>In-flight meal not included</td>\n",
              "      <td>10368</td>\n",
              "    </tr>\n",
              "    <tr>\n",
              "      <th>1674</th>\n",
              "      <td>IndiGo</td>\n",
              "      <td>24/03/2019</td>\n",
              "      <td>Banglore</td>\n",
              "      <td>New Delhi</td>\n",
              "      <td>BLR → DEL</td>\n",
              "      <td>18:25</td>\n",
              "      <td>21:20</td>\n",
              "      <td>2h 55m</td>\n",
              "      <td>non-stop</td>\n",
              "      <td>No info</td>\n",
              "      <td>7303</td>\n",
              "    </tr>\n",
              "    <tr>\n",
              "      <th>...</th>\n",
              "      <td>...</td>\n",
              "      <td>...</td>\n",
              "      <td>...</td>\n",
              "      <td>...</td>\n",
              "      <td>...</td>\n",
              "      <td>...</td>\n",
              "      <td>...</td>\n",
              "      <td>...</td>\n",
              "      <td>...</td>\n",
              "      <td>...</td>\n",
              "      <td>...</td>\n",
              "    </tr>\n",
              "    <tr>\n",
              "      <th>10594</th>\n",
              "      <td>Jet Airways</td>\n",
              "      <td>27/06/2019</td>\n",
              "      <td>Delhi</td>\n",
              "      <td>Cochin</td>\n",
              "      <td>DEL → AMD → BOM → COK</td>\n",
              "      <td>23:05</td>\n",
              "      <td>12:35 28 Jun</td>\n",
              "      <td>13h 30m</td>\n",
              "      <td>2 stops</td>\n",
              "      <td>No info</td>\n",
              "      <td>12819</td>\n",
              "    </tr>\n",
              "    <tr>\n",
              "      <th>10616</th>\n",
              "      <td>Jet Airways</td>\n",
              "      <td>1/06/2019</td>\n",
              "      <td>Delhi</td>\n",
              "      <td>Cochin</td>\n",
              "      <td>DEL → JAI → BOM → COK</td>\n",
              "      <td>09:40</td>\n",
              "      <td>12:35 02 Jun</td>\n",
              "      <td>26h 55m</td>\n",
              "      <td>2 stops</td>\n",
              "      <td>No info</td>\n",
              "      <td>13014</td>\n",
              "    </tr>\n",
              "    <tr>\n",
              "      <th>10634</th>\n",
              "      <td>Jet Airways</td>\n",
              "      <td>6/06/2019</td>\n",
              "      <td>Delhi</td>\n",
              "      <td>Cochin</td>\n",
              "      <td>DEL → JAI → BOM → COK</td>\n",
              "      <td>09:40</td>\n",
              "      <td>12:35 07 Jun</td>\n",
              "      <td>26h 55m</td>\n",
              "      <td>2 stops</td>\n",
              "      <td>In-flight meal not included</td>\n",
              "      <td>11733</td>\n",
              "    </tr>\n",
              "    <tr>\n",
              "      <th>10672</th>\n",
              "      <td>Jet Airways</td>\n",
              "      <td>27/06/2019</td>\n",
              "      <td>Delhi</td>\n",
              "      <td>Cochin</td>\n",
              "      <td>DEL → AMD → BOM → COK</td>\n",
              "      <td>23:05</td>\n",
              "      <td>19:00 28 Jun</td>\n",
              "      <td>19h 55m</td>\n",
              "      <td>2 stops</td>\n",
              "      <td>In-flight meal not included</td>\n",
              "      <td>11150</td>\n",
              "    </tr>\n",
              "    <tr>\n",
              "      <th>10673</th>\n",
              "      <td>Jet Airways</td>\n",
              "      <td>27/05/2019</td>\n",
              "      <td>Delhi</td>\n",
              "      <td>Cochin</td>\n",
              "      <td>DEL → AMD → BOM → COK</td>\n",
              "      <td>13:25</td>\n",
              "      <td>04:25 28 May</td>\n",
              "      <td>15h</td>\n",
              "      <td>2 stops</td>\n",
              "      <td>No info</td>\n",
              "      <td>16704</td>\n",
              "    </tr>\n",
              "  </tbody>\n",
              "</table>\n",
              "<p>220 rows × 11 columns</p>\n",
              "</div>\n",
              "      <button class=\"colab-df-convert\" onclick=\"convertToInteractive('df-4d6e8042-3604-4fa9-8f3e-b5895217be9f')\"\n",
              "              title=\"Convert this dataframe to an interactive table.\"\n",
              "              style=\"display:none;\">\n",
              "        \n",
              "  <svg xmlns=\"http://www.w3.org/2000/svg\" height=\"24px\"viewBox=\"0 0 24 24\"\n",
              "       width=\"24px\">\n",
              "    <path d=\"M0 0h24v24H0V0z\" fill=\"none\"/>\n",
              "    <path d=\"M18.56 5.44l.94 2.06.94-2.06 2.06-.94-2.06-.94-.94-2.06-.94 2.06-2.06.94zm-11 1L8.5 8.5l.94-2.06 2.06-.94-2.06-.94L8.5 2.5l-.94 2.06-2.06.94zm10 10l.94 2.06.94-2.06 2.06-.94-2.06-.94-.94-2.06-.94 2.06-2.06.94z\"/><path d=\"M17.41 7.96l-1.37-1.37c-.4-.4-.92-.59-1.43-.59-.52 0-1.04.2-1.43.59L10.3 9.45l-7.72 7.72c-.78.78-.78 2.05 0 2.83L4 21.41c.39.39.9.59 1.41.59.51 0 1.02-.2 1.41-.59l7.78-7.78 2.81-2.81c.8-.78.8-2.07 0-2.86zM5.41 20L4 18.59l7.72-7.72 1.47 1.35L5.41 20z\"/>\n",
              "  </svg>\n",
              "      </button>\n",
              "      \n",
              "  <style>\n",
              "    .colab-df-container {\n",
              "      display:flex;\n",
              "      flex-wrap:wrap;\n",
              "      gap: 12px;\n",
              "    }\n",
              "\n",
              "    .colab-df-convert {\n",
              "      background-color: #E8F0FE;\n",
              "      border: none;\n",
              "      border-radius: 50%;\n",
              "      cursor: pointer;\n",
              "      display: none;\n",
              "      fill: #1967D2;\n",
              "      height: 32px;\n",
              "      padding: 0 0 0 0;\n",
              "      width: 32px;\n",
              "    }\n",
              "\n",
              "    .colab-df-convert:hover {\n",
              "      background-color: #E2EBFA;\n",
              "      box-shadow: 0px 1px 2px rgba(60, 64, 67, 0.3), 0px 1px 3px 1px rgba(60, 64, 67, 0.15);\n",
              "      fill: #174EA6;\n",
              "    }\n",
              "\n",
              "    [theme=dark] .colab-df-convert {\n",
              "      background-color: #3B4455;\n",
              "      fill: #D2E3FC;\n",
              "    }\n",
              "\n",
              "    [theme=dark] .colab-df-convert:hover {\n",
              "      background-color: #434B5C;\n",
              "      box-shadow: 0px 1px 3px 1px rgba(0, 0, 0, 0.15);\n",
              "      filter: drop-shadow(0px 1px 2px rgba(0, 0, 0, 0.3));\n",
              "      fill: #FFFFFF;\n",
              "    }\n",
              "  </style>\n",
              "\n",
              "      <script>\n",
              "        const buttonEl =\n",
              "          document.querySelector('#df-4d6e8042-3604-4fa9-8f3e-b5895217be9f button.colab-df-convert');\n",
              "        buttonEl.style.display =\n",
              "          google.colab.kernel.accessAllowed ? 'block' : 'none';\n",
              "\n",
              "        async function convertToInteractive(key) {\n",
              "          const element = document.querySelector('#df-4d6e8042-3604-4fa9-8f3e-b5895217be9f');\n",
              "          const dataTable =\n",
              "            await google.colab.kernel.invokeFunction('convertToInteractive',\n",
              "                                                     [key], {});\n",
              "          if (!dataTable) return;\n",
              "\n",
              "          const docLinkHtml = 'Like what you see? Visit the ' +\n",
              "            '<a target=\"_blank\" href=https://colab.research.google.com/notebooks/data_table.ipynb>data table notebook</a>'\n",
              "            + ' to learn more about interactive tables.';\n",
              "          element.innerHTML = '';\n",
              "          dataTable['output_type'] = 'display_data';\n",
              "          await google.colab.output.renderOutput(dataTable, element);\n",
              "          const docLink = document.createElement('div');\n",
              "          docLink.innerHTML = docLinkHtml;\n",
              "          element.appendChild(docLink);\n",
              "        }\n",
              "      </script>\n",
              "    </div>\n",
              "  </div>\n",
              "  "
            ]
          },
          "metadata": {},
          "execution_count": 102
        }
      ],
      "source": [
        "df[df.duplicated()] #checking for duplicated rows"
      ],
      "id": "823d1dea"
    },
    {
      "cell_type": "markdown",
      "metadata": {
        "id": "6c4f5e44"
      },
      "source": [
        "These are same flights on different dates, we can drop them, but many a times flight fare varies from weekdays to weekends or on different days of a week, therefore, its better to keep them."
      ],
      "id": "6c4f5e44"
    },
    {
      "cell_type": "code",
      "execution_count": null,
      "metadata": {
        "id": "a5c71377"
      },
      "outputs": [],
      "source": [
        "#function to convert columns into datetime\n",
        "def change_into_datetime(col):\n",
        "    df[col]=pd.to_datetime(df[col])\n",
        "    "
      ],
      "id": "a5c71377"
    },
    {
      "cell_type": "code",
      "execution_count": null,
      "metadata": {
        "id": "1fa9385e"
      },
      "outputs": [],
      "source": [
        "#converting columns to datetime\n",
        "for i in ['Date_of_Journey','Dep_Time', 'Arrival_Time']:\n",
        "  change_into_datetime(i)"
      ],
      "id": "1fa9385e"
    },
    {
      "cell_type": "code",
      "execution_count": null,
      "metadata": {
        "colab": {
          "base_uri": "https://localhost:8080/"
        },
        "id": "131a26d5",
        "outputId": "d725dca2-c4b5-417c-e7a4-4bcd18fd8563"
      },
      "outputs": [
        {
          "output_type": "stream",
          "name": "stdout",
          "text": [
            "<class 'pandas.core.frame.DataFrame'>\n",
            "Int64Index: 10682 entries, 0 to 10682\n",
            "Data columns (total 11 columns):\n",
            " #   Column           Non-Null Count  Dtype         \n",
            "---  ------           --------------  -----         \n",
            " 0   Airline          10682 non-null  object        \n",
            " 1   Date_of_Journey  10682 non-null  datetime64[ns]\n",
            " 2   Source           10682 non-null  object        \n",
            " 3   Destination      10682 non-null  object        \n",
            " 4   Route            10682 non-null  object        \n",
            " 5   Dep_Time         10682 non-null  datetime64[ns]\n",
            " 6   Arrival_Time     10682 non-null  datetime64[ns]\n",
            " 7   Duration         10682 non-null  object        \n",
            " 8   Total_Stops      10682 non-null  object        \n",
            " 9   Additional_Info  10682 non-null  object        \n",
            " 10  Price            10682 non-null  int64         \n",
            "dtypes: datetime64[ns](3), int64(1), object(7)\n",
            "memory usage: 1001.4+ KB\n"
          ]
        }
      ],
      "source": [
        "df.info()"
      ],
      "id": "131a26d5"
    },
    {
      "cell_type": "code",
      "execution_count": null,
      "metadata": {
        "colab": {
          "base_uri": "https://localhost:8080/",
          "height": 191
        },
        "id": "5c3f3f5c",
        "outputId": "4adfa210-8d4d-4cc7-fdbb-acf397d5b034"
      },
      "outputs": [
        {
          "output_type": "execute_result",
          "data": {
            "text/plain": [
              "     Airline Date_of_Journey    Source Destination                  Route  \\\n",
              "0     IndiGo      2019-03-24  Banglore   New Delhi              BLR → DEL   \n",
              "1  Air India      2019-01-05   Kolkata    Banglore  CCU → IXR → BBI → BLR   \n",
              "\n",
              "             Dep_Time        Arrival_Time Duration Total_Stops  \\\n",
              "0 2022-06-26 22:20:00 2022-03-22 01:10:00   2h 50m    non-stop   \n",
              "1 2022-06-26 05:50:00 2022-06-26 13:15:00   7h 25m     2 stops   \n",
              "\n",
              "  Additional_Info  Price  \n",
              "0         No info   3897  \n",
              "1         No info   7662  "
            ],
            "text/html": [
              "\n",
              "  <div id=\"df-c8807c18-6cd6-4031-aed5-a96be92a74c3\">\n",
              "    <div class=\"colab-df-container\">\n",
              "      <div>\n",
              "<style scoped>\n",
              "    .dataframe tbody tr th:only-of-type {\n",
              "        vertical-align: middle;\n",
              "    }\n",
              "\n",
              "    .dataframe tbody tr th {\n",
              "        vertical-align: top;\n",
              "    }\n",
              "\n",
              "    .dataframe thead th {\n",
              "        text-align: right;\n",
              "    }\n",
              "</style>\n",
              "<table border=\"1\" class=\"dataframe\">\n",
              "  <thead>\n",
              "    <tr style=\"text-align: right;\">\n",
              "      <th></th>\n",
              "      <th>Airline</th>\n",
              "      <th>Date_of_Journey</th>\n",
              "      <th>Source</th>\n",
              "      <th>Destination</th>\n",
              "      <th>Route</th>\n",
              "      <th>Dep_Time</th>\n",
              "      <th>Arrival_Time</th>\n",
              "      <th>Duration</th>\n",
              "      <th>Total_Stops</th>\n",
              "      <th>Additional_Info</th>\n",
              "      <th>Price</th>\n",
              "    </tr>\n",
              "  </thead>\n",
              "  <tbody>\n",
              "    <tr>\n",
              "      <th>0</th>\n",
              "      <td>IndiGo</td>\n",
              "      <td>2019-03-24</td>\n",
              "      <td>Banglore</td>\n",
              "      <td>New Delhi</td>\n",
              "      <td>BLR → DEL</td>\n",
              "      <td>2022-06-26 22:20:00</td>\n",
              "      <td>2022-03-22 01:10:00</td>\n",
              "      <td>2h 50m</td>\n",
              "      <td>non-stop</td>\n",
              "      <td>No info</td>\n",
              "      <td>3897</td>\n",
              "    </tr>\n",
              "    <tr>\n",
              "      <th>1</th>\n",
              "      <td>Air India</td>\n",
              "      <td>2019-01-05</td>\n",
              "      <td>Kolkata</td>\n",
              "      <td>Banglore</td>\n",
              "      <td>CCU → IXR → BBI → BLR</td>\n",
              "      <td>2022-06-26 05:50:00</td>\n",
              "      <td>2022-06-26 13:15:00</td>\n",
              "      <td>7h 25m</td>\n",
              "      <td>2 stops</td>\n",
              "      <td>No info</td>\n",
              "      <td>7662</td>\n",
              "    </tr>\n",
              "  </tbody>\n",
              "</table>\n",
              "</div>\n",
              "      <button class=\"colab-df-convert\" onclick=\"convertToInteractive('df-c8807c18-6cd6-4031-aed5-a96be92a74c3')\"\n",
              "              title=\"Convert this dataframe to an interactive table.\"\n",
              "              style=\"display:none;\">\n",
              "        \n",
              "  <svg xmlns=\"http://www.w3.org/2000/svg\" height=\"24px\"viewBox=\"0 0 24 24\"\n",
              "       width=\"24px\">\n",
              "    <path d=\"M0 0h24v24H0V0z\" fill=\"none\"/>\n",
              "    <path d=\"M18.56 5.44l.94 2.06.94-2.06 2.06-.94-2.06-.94-.94-2.06-.94 2.06-2.06.94zm-11 1L8.5 8.5l.94-2.06 2.06-.94-2.06-.94L8.5 2.5l-.94 2.06-2.06.94zm10 10l.94 2.06.94-2.06 2.06-.94-2.06-.94-.94-2.06-.94 2.06-2.06.94z\"/><path d=\"M17.41 7.96l-1.37-1.37c-.4-.4-.92-.59-1.43-.59-.52 0-1.04.2-1.43.59L10.3 9.45l-7.72 7.72c-.78.78-.78 2.05 0 2.83L4 21.41c.39.39.9.59 1.41.59.51 0 1.02-.2 1.41-.59l7.78-7.78 2.81-2.81c.8-.78.8-2.07 0-2.86zM5.41 20L4 18.59l7.72-7.72 1.47 1.35L5.41 20z\"/>\n",
              "  </svg>\n",
              "      </button>\n",
              "      \n",
              "  <style>\n",
              "    .colab-df-container {\n",
              "      display:flex;\n",
              "      flex-wrap:wrap;\n",
              "      gap: 12px;\n",
              "    }\n",
              "\n",
              "    .colab-df-convert {\n",
              "      background-color: #E8F0FE;\n",
              "      border: none;\n",
              "      border-radius: 50%;\n",
              "      cursor: pointer;\n",
              "      display: none;\n",
              "      fill: #1967D2;\n",
              "      height: 32px;\n",
              "      padding: 0 0 0 0;\n",
              "      width: 32px;\n",
              "    }\n",
              "\n",
              "    .colab-df-convert:hover {\n",
              "      background-color: #E2EBFA;\n",
              "      box-shadow: 0px 1px 2px rgba(60, 64, 67, 0.3), 0px 1px 3px 1px rgba(60, 64, 67, 0.15);\n",
              "      fill: #174EA6;\n",
              "    }\n",
              "\n",
              "    [theme=dark] .colab-df-convert {\n",
              "      background-color: #3B4455;\n",
              "      fill: #D2E3FC;\n",
              "    }\n",
              "\n",
              "    [theme=dark] .colab-df-convert:hover {\n",
              "      background-color: #434B5C;\n",
              "      box-shadow: 0px 1px 3px 1px rgba(0, 0, 0, 0.15);\n",
              "      filter: drop-shadow(0px 1px 2px rgba(0, 0, 0, 0.3));\n",
              "      fill: #FFFFFF;\n",
              "    }\n",
              "  </style>\n",
              "\n",
              "      <script>\n",
              "        const buttonEl =\n",
              "          document.querySelector('#df-c8807c18-6cd6-4031-aed5-a96be92a74c3 button.colab-df-convert');\n",
              "        buttonEl.style.display =\n",
              "          google.colab.kernel.accessAllowed ? 'block' : 'none';\n",
              "\n",
              "        async function convertToInteractive(key) {\n",
              "          const element = document.querySelector('#df-c8807c18-6cd6-4031-aed5-a96be92a74c3');\n",
              "          const dataTable =\n",
              "            await google.colab.kernel.invokeFunction('convertToInteractive',\n",
              "                                                     [key], {});\n",
              "          if (!dataTable) return;\n",
              "\n",
              "          const docLinkHtml = 'Like what you see? Visit the ' +\n",
              "            '<a target=\"_blank\" href=https://colab.research.google.com/notebooks/data_table.ipynb>data table notebook</a>'\n",
              "            + ' to learn more about interactive tables.';\n",
              "          element.innerHTML = '';\n",
              "          dataTable['output_type'] = 'display_data';\n",
              "          await google.colab.output.renderOutput(dataTable, element);\n",
              "          const docLink = document.createElement('div');\n",
              "          docLink.innerHTML = docLinkHtml;\n",
              "          element.appendChild(docLink);\n",
              "        }\n",
              "      </script>\n",
              "    </div>\n",
              "  </div>\n",
              "  "
            ]
          },
          "metadata": {},
          "execution_count": 106
        }
      ],
      "source": [
        "df.head(2)"
      ],
      "id": "5c3f3f5c"
    },
    {
      "cell_type": "markdown",
      "metadata": {
        "id": "65c2c930"
      },
      "source": [
        "# Feature Engineering"
      ],
      "id": "65c2c930"
    },
    {
      "cell_type": "code",
      "execution_count": null,
      "metadata": {
        "id": "f477bd1e"
      },
      "outputs": [],
      "source": [
        "#storing the day, month and year of the journey_date column into three different columns\n",
        "df['journey_day']=df['Date_of_Journey'].dt.day\n",
        "df['journey_month']=df['Date_of_Journey'].dt.month\n",
        "df['journey_year']=df['Date_of_Journey'].dt.year"
      ],
      "id": "f477bd1e"
    },
    {
      "cell_type": "code",
      "execution_count": null,
      "metadata": {
        "id": "3ab59bfb"
      },
      "outputs": [],
      "source": [
        "#day of the week is stored in another column\n",
        "df['day_of_week']=df['Date_of_Journey'].dt.day_name()"
      ],
      "id": "3ab59bfb"
    },
    {
      "cell_type": "code",
      "execution_count": null,
      "metadata": {
        "colab": {
          "base_uri": "https://localhost:8080/",
          "height": 315
        },
        "id": "817b58ad",
        "outputId": "b3f64d08-8838-45dd-c05e-eb9026abad2d"
      },
      "outputs": [
        {
          "output_type": "execute_result",
          "data": {
            "text/plain": [
              "     Airline    Source Destination                  Route            Dep_Time  \\\n",
              "0     IndiGo  Banglore   New Delhi              BLR → DEL 2022-06-26 22:20:00   \n",
              "1  Air India   Kolkata    Banglore  CCU → IXR → BBI → BLR 2022-06-26 05:50:00   \n",
              "\n",
              "         Arrival_Time Duration Total_Stops Additional_Info  Price  \\\n",
              "0 2022-03-22 01:10:00   2h 50m    non-stop         No info   3897   \n",
              "1 2022-06-26 13:15:00   7h 25m     2 stops         No info   7662   \n",
              "\n",
              "   journey_day  journey_month  journey_year day_of_week  \n",
              "0           24              3          2019      Sunday  \n",
              "1            5              1          2019    Saturday  "
            ],
            "text/html": [
              "\n",
              "  <div id=\"df-d27f1adc-6508-47fa-b755-5a2a14e2904c\">\n",
              "    <div class=\"colab-df-container\">\n",
              "      <div>\n",
              "<style scoped>\n",
              "    .dataframe tbody tr th:only-of-type {\n",
              "        vertical-align: middle;\n",
              "    }\n",
              "\n",
              "    .dataframe tbody tr th {\n",
              "        vertical-align: top;\n",
              "    }\n",
              "\n",
              "    .dataframe thead th {\n",
              "        text-align: right;\n",
              "    }\n",
              "</style>\n",
              "<table border=\"1\" class=\"dataframe\">\n",
              "  <thead>\n",
              "    <tr style=\"text-align: right;\">\n",
              "      <th></th>\n",
              "      <th>Airline</th>\n",
              "      <th>Source</th>\n",
              "      <th>Destination</th>\n",
              "      <th>Route</th>\n",
              "      <th>Dep_Time</th>\n",
              "      <th>Arrival_Time</th>\n",
              "      <th>Duration</th>\n",
              "      <th>Total_Stops</th>\n",
              "      <th>Additional_Info</th>\n",
              "      <th>Price</th>\n",
              "      <th>journey_day</th>\n",
              "      <th>journey_month</th>\n",
              "      <th>journey_year</th>\n",
              "      <th>day_of_week</th>\n",
              "    </tr>\n",
              "  </thead>\n",
              "  <tbody>\n",
              "    <tr>\n",
              "      <th>0</th>\n",
              "      <td>IndiGo</td>\n",
              "      <td>Banglore</td>\n",
              "      <td>New Delhi</td>\n",
              "      <td>BLR → DEL</td>\n",
              "      <td>2022-06-26 22:20:00</td>\n",
              "      <td>2022-03-22 01:10:00</td>\n",
              "      <td>2h 50m</td>\n",
              "      <td>non-stop</td>\n",
              "      <td>No info</td>\n",
              "      <td>3897</td>\n",
              "      <td>24</td>\n",
              "      <td>3</td>\n",
              "      <td>2019</td>\n",
              "      <td>Sunday</td>\n",
              "    </tr>\n",
              "    <tr>\n",
              "      <th>1</th>\n",
              "      <td>Air India</td>\n",
              "      <td>Kolkata</td>\n",
              "      <td>Banglore</td>\n",
              "      <td>CCU → IXR → BBI → BLR</td>\n",
              "      <td>2022-06-26 05:50:00</td>\n",
              "      <td>2022-06-26 13:15:00</td>\n",
              "      <td>7h 25m</td>\n",
              "      <td>2 stops</td>\n",
              "      <td>No info</td>\n",
              "      <td>7662</td>\n",
              "      <td>5</td>\n",
              "      <td>1</td>\n",
              "      <td>2019</td>\n",
              "      <td>Saturday</td>\n",
              "    </tr>\n",
              "  </tbody>\n",
              "</table>\n",
              "</div>\n",
              "      <button class=\"colab-df-convert\" onclick=\"convertToInteractive('df-d27f1adc-6508-47fa-b755-5a2a14e2904c')\"\n",
              "              title=\"Convert this dataframe to an interactive table.\"\n",
              "              style=\"display:none;\">\n",
              "        \n",
              "  <svg xmlns=\"http://www.w3.org/2000/svg\" height=\"24px\"viewBox=\"0 0 24 24\"\n",
              "       width=\"24px\">\n",
              "    <path d=\"M0 0h24v24H0V0z\" fill=\"none\"/>\n",
              "    <path d=\"M18.56 5.44l.94 2.06.94-2.06 2.06-.94-2.06-.94-.94-2.06-.94 2.06-2.06.94zm-11 1L8.5 8.5l.94-2.06 2.06-.94-2.06-.94L8.5 2.5l-.94 2.06-2.06.94zm10 10l.94 2.06.94-2.06 2.06-.94-2.06-.94-.94-2.06-.94 2.06-2.06.94z\"/><path d=\"M17.41 7.96l-1.37-1.37c-.4-.4-.92-.59-1.43-.59-.52 0-1.04.2-1.43.59L10.3 9.45l-7.72 7.72c-.78.78-.78 2.05 0 2.83L4 21.41c.39.39.9.59 1.41.59.51 0 1.02-.2 1.41-.59l7.78-7.78 2.81-2.81c.8-.78.8-2.07 0-2.86zM5.41 20L4 18.59l7.72-7.72 1.47 1.35L5.41 20z\"/>\n",
              "  </svg>\n",
              "      </button>\n",
              "      \n",
              "  <style>\n",
              "    .colab-df-container {\n",
              "      display:flex;\n",
              "      flex-wrap:wrap;\n",
              "      gap: 12px;\n",
              "    }\n",
              "\n",
              "    .colab-df-convert {\n",
              "      background-color: #E8F0FE;\n",
              "      border: none;\n",
              "      border-radius: 50%;\n",
              "      cursor: pointer;\n",
              "      display: none;\n",
              "      fill: #1967D2;\n",
              "      height: 32px;\n",
              "      padding: 0 0 0 0;\n",
              "      width: 32px;\n",
              "    }\n",
              "\n",
              "    .colab-df-convert:hover {\n",
              "      background-color: #E2EBFA;\n",
              "      box-shadow: 0px 1px 2px rgba(60, 64, 67, 0.3), 0px 1px 3px 1px rgba(60, 64, 67, 0.15);\n",
              "      fill: #174EA6;\n",
              "    }\n",
              "\n",
              "    [theme=dark] .colab-df-convert {\n",
              "      background-color: #3B4455;\n",
              "      fill: #D2E3FC;\n",
              "    }\n",
              "\n",
              "    [theme=dark] .colab-df-convert:hover {\n",
              "      background-color: #434B5C;\n",
              "      box-shadow: 0px 1px 3px 1px rgba(0, 0, 0, 0.15);\n",
              "      filter: drop-shadow(0px 1px 2px rgba(0, 0, 0, 0.3));\n",
              "      fill: #FFFFFF;\n",
              "    }\n",
              "  </style>\n",
              "\n",
              "      <script>\n",
              "        const buttonEl =\n",
              "          document.querySelector('#df-d27f1adc-6508-47fa-b755-5a2a14e2904c button.colab-df-convert');\n",
              "        buttonEl.style.display =\n",
              "          google.colab.kernel.accessAllowed ? 'block' : 'none';\n",
              "\n",
              "        async function convertToInteractive(key) {\n",
              "          const element = document.querySelector('#df-d27f1adc-6508-47fa-b755-5a2a14e2904c');\n",
              "          const dataTable =\n",
              "            await google.colab.kernel.invokeFunction('convertToInteractive',\n",
              "                                                     [key], {});\n",
              "          if (!dataTable) return;\n",
              "\n",
              "          const docLinkHtml = 'Like what you see? Visit the ' +\n",
              "            '<a target=\"_blank\" href=https://colab.research.google.com/notebooks/data_table.ipynb>data table notebook</a>'\n",
              "            + ' to learn more about interactive tables.';\n",
              "          element.innerHTML = '';\n",
              "          dataTable['output_type'] = 'display_data';\n",
              "          await google.colab.output.renderOutput(dataTable, element);\n",
              "          const docLink = document.createElement('div');\n",
              "          docLink.innerHTML = docLinkHtml;\n",
              "          element.appendChild(docLink);\n",
              "        }\n",
              "      </script>\n",
              "    </div>\n",
              "  </div>\n",
              "  "
            ]
          },
          "metadata": {},
          "execution_count": 109
        }
      ],
      "source": [
        "df.drop('Date_of_Journey', axis=1, inplace=True)\n",
        "df.head(2)"
      ],
      "id": "817b58ad"
    },
    {
      "cell_type": "code",
      "execution_count": null,
      "metadata": {
        "id": "573c67db"
      },
      "outputs": [],
      "source": [
        "#storing hour and minute in 2 columns\n",
        "df['dep_time_hr']=df['Dep_Time'].dt.hour\n",
        "df['dep_time_min']=df['Dep_Time'].dt.minute"
      ],
      "id": "573c67db"
    },
    {
      "cell_type": "code",
      "execution_count": null,
      "metadata": {
        "id": "0cf263f8"
      },
      "outputs": [],
      "source": [
        "df['arr_time_hr']=df['Arrival_Time'].dt.hour\n",
        "df['arr_time_min']=df['Arrival_Time'].dt.minute"
      ],
      "id": "0cf263f8"
    },
    {
      "cell_type": "code",
      "execution_count": null,
      "metadata": {
        "id": "0b5e4ac0"
      },
      "outputs": [],
      "source": [
        "df.drop('Dep_Time',axis=1,inplace=True)"
      ],
      "id": "0b5e4ac0"
    },
    {
      "cell_type": "code",
      "execution_count": null,
      "metadata": {
        "id": "385c74bb"
      },
      "outputs": [],
      "source": [
        "df.drop('Arrival_Time',axis=1,inplace=True)"
      ],
      "id": "385c74bb"
    },
    {
      "cell_type": "code",
      "execution_count": null,
      "metadata": {
        "colab": {
          "base_uri": "https://localhost:8080/",
          "height": 315
        },
        "id": "1d68927c",
        "outputId": "68df8a39-175d-4df7-dd96-e42adec2f14a"
      },
      "outputs": [
        {
          "output_type": "execute_result",
          "data": {
            "text/plain": [
              "     Airline    Source Destination                  Route Duration  \\\n",
              "0     IndiGo  Banglore   New Delhi              BLR → DEL   2h 50m   \n",
              "1  Air India   Kolkata    Banglore  CCU → IXR → BBI → BLR   7h 25m   \n",
              "\n",
              "  Total_Stops Additional_Info  Price  journey_day  journey_month  \\\n",
              "0    non-stop         No info   3897           24              3   \n",
              "1     2 stops         No info   7662            5              1   \n",
              "\n",
              "   journey_year day_of_week  dep_time_hr  dep_time_min  arr_time_hr  \\\n",
              "0          2019      Sunday           22            20            1   \n",
              "1          2019    Saturday            5            50           13   \n",
              "\n",
              "   arr_time_min  \n",
              "0            10  \n",
              "1            15  "
            ],
            "text/html": [
              "\n",
              "  <div id=\"df-e7d95b71-eaa9-46d0-9b5e-51e11afb3fc0\">\n",
              "    <div class=\"colab-df-container\">\n",
              "      <div>\n",
              "<style scoped>\n",
              "    .dataframe tbody tr th:only-of-type {\n",
              "        vertical-align: middle;\n",
              "    }\n",
              "\n",
              "    .dataframe tbody tr th {\n",
              "        vertical-align: top;\n",
              "    }\n",
              "\n",
              "    .dataframe thead th {\n",
              "        text-align: right;\n",
              "    }\n",
              "</style>\n",
              "<table border=\"1\" class=\"dataframe\">\n",
              "  <thead>\n",
              "    <tr style=\"text-align: right;\">\n",
              "      <th></th>\n",
              "      <th>Airline</th>\n",
              "      <th>Source</th>\n",
              "      <th>Destination</th>\n",
              "      <th>Route</th>\n",
              "      <th>Duration</th>\n",
              "      <th>Total_Stops</th>\n",
              "      <th>Additional_Info</th>\n",
              "      <th>Price</th>\n",
              "      <th>journey_day</th>\n",
              "      <th>journey_month</th>\n",
              "      <th>journey_year</th>\n",
              "      <th>day_of_week</th>\n",
              "      <th>dep_time_hr</th>\n",
              "      <th>dep_time_min</th>\n",
              "      <th>arr_time_hr</th>\n",
              "      <th>arr_time_min</th>\n",
              "    </tr>\n",
              "  </thead>\n",
              "  <tbody>\n",
              "    <tr>\n",
              "      <th>0</th>\n",
              "      <td>IndiGo</td>\n",
              "      <td>Banglore</td>\n",
              "      <td>New Delhi</td>\n",
              "      <td>BLR → DEL</td>\n",
              "      <td>2h 50m</td>\n",
              "      <td>non-stop</td>\n",
              "      <td>No info</td>\n",
              "      <td>3897</td>\n",
              "      <td>24</td>\n",
              "      <td>3</td>\n",
              "      <td>2019</td>\n",
              "      <td>Sunday</td>\n",
              "      <td>22</td>\n",
              "      <td>20</td>\n",
              "      <td>1</td>\n",
              "      <td>10</td>\n",
              "    </tr>\n",
              "    <tr>\n",
              "      <th>1</th>\n",
              "      <td>Air India</td>\n",
              "      <td>Kolkata</td>\n",
              "      <td>Banglore</td>\n",
              "      <td>CCU → IXR → BBI → BLR</td>\n",
              "      <td>7h 25m</td>\n",
              "      <td>2 stops</td>\n",
              "      <td>No info</td>\n",
              "      <td>7662</td>\n",
              "      <td>5</td>\n",
              "      <td>1</td>\n",
              "      <td>2019</td>\n",
              "      <td>Saturday</td>\n",
              "      <td>5</td>\n",
              "      <td>50</td>\n",
              "      <td>13</td>\n",
              "      <td>15</td>\n",
              "    </tr>\n",
              "  </tbody>\n",
              "</table>\n",
              "</div>\n",
              "      <button class=\"colab-df-convert\" onclick=\"convertToInteractive('df-e7d95b71-eaa9-46d0-9b5e-51e11afb3fc0')\"\n",
              "              title=\"Convert this dataframe to an interactive table.\"\n",
              "              style=\"display:none;\">\n",
              "        \n",
              "  <svg xmlns=\"http://www.w3.org/2000/svg\" height=\"24px\"viewBox=\"0 0 24 24\"\n",
              "       width=\"24px\">\n",
              "    <path d=\"M0 0h24v24H0V0z\" fill=\"none\"/>\n",
              "    <path d=\"M18.56 5.44l.94 2.06.94-2.06 2.06-.94-2.06-.94-.94-2.06-.94 2.06-2.06.94zm-11 1L8.5 8.5l.94-2.06 2.06-.94-2.06-.94L8.5 2.5l-.94 2.06-2.06.94zm10 10l.94 2.06.94-2.06 2.06-.94-2.06-.94-.94-2.06-.94 2.06-2.06.94z\"/><path d=\"M17.41 7.96l-1.37-1.37c-.4-.4-.92-.59-1.43-.59-.52 0-1.04.2-1.43.59L10.3 9.45l-7.72 7.72c-.78.78-.78 2.05 0 2.83L4 21.41c.39.39.9.59 1.41.59.51 0 1.02-.2 1.41-.59l7.78-7.78 2.81-2.81c.8-.78.8-2.07 0-2.86zM5.41 20L4 18.59l7.72-7.72 1.47 1.35L5.41 20z\"/>\n",
              "  </svg>\n",
              "      </button>\n",
              "      \n",
              "  <style>\n",
              "    .colab-df-container {\n",
              "      display:flex;\n",
              "      flex-wrap:wrap;\n",
              "      gap: 12px;\n",
              "    }\n",
              "\n",
              "    .colab-df-convert {\n",
              "      background-color: #E8F0FE;\n",
              "      border: none;\n",
              "      border-radius: 50%;\n",
              "      cursor: pointer;\n",
              "      display: none;\n",
              "      fill: #1967D2;\n",
              "      height: 32px;\n",
              "      padding: 0 0 0 0;\n",
              "      width: 32px;\n",
              "    }\n",
              "\n",
              "    .colab-df-convert:hover {\n",
              "      background-color: #E2EBFA;\n",
              "      box-shadow: 0px 1px 2px rgba(60, 64, 67, 0.3), 0px 1px 3px 1px rgba(60, 64, 67, 0.15);\n",
              "      fill: #174EA6;\n",
              "    }\n",
              "\n",
              "    [theme=dark] .colab-df-convert {\n",
              "      background-color: #3B4455;\n",
              "      fill: #D2E3FC;\n",
              "    }\n",
              "\n",
              "    [theme=dark] .colab-df-convert:hover {\n",
              "      background-color: #434B5C;\n",
              "      box-shadow: 0px 1px 3px 1px rgba(0, 0, 0, 0.15);\n",
              "      filter: drop-shadow(0px 1px 2px rgba(0, 0, 0, 0.3));\n",
              "      fill: #FFFFFF;\n",
              "    }\n",
              "  </style>\n",
              "\n",
              "      <script>\n",
              "        const buttonEl =\n",
              "          document.querySelector('#df-e7d95b71-eaa9-46d0-9b5e-51e11afb3fc0 button.colab-df-convert');\n",
              "        buttonEl.style.display =\n",
              "          google.colab.kernel.accessAllowed ? 'block' : 'none';\n",
              "\n",
              "        async function convertToInteractive(key) {\n",
              "          const element = document.querySelector('#df-e7d95b71-eaa9-46d0-9b5e-51e11afb3fc0');\n",
              "          const dataTable =\n",
              "            await google.colab.kernel.invokeFunction('convertToInteractive',\n",
              "                                                     [key], {});\n",
              "          if (!dataTable) return;\n",
              "\n",
              "          const docLinkHtml = 'Like what you see? Visit the ' +\n",
              "            '<a target=\"_blank\" href=https://colab.research.google.com/notebooks/data_table.ipynb>data table notebook</a>'\n",
              "            + ' to learn more about interactive tables.';\n",
              "          element.innerHTML = '';\n",
              "          dataTable['output_type'] = 'display_data';\n",
              "          await google.colab.output.renderOutput(dataTable, element);\n",
              "          const docLink = document.createElement('div');\n",
              "          docLink.innerHTML = docLinkHtml;\n",
              "          element.appendChild(docLink);\n",
              "        }\n",
              "      </script>\n",
              "    </div>\n",
              "  </div>\n",
              "  "
            ]
          },
          "metadata": {},
          "execution_count": 114
        }
      ],
      "source": [
        "df.head(2)"
      ],
      "id": "1d68927c"
    },
    {
      "cell_type": "code",
      "execution_count": null,
      "metadata": {
        "id": "f9b6a51f"
      },
      "outputs": [],
      "source": [
        "#Duration column in splitted into hours and minutes in two new columns\n",
        "df[['dur_hr', 'dur_min']] = df['Duration'].str.split(' ', 1,expand=True)"
      ],
      "id": "f9b6a51f"
    },
    {
      "cell_type": "code",
      "execution_count": null,
      "metadata": {
        "id": "f0dd411c"
      },
      "outputs": [],
      "source": [
        "df.drop('Duration',axis=1,inplace=True)"
      ],
      "id": "f0dd411c"
    },
    {
      "cell_type": "code",
      "execution_count": null,
      "metadata": {
        "colab": {
          "base_uri": "https://localhost:8080/",
          "height": 652
        },
        "id": "23bf4aa0",
        "outputId": "2002ae85-f6a0-456d-e7fe-b97545d9bd59"
      },
      "outputs": [
        {
          "output_type": "execute_result",
          "data": {
            "text/plain": [
              "       Airline    Source Destination                  Route Total_Stops  \\\n",
              "0       IndiGo  Banglore   New Delhi              BLR → DEL    non-stop   \n",
              "1    Air India   Kolkata    Banglore  CCU → IXR → BBI → BLR     2 stops   \n",
              "2  Jet Airways     Delhi      Cochin  DEL → LKO → BOM → COK     2 stops   \n",
              "3       IndiGo   Kolkata    Banglore        CCU → NAG → BLR      1 stop   \n",
              "4       IndiGo  Banglore   New Delhi        BLR → NAG → DEL      1 stop   \n",
              "\n",
              "  Additional_Info  Price  journey_day  journey_month  journey_year  \\\n",
              "0         No info   3897           24              3          2019   \n",
              "1         No info   7662            5              1          2019   \n",
              "2         No info  13882            6              9          2019   \n",
              "3         No info   6218            5             12          2019   \n",
              "4         No info  13302            3              1          2019   \n",
              "\n",
              "  day_of_week  dep_time_hr  dep_time_min  arr_time_hr  arr_time_min dur_hr  \\\n",
              "0      Sunday           22            20            1            10     2h   \n",
              "1    Saturday            5            50           13            15     7h   \n",
              "2      Friday            9            25            4            25    19h   \n",
              "3    Thursday           18             5           23            30     5h   \n",
              "4    Thursday           16            50           21            35     4h   \n",
              "\n",
              "  dur_min  \n",
              "0     50m  \n",
              "1     25m  \n",
              "2    None  \n",
              "3     25m  \n",
              "4     45m  "
            ],
            "text/html": [
              "\n",
              "  <div id=\"df-3e5cf579-c467-4e2d-b7e6-6e6f6cd73d2c\">\n",
              "    <div class=\"colab-df-container\">\n",
              "      <div>\n",
              "<style scoped>\n",
              "    .dataframe tbody tr th:only-of-type {\n",
              "        vertical-align: middle;\n",
              "    }\n",
              "\n",
              "    .dataframe tbody tr th {\n",
              "        vertical-align: top;\n",
              "    }\n",
              "\n",
              "    .dataframe thead th {\n",
              "        text-align: right;\n",
              "    }\n",
              "</style>\n",
              "<table border=\"1\" class=\"dataframe\">\n",
              "  <thead>\n",
              "    <tr style=\"text-align: right;\">\n",
              "      <th></th>\n",
              "      <th>Airline</th>\n",
              "      <th>Source</th>\n",
              "      <th>Destination</th>\n",
              "      <th>Route</th>\n",
              "      <th>Total_Stops</th>\n",
              "      <th>Additional_Info</th>\n",
              "      <th>Price</th>\n",
              "      <th>journey_day</th>\n",
              "      <th>journey_month</th>\n",
              "      <th>journey_year</th>\n",
              "      <th>day_of_week</th>\n",
              "      <th>dep_time_hr</th>\n",
              "      <th>dep_time_min</th>\n",
              "      <th>arr_time_hr</th>\n",
              "      <th>arr_time_min</th>\n",
              "      <th>dur_hr</th>\n",
              "      <th>dur_min</th>\n",
              "    </tr>\n",
              "  </thead>\n",
              "  <tbody>\n",
              "    <tr>\n",
              "      <th>0</th>\n",
              "      <td>IndiGo</td>\n",
              "      <td>Banglore</td>\n",
              "      <td>New Delhi</td>\n",
              "      <td>BLR → DEL</td>\n",
              "      <td>non-stop</td>\n",
              "      <td>No info</td>\n",
              "      <td>3897</td>\n",
              "      <td>24</td>\n",
              "      <td>3</td>\n",
              "      <td>2019</td>\n",
              "      <td>Sunday</td>\n",
              "      <td>22</td>\n",
              "      <td>20</td>\n",
              "      <td>1</td>\n",
              "      <td>10</td>\n",
              "      <td>2h</td>\n",
              "      <td>50m</td>\n",
              "    </tr>\n",
              "    <tr>\n",
              "      <th>1</th>\n",
              "      <td>Air India</td>\n",
              "      <td>Kolkata</td>\n",
              "      <td>Banglore</td>\n",
              "      <td>CCU → IXR → BBI → BLR</td>\n",
              "      <td>2 stops</td>\n",
              "      <td>No info</td>\n",
              "      <td>7662</td>\n",
              "      <td>5</td>\n",
              "      <td>1</td>\n",
              "      <td>2019</td>\n",
              "      <td>Saturday</td>\n",
              "      <td>5</td>\n",
              "      <td>50</td>\n",
              "      <td>13</td>\n",
              "      <td>15</td>\n",
              "      <td>7h</td>\n",
              "      <td>25m</td>\n",
              "    </tr>\n",
              "    <tr>\n",
              "      <th>2</th>\n",
              "      <td>Jet Airways</td>\n",
              "      <td>Delhi</td>\n",
              "      <td>Cochin</td>\n",
              "      <td>DEL → LKO → BOM → COK</td>\n",
              "      <td>2 stops</td>\n",
              "      <td>No info</td>\n",
              "      <td>13882</td>\n",
              "      <td>6</td>\n",
              "      <td>9</td>\n",
              "      <td>2019</td>\n",
              "      <td>Friday</td>\n",
              "      <td>9</td>\n",
              "      <td>25</td>\n",
              "      <td>4</td>\n",
              "      <td>25</td>\n",
              "      <td>19h</td>\n",
              "      <td>None</td>\n",
              "    </tr>\n",
              "    <tr>\n",
              "      <th>3</th>\n",
              "      <td>IndiGo</td>\n",
              "      <td>Kolkata</td>\n",
              "      <td>Banglore</td>\n",
              "      <td>CCU → NAG → BLR</td>\n",
              "      <td>1 stop</td>\n",
              "      <td>No info</td>\n",
              "      <td>6218</td>\n",
              "      <td>5</td>\n",
              "      <td>12</td>\n",
              "      <td>2019</td>\n",
              "      <td>Thursday</td>\n",
              "      <td>18</td>\n",
              "      <td>5</td>\n",
              "      <td>23</td>\n",
              "      <td>30</td>\n",
              "      <td>5h</td>\n",
              "      <td>25m</td>\n",
              "    </tr>\n",
              "    <tr>\n",
              "      <th>4</th>\n",
              "      <td>IndiGo</td>\n",
              "      <td>Banglore</td>\n",
              "      <td>New Delhi</td>\n",
              "      <td>BLR → NAG → DEL</td>\n",
              "      <td>1 stop</td>\n",
              "      <td>No info</td>\n",
              "      <td>13302</td>\n",
              "      <td>3</td>\n",
              "      <td>1</td>\n",
              "      <td>2019</td>\n",
              "      <td>Thursday</td>\n",
              "      <td>16</td>\n",
              "      <td>50</td>\n",
              "      <td>21</td>\n",
              "      <td>35</td>\n",
              "      <td>4h</td>\n",
              "      <td>45m</td>\n",
              "    </tr>\n",
              "  </tbody>\n",
              "</table>\n",
              "</div>\n",
              "      <button class=\"colab-df-convert\" onclick=\"convertToInteractive('df-3e5cf579-c467-4e2d-b7e6-6e6f6cd73d2c')\"\n",
              "              title=\"Convert this dataframe to an interactive table.\"\n",
              "              style=\"display:none;\">\n",
              "        \n",
              "  <svg xmlns=\"http://www.w3.org/2000/svg\" height=\"24px\"viewBox=\"0 0 24 24\"\n",
              "       width=\"24px\">\n",
              "    <path d=\"M0 0h24v24H0V0z\" fill=\"none\"/>\n",
              "    <path d=\"M18.56 5.44l.94 2.06.94-2.06 2.06-.94-2.06-.94-.94-2.06-.94 2.06-2.06.94zm-11 1L8.5 8.5l.94-2.06 2.06-.94-2.06-.94L8.5 2.5l-.94 2.06-2.06.94zm10 10l.94 2.06.94-2.06 2.06-.94-2.06-.94-.94-2.06-.94 2.06-2.06.94z\"/><path d=\"M17.41 7.96l-1.37-1.37c-.4-.4-.92-.59-1.43-.59-.52 0-1.04.2-1.43.59L10.3 9.45l-7.72 7.72c-.78.78-.78 2.05 0 2.83L4 21.41c.39.39.9.59 1.41.59.51 0 1.02-.2 1.41-.59l7.78-7.78 2.81-2.81c.8-.78.8-2.07 0-2.86zM5.41 20L4 18.59l7.72-7.72 1.47 1.35L5.41 20z\"/>\n",
              "  </svg>\n",
              "      </button>\n",
              "      \n",
              "  <style>\n",
              "    .colab-df-container {\n",
              "      display:flex;\n",
              "      flex-wrap:wrap;\n",
              "      gap: 12px;\n",
              "    }\n",
              "\n",
              "    .colab-df-convert {\n",
              "      background-color: #E8F0FE;\n",
              "      border: none;\n",
              "      border-radius: 50%;\n",
              "      cursor: pointer;\n",
              "      display: none;\n",
              "      fill: #1967D2;\n",
              "      height: 32px;\n",
              "      padding: 0 0 0 0;\n",
              "      width: 32px;\n",
              "    }\n",
              "\n",
              "    .colab-df-convert:hover {\n",
              "      background-color: #E2EBFA;\n",
              "      box-shadow: 0px 1px 2px rgba(60, 64, 67, 0.3), 0px 1px 3px 1px rgba(60, 64, 67, 0.15);\n",
              "      fill: #174EA6;\n",
              "    }\n",
              "\n",
              "    [theme=dark] .colab-df-convert {\n",
              "      background-color: #3B4455;\n",
              "      fill: #D2E3FC;\n",
              "    }\n",
              "\n",
              "    [theme=dark] .colab-df-convert:hover {\n",
              "      background-color: #434B5C;\n",
              "      box-shadow: 0px 1px 3px 1px rgba(0, 0, 0, 0.15);\n",
              "      filter: drop-shadow(0px 1px 2px rgba(0, 0, 0, 0.3));\n",
              "      fill: #FFFFFF;\n",
              "    }\n",
              "  </style>\n",
              "\n",
              "      <script>\n",
              "        const buttonEl =\n",
              "          document.querySelector('#df-3e5cf579-c467-4e2d-b7e6-6e6f6cd73d2c button.colab-df-convert');\n",
              "        buttonEl.style.display =\n",
              "          google.colab.kernel.accessAllowed ? 'block' : 'none';\n",
              "\n",
              "        async function convertToInteractive(key) {\n",
              "          const element = document.querySelector('#df-3e5cf579-c467-4e2d-b7e6-6e6f6cd73d2c');\n",
              "          const dataTable =\n",
              "            await google.colab.kernel.invokeFunction('convertToInteractive',\n",
              "                                                     [key], {});\n",
              "          if (!dataTable) return;\n",
              "\n",
              "          const docLinkHtml = 'Like what you see? Visit the ' +\n",
              "            '<a target=\"_blank\" href=https://colab.research.google.com/notebooks/data_table.ipynb>data table notebook</a>'\n",
              "            + ' to learn more about interactive tables.';\n",
              "          element.innerHTML = '';\n",
              "          dataTable['output_type'] = 'display_data';\n",
              "          await google.colab.output.renderOutput(dataTable, element);\n",
              "          const docLink = document.createElement('div');\n",
              "          docLink.innerHTML = docLinkHtml;\n",
              "          element.appendChild(docLink);\n",
              "        }\n",
              "      </script>\n",
              "    </div>\n",
              "  </div>\n",
              "  "
            ]
          },
          "metadata": {},
          "execution_count": 117
        }
      ],
      "source": [
        "df.head()"
      ],
      "id": "23bf4aa0"
    },
    {
      "cell_type": "code",
      "execution_count": null,
      "metadata": {
        "id": "0d307b33"
      },
      "outputs": [],
      "source": [
        "#extracting only the number and removing the 'h' from hour to convert it to numeric column\n",
        "for i in range(df.shape[0]):\n",
        "    df['dur_hr'].iloc[i]=df['dur_hr'].iloc[i][:-1]\n",
        "    "
      ],
      "id": "0d307b33"
    },
    {
      "cell_type": "code",
      "execution_count": null,
      "metadata": {
        "id": "44544b28"
      },
      "outputs": [],
      "source": [
        "df['dur_min'].fillna(0,inplace=True) #replacing any null value with 0\n",
        "        "
      ],
      "id": "44544b28"
    },
    {
      "cell_type": "code",
      "execution_count": null,
      "metadata": {
        "id": "3a321766"
      },
      "outputs": [],
      "source": [
        "#similarly, minute column is converted to numeric\n",
        "for i in range(df.shape[0]):\n",
        "    if(df['dur_min'].iloc[i]!=0):\n",
        "        df['dur_min'].iloc[i]=df['dur_min'].iloc[i][:-1]\n",
        "    else:\n",
        "        df['dur_min'].iloc[i]=0"
      ],
      "id": "3a321766"
    },
    {
      "cell_type": "code",
      "execution_count": null,
      "metadata": {
        "colab": {
          "base_uri": "https://localhost:8080/",
          "height": 450
        },
        "id": "ea3dedd1",
        "outputId": "2cfd483e-aa53-4d9d-b523-a12a92ea0908"
      },
      "outputs": [
        {
          "output_type": "execute_result",
          "data": {
            "text/plain": [
              "       Airline    Source Destination                  Route Total_Stops  \\\n",
              "0       IndiGo  Banglore   New Delhi              BLR → DEL    non-stop   \n",
              "1    Air India   Kolkata    Banglore  CCU → IXR → BBI → BLR     2 stops   \n",
              "2  Jet Airways     Delhi      Cochin  DEL → LKO → BOM → COK     2 stops   \n",
              "\n",
              "  Additional_Info  Price  journey_day  journey_month  journey_year  \\\n",
              "0         No info   3897           24              3          2019   \n",
              "1         No info   7662            5              1          2019   \n",
              "2         No info  13882            6              9          2019   \n",
              "\n",
              "  day_of_week  dep_time_hr  dep_time_min  arr_time_hr  arr_time_min dur_hr  \\\n",
              "0      Sunday           22            20            1            10      2   \n",
              "1    Saturday            5            50           13            15      7   \n",
              "2      Friday            9            25            4            25     19   \n",
              "\n",
              "  dur_min  \n",
              "0      50  \n",
              "1      25  \n",
              "2       0  "
            ],
            "text/html": [
              "\n",
              "  <div id=\"df-fb1a2fe3-c6d1-4ded-a495-54a950aa7090\">\n",
              "    <div class=\"colab-df-container\">\n",
              "      <div>\n",
              "<style scoped>\n",
              "    .dataframe tbody tr th:only-of-type {\n",
              "        vertical-align: middle;\n",
              "    }\n",
              "\n",
              "    .dataframe tbody tr th {\n",
              "        vertical-align: top;\n",
              "    }\n",
              "\n",
              "    .dataframe thead th {\n",
              "        text-align: right;\n",
              "    }\n",
              "</style>\n",
              "<table border=\"1\" class=\"dataframe\">\n",
              "  <thead>\n",
              "    <tr style=\"text-align: right;\">\n",
              "      <th></th>\n",
              "      <th>Airline</th>\n",
              "      <th>Source</th>\n",
              "      <th>Destination</th>\n",
              "      <th>Route</th>\n",
              "      <th>Total_Stops</th>\n",
              "      <th>Additional_Info</th>\n",
              "      <th>Price</th>\n",
              "      <th>journey_day</th>\n",
              "      <th>journey_month</th>\n",
              "      <th>journey_year</th>\n",
              "      <th>day_of_week</th>\n",
              "      <th>dep_time_hr</th>\n",
              "      <th>dep_time_min</th>\n",
              "      <th>arr_time_hr</th>\n",
              "      <th>arr_time_min</th>\n",
              "      <th>dur_hr</th>\n",
              "      <th>dur_min</th>\n",
              "    </tr>\n",
              "  </thead>\n",
              "  <tbody>\n",
              "    <tr>\n",
              "      <th>0</th>\n",
              "      <td>IndiGo</td>\n",
              "      <td>Banglore</td>\n",
              "      <td>New Delhi</td>\n",
              "      <td>BLR → DEL</td>\n",
              "      <td>non-stop</td>\n",
              "      <td>No info</td>\n",
              "      <td>3897</td>\n",
              "      <td>24</td>\n",
              "      <td>3</td>\n",
              "      <td>2019</td>\n",
              "      <td>Sunday</td>\n",
              "      <td>22</td>\n",
              "      <td>20</td>\n",
              "      <td>1</td>\n",
              "      <td>10</td>\n",
              "      <td>2</td>\n",
              "      <td>50</td>\n",
              "    </tr>\n",
              "    <tr>\n",
              "      <th>1</th>\n",
              "      <td>Air India</td>\n",
              "      <td>Kolkata</td>\n",
              "      <td>Banglore</td>\n",
              "      <td>CCU → IXR → BBI → BLR</td>\n",
              "      <td>2 stops</td>\n",
              "      <td>No info</td>\n",
              "      <td>7662</td>\n",
              "      <td>5</td>\n",
              "      <td>1</td>\n",
              "      <td>2019</td>\n",
              "      <td>Saturday</td>\n",
              "      <td>5</td>\n",
              "      <td>50</td>\n",
              "      <td>13</td>\n",
              "      <td>15</td>\n",
              "      <td>7</td>\n",
              "      <td>25</td>\n",
              "    </tr>\n",
              "    <tr>\n",
              "      <th>2</th>\n",
              "      <td>Jet Airways</td>\n",
              "      <td>Delhi</td>\n",
              "      <td>Cochin</td>\n",
              "      <td>DEL → LKO → BOM → COK</td>\n",
              "      <td>2 stops</td>\n",
              "      <td>No info</td>\n",
              "      <td>13882</td>\n",
              "      <td>6</td>\n",
              "      <td>9</td>\n",
              "      <td>2019</td>\n",
              "      <td>Friday</td>\n",
              "      <td>9</td>\n",
              "      <td>25</td>\n",
              "      <td>4</td>\n",
              "      <td>25</td>\n",
              "      <td>19</td>\n",
              "      <td>0</td>\n",
              "    </tr>\n",
              "  </tbody>\n",
              "</table>\n",
              "</div>\n",
              "      <button class=\"colab-df-convert\" onclick=\"convertToInteractive('df-fb1a2fe3-c6d1-4ded-a495-54a950aa7090')\"\n",
              "              title=\"Convert this dataframe to an interactive table.\"\n",
              "              style=\"display:none;\">\n",
              "        \n",
              "  <svg xmlns=\"http://www.w3.org/2000/svg\" height=\"24px\"viewBox=\"0 0 24 24\"\n",
              "       width=\"24px\">\n",
              "    <path d=\"M0 0h24v24H0V0z\" fill=\"none\"/>\n",
              "    <path d=\"M18.56 5.44l.94 2.06.94-2.06 2.06-.94-2.06-.94-.94-2.06-.94 2.06-2.06.94zm-11 1L8.5 8.5l.94-2.06 2.06-.94-2.06-.94L8.5 2.5l-.94 2.06-2.06.94zm10 10l.94 2.06.94-2.06 2.06-.94-2.06-.94-.94-2.06-.94 2.06-2.06.94z\"/><path d=\"M17.41 7.96l-1.37-1.37c-.4-.4-.92-.59-1.43-.59-.52 0-1.04.2-1.43.59L10.3 9.45l-7.72 7.72c-.78.78-.78 2.05 0 2.83L4 21.41c.39.39.9.59 1.41.59.51 0 1.02-.2 1.41-.59l7.78-7.78 2.81-2.81c.8-.78.8-2.07 0-2.86zM5.41 20L4 18.59l7.72-7.72 1.47 1.35L5.41 20z\"/>\n",
              "  </svg>\n",
              "      </button>\n",
              "      \n",
              "  <style>\n",
              "    .colab-df-container {\n",
              "      display:flex;\n",
              "      flex-wrap:wrap;\n",
              "      gap: 12px;\n",
              "    }\n",
              "\n",
              "    .colab-df-convert {\n",
              "      background-color: #E8F0FE;\n",
              "      border: none;\n",
              "      border-radius: 50%;\n",
              "      cursor: pointer;\n",
              "      display: none;\n",
              "      fill: #1967D2;\n",
              "      height: 32px;\n",
              "      padding: 0 0 0 0;\n",
              "      width: 32px;\n",
              "    }\n",
              "\n",
              "    .colab-df-convert:hover {\n",
              "      background-color: #E2EBFA;\n",
              "      box-shadow: 0px 1px 2px rgba(60, 64, 67, 0.3), 0px 1px 3px 1px rgba(60, 64, 67, 0.15);\n",
              "      fill: #174EA6;\n",
              "    }\n",
              "\n",
              "    [theme=dark] .colab-df-convert {\n",
              "      background-color: #3B4455;\n",
              "      fill: #D2E3FC;\n",
              "    }\n",
              "\n",
              "    [theme=dark] .colab-df-convert:hover {\n",
              "      background-color: #434B5C;\n",
              "      box-shadow: 0px 1px 3px 1px rgba(0, 0, 0, 0.15);\n",
              "      filter: drop-shadow(0px 1px 2px rgba(0, 0, 0, 0.3));\n",
              "      fill: #FFFFFF;\n",
              "    }\n",
              "  </style>\n",
              "\n",
              "      <script>\n",
              "        const buttonEl =\n",
              "          document.querySelector('#df-fb1a2fe3-c6d1-4ded-a495-54a950aa7090 button.colab-df-convert');\n",
              "        buttonEl.style.display =\n",
              "          google.colab.kernel.accessAllowed ? 'block' : 'none';\n",
              "\n",
              "        async function convertToInteractive(key) {\n",
              "          const element = document.querySelector('#df-fb1a2fe3-c6d1-4ded-a495-54a950aa7090');\n",
              "          const dataTable =\n",
              "            await google.colab.kernel.invokeFunction('convertToInteractive',\n",
              "                                                     [key], {});\n",
              "          if (!dataTable) return;\n",
              "\n",
              "          const docLinkHtml = 'Like what you see? Visit the ' +\n",
              "            '<a target=\"_blank\" href=https://colab.research.google.com/notebooks/data_table.ipynb>data table notebook</a>'\n",
              "            + ' to learn more about interactive tables.';\n",
              "          element.innerHTML = '';\n",
              "          dataTable['output_type'] = 'display_data';\n",
              "          await google.colab.output.renderOutput(dataTable, element);\n",
              "          const docLink = document.createElement('div');\n",
              "          docLink.innerHTML = docLinkHtml;\n",
              "          element.appendChild(docLink);\n",
              "        }\n",
              "      </script>\n",
              "    </div>\n",
              "  </div>\n",
              "  "
            ]
          },
          "metadata": {},
          "execution_count": 121
        }
      ],
      "source": [
        "df.head(3)"
      ],
      "id": "ea3dedd1"
    },
    {
      "cell_type": "code",
      "execution_count": null,
      "metadata": {
        "colab": {
          "base_uri": "https://localhost:8080/"
        },
        "id": "58afa2a7",
        "outputId": "e49cc3ba-4769-4dec-b9eb-85295da74c8c"
      },
      "outputs": [
        {
          "output_type": "stream",
          "name": "stdout",
          "text": [
            "<class 'pandas.core.frame.DataFrame'>\n",
            "Int64Index: 10682 entries, 0 to 10682\n",
            "Data columns (total 17 columns):\n",
            " #   Column           Non-Null Count  Dtype \n",
            "---  ------           --------------  ----- \n",
            " 0   Airline          10682 non-null  object\n",
            " 1   Source           10682 non-null  object\n",
            " 2   Destination      10682 non-null  object\n",
            " 3   Route            10682 non-null  object\n",
            " 4   Total_Stops      10682 non-null  object\n",
            " 5   Additional_Info  10682 non-null  object\n",
            " 6   Price            10682 non-null  int64 \n",
            " 7   journey_day      10682 non-null  int64 \n",
            " 8   journey_month    10682 non-null  int64 \n",
            " 9   journey_year     10682 non-null  int64 \n",
            " 10  day_of_week      10682 non-null  object\n",
            " 11  dep_time_hr      10682 non-null  int64 \n",
            " 12  dep_time_min     10682 non-null  int64 \n",
            " 13  arr_time_hr      10682 non-null  int64 \n",
            " 14  arr_time_min     10682 non-null  int64 \n",
            " 15  dur_hr           10682 non-null  object\n",
            " 16  dur_min          10682 non-null  object\n",
            "dtypes: int64(8), object(9)\n",
            "memory usage: 1.5+ MB\n"
          ]
        }
      ],
      "source": [
        "df.info()"
      ],
      "id": "58afa2a7"
    },
    {
      "cell_type": "code",
      "execution_count": null,
      "metadata": {
        "id": "c2ef3de4"
      },
      "outputs": [],
      "source": [
        "df['dur_hr']=df['dur_hr'].astype('int64')\n",
        "df['dur_min']=df['dur_min'].astype('int64')"
      ],
      "id": "c2ef3de4"
    },
    {
      "cell_type": "code",
      "execution_count": null,
      "metadata": {
        "id": "3f441b8d"
      },
      "outputs": [],
      "source": [
        "df.drop('journey_day',axis=1,inplace=True)"
      ],
      "id": "3f441b8d"
    },
    {
      "cell_type": "code",
      "execution_count": null,
      "metadata": {
        "id": "ddb70b39"
      },
      "outputs": [],
      "source": [
        "df.drop('journey_year',axis=1,inplace=True)"
      ],
      "id": "ddb70b39"
    },
    {
      "cell_type": "markdown",
      "metadata": {
        "id": "hOGtIEQ0a7HZ"
      },
      "source": [
        "NOTE: We can convert the minutes to hours and add them to the hour column since keeping both might not be meaningful."
      ],
      "id": "hOGtIEQ0a7HZ"
    },
    {
      "cell_type": "code",
      "execution_count": null,
      "metadata": {
        "id": "Xuxp1-A4bD-u"
      },
      "outputs": [],
      "source": [
        "def min_to_hr(col):\n",
        "  df[col]=round(df[col]/60,2)"
      ],
      "id": "Xuxp1-A4bD-u"
    },
    {
      "cell_type": "code",
      "execution_count": null,
      "metadata": {
        "id": "0Arz0yEpbELY"
      },
      "outputs": [],
      "source": [
        "for i in ['dep_time_min','arr_time_min','dur_min']:\n",
        "  min_to_hr(i)"
      ],
      "id": "0Arz0yEpbELY"
    },
    {
      "cell_type": "code",
      "execution_count": null,
      "metadata": {
        "id": "JWGQHLURbEW2"
      },
      "outputs": [],
      "source": [
        "df['dep_time_hr']=df['dep_time_hr']+df['dep_time_min']\n",
        "df['arr_time_hr']=df['arr_time_hr']+df['arr_time_min']\n",
        "df['dur_hr']=df['dur_hr']+df['dur_min']"
      ],
      "id": "JWGQHLURbEW2"
    },
    {
      "cell_type": "code",
      "execution_count": null,
      "metadata": {
        "id": "y5Bvh0xdbMJa"
      },
      "outputs": [],
      "source": [
        "df.drop(['dep_time_min','arr_time_min','dur_min'],axis=1,inplace=True)"
      ],
      "id": "y5Bvh0xdbMJa"
    },
    {
      "cell_type": "code",
      "execution_count": null,
      "metadata": {
        "colab": {
          "base_uri": "https://localhost:8080/",
          "height": 173
        },
        "id": "AdyuurKXbQZ3",
        "outputId": "c063a70b-ca21-4298-bce8-0c75b0ebcc50"
      },
      "outputs": [
        {
          "output_type": "execute_result",
          "data": {
            "text/plain": [
              "     Airline    Source Destination                  Route Total_Stops  \\\n",
              "0     IndiGo  Banglore   New Delhi              BLR → DEL    non-stop   \n",
              "1  Air India   Kolkata    Banglore  CCU → IXR → BBI → BLR     2 stops   \n",
              "\n",
              "  Additional_Info  Price  journey_month day_of_week  dep_time_hr  arr_time_hr  \\\n",
              "0         No info   3897              3      Sunday        22.33         1.17   \n",
              "1         No info   7662              1    Saturday         5.83        13.25   \n",
              "\n",
              "   dur_hr  \n",
              "0    2.83  \n",
              "1    7.42  "
            ],
            "text/html": [
              "\n",
              "  <div id=\"df-34b6edf1-53b5-4e29-aef5-d05148a40cec\">\n",
              "    <div class=\"colab-df-container\">\n",
              "      <div>\n",
              "<style scoped>\n",
              "    .dataframe tbody tr th:only-of-type {\n",
              "        vertical-align: middle;\n",
              "    }\n",
              "\n",
              "    .dataframe tbody tr th {\n",
              "        vertical-align: top;\n",
              "    }\n",
              "\n",
              "    .dataframe thead th {\n",
              "        text-align: right;\n",
              "    }\n",
              "</style>\n",
              "<table border=\"1\" class=\"dataframe\">\n",
              "  <thead>\n",
              "    <tr style=\"text-align: right;\">\n",
              "      <th></th>\n",
              "      <th>Airline</th>\n",
              "      <th>Source</th>\n",
              "      <th>Destination</th>\n",
              "      <th>Route</th>\n",
              "      <th>Total_Stops</th>\n",
              "      <th>Additional_Info</th>\n",
              "      <th>Price</th>\n",
              "      <th>journey_month</th>\n",
              "      <th>day_of_week</th>\n",
              "      <th>dep_time_hr</th>\n",
              "      <th>arr_time_hr</th>\n",
              "      <th>dur_hr</th>\n",
              "    </tr>\n",
              "  </thead>\n",
              "  <tbody>\n",
              "    <tr>\n",
              "      <th>0</th>\n",
              "      <td>IndiGo</td>\n",
              "      <td>Banglore</td>\n",
              "      <td>New Delhi</td>\n",
              "      <td>BLR → DEL</td>\n",
              "      <td>non-stop</td>\n",
              "      <td>No info</td>\n",
              "      <td>3897</td>\n",
              "      <td>3</td>\n",
              "      <td>Sunday</td>\n",
              "      <td>22.33</td>\n",
              "      <td>1.17</td>\n",
              "      <td>2.83</td>\n",
              "    </tr>\n",
              "    <tr>\n",
              "      <th>1</th>\n",
              "      <td>Air India</td>\n",
              "      <td>Kolkata</td>\n",
              "      <td>Banglore</td>\n",
              "      <td>CCU → IXR → BBI → BLR</td>\n",
              "      <td>2 stops</td>\n",
              "      <td>No info</td>\n",
              "      <td>7662</td>\n",
              "      <td>1</td>\n",
              "      <td>Saturday</td>\n",
              "      <td>5.83</td>\n",
              "      <td>13.25</td>\n",
              "      <td>7.42</td>\n",
              "    </tr>\n",
              "  </tbody>\n",
              "</table>\n",
              "</div>\n",
              "      <button class=\"colab-df-convert\" onclick=\"convertToInteractive('df-34b6edf1-53b5-4e29-aef5-d05148a40cec')\"\n",
              "              title=\"Convert this dataframe to an interactive table.\"\n",
              "              style=\"display:none;\">\n",
              "        \n",
              "  <svg xmlns=\"http://www.w3.org/2000/svg\" height=\"24px\"viewBox=\"0 0 24 24\"\n",
              "       width=\"24px\">\n",
              "    <path d=\"M0 0h24v24H0V0z\" fill=\"none\"/>\n",
              "    <path d=\"M18.56 5.44l.94 2.06.94-2.06 2.06-.94-2.06-.94-.94-2.06-.94 2.06-2.06.94zm-11 1L8.5 8.5l.94-2.06 2.06-.94-2.06-.94L8.5 2.5l-.94 2.06-2.06.94zm10 10l.94 2.06.94-2.06 2.06-.94-2.06-.94-.94-2.06-.94 2.06-2.06.94z\"/><path d=\"M17.41 7.96l-1.37-1.37c-.4-.4-.92-.59-1.43-.59-.52 0-1.04.2-1.43.59L10.3 9.45l-7.72 7.72c-.78.78-.78 2.05 0 2.83L4 21.41c.39.39.9.59 1.41.59.51 0 1.02-.2 1.41-.59l7.78-7.78 2.81-2.81c.8-.78.8-2.07 0-2.86zM5.41 20L4 18.59l7.72-7.72 1.47 1.35L5.41 20z\"/>\n",
              "  </svg>\n",
              "      </button>\n",
              "      \n",
              "  <style>\n",
              "    .colab-df-container {\n",
              "      display:flex;\n",
              "      flex-wrap:wrap;\n",
              "      gap: 12px;\n",
              "    }\n",
              "\n",
              "    .colab-df-convert {\n",
              "      background-color: #E8F0FE;\n",
              "      border: none;\n",
              "      border-radius: 50%;\n",
              "      cursor: pointer;\n",
              "      display: none;\n",
              "      fill: #1967D2;\n",
              "      height: 32px;\n",
              "      padding: 0 0 0 0;\n",
              "      width: 32px;\n",
              "    }\n",
              "\n",
              "    .colab-df-convert:hover {\n",
              "      background-color: #E2EBFA;\n",
              "      box-shadow: 0px 1px 2px rgba(60, 64, 67, 0.3), 0px 1px 3px 1px rgba(60, 64, 67, 0.15);\n",
              "      fill: #174EA6;\n",
              "    }\n",
              "\n",
              "    [theme=dark] .colab-df-convert {\n",
              "      background-color: #3B4455;\n",
              "      fill: #D2E3FC;\n",
              "    }\n",
              "\n",
              "    [theme=dark] .colab-df-convert:hover {\n",
              "      background-color: #434B5C;\n",
              "      box-shadow: 0px 1px 3px 1px rgba(0, 0, 0, 0.15);\n",
              "      filter: drop-shadow(0px 1px 2px rgba(0, 0, 0, 0.3));\n",
              "      fill: #FFFFFF;\n",
              "    }\n",
              "  </style>\n",
              "\n",
              "      <script>\n",
              "        const buttonEl =\n",
              "          document.querySelector('#df-34b6edf1-53b5-4e29-aef5-d05148a40cec button.colab-df-convert');\n",
              "        buttonEl.style.display =\n",
              "          google.colab.kernel.accessAllowed ? 'block' : 'none';\n",
              "\n",
              "        async function convertToInteractive(key) {\n",
              "          const element = document.querySelector('#df-34b6edf1-53b5-4e29-aef5-d05148a40cec');\n",
              "          const dataTable =\n",
              "            await google.colab.kernel.invokeFunction('convertToInteractive',\n",
              "                                                     [key], {});\n",
              "          if (!dataTable) return;\n",
              "\n",
              "          const docLinkHtml = 'Like what you see? Visit the ' +\n",
              "            '<a target=\"_blank\" href=https://colab.research.google.com/notebooks/data_table.ipynb>data table notebook</a>'\n",
              "            + ' to learn more about interactive tables.';\n",
              "          element.innerHTML = '';\n",
              "          dataTable['output_type'] = 'display_data';\n",
              "          await google.colab.output.renderOutput(dataTable, element);\n",
              "          const docLink = document.createElement('div');\n",
              "          docLink.innerHTML = docLinkHtml;\n",
              "          element.appendChild(docLink);\n",
              "        }\n",
              "      </script>\n",
              "    </div>\n",
              "  </div>\n",
              "  "
            ]
          },
          "metadata": {},
          "execution_count": 130
        }
      ],
      "source": [
        "df.head(2)"
      ],
      "id": "AdyuurKXbQZ3"
    },
    {
      "cell_type": "code",
      "execution_count": null,
      "metadata": {
        "colab": {
          "base_uri": "https://localhost:8080/"
        },
        "id": "4jZHPqD7bTcz",
        "outputId": "6629bd99-06b7-4110-ffab-e0a22f82ca1c"
      },
      "outputs": [
        {
          "output_type": "execute_result",
          "data": {
            "text/plain": [
              "(10682, 12)"
            ]
          },
          "metadata": {},
          "execution_count": 131
        }
      ],
      "source": [
        "df.shape"
      ],
      "id": "4jZHPqD7bTcz"
    },
    {
      "cell_type": "markdown",
      "metadata": {
        "id": "80d66a09"
      },
      "source": [
        "# EDA"
      ],
      "id": "80d66a09"
    },
    {
      "cell_type": "code",
      "execution_count": null,
      "metadata": {
        "colab": {
          "base_uri": "https://localhost:8080/",
          "height": 300
        },
        "id": "KLKukWdLQXDC",
        "outputId": "c2716460-7e8a-4688-bfaf-5bf59a78c52d"
      },
      "outputs": [
        {
          "output_type": "execute_result",
          "data": {
            "text/plain": [
              "              Price  journey_month   dep_time_hr   arr_time_hr        dur_hr\n",
              "count  10682.000000   10682.000000  10682.000000  10682.000000  10682.000000\n",
              "mean    9087.214567       5.534731     12.897974     13.760563     10.717264\n",
              "std     4611.548810       2.987626      5.749600      6.821889      8.463485\n",
              "min     1759.000000       1.000000      0.330000      0.080000      1.250000\n",
              "25%     5277.000000       3.000000      8.000000      8.750000      2.830000\n",
              "50%     8372.000000       5.000000     11.830000     14.080000      8.670000\n",
              "75%    12373.000000       6.000000     18.080000     19.250000     15.500000\n",
              "max    79512.000000      12.000000     23.920000     23.920000     47.670000"
            ],
            "text/html": [
              "\n",
              "  <div id=\"df-37a3b223-ce43-4187-bafa-8787fd0735e7\">\n",
              "    <div class=\"colab-df-container\">\n",
              "      <div>\n",
              "<style scoped>\n",
              "    .dataframe tbody tr th:only-of-type {\n",
              "        vertical-align: middle;\n",
              "    }\n",
              "\n",
              "    .dataframe tbody tr th {\n",
              "        vertical-align: top;\n",
              "    }\n",
              "\n",
              "    .dataframe thead th {\n",
              "        text-align: right;\n",
              "    }\n",
              "</style>\n",
              "<table border=\"1\" class=\"dataframe\">\n",
              "  <thead>\n",
              "    <tr style=\"text-align: right;\">\n",
              "      <th></th>\n",
              "      <th>Price</th>\n",
              "      <th>journey_month</th>\n",
              "      <th>dep_time_hr</th>\n",
              "      <th>arr_time_hr</th>\n",
              "      <th>dur_hr</th>\n",
              "    </tr>\n",
              "  </thead>\n",
              "  <tbody>\n",
              "    <tr>\n",
              "      <th>count</th>\n",
              "      <td>10682.000000</td>\n",
              "      <td>10682.000000</td>\n",
              "      <td>10682.000000</td>\n",
              "      <td>10682.000000</td>\n",
              "      <td>10682.000000</td>\n",
              "    </tr>\n",
              "    <tr>\n",
              "      <th>mean</th>\n",
              "      <td>9087.214567</td>\n",
              "      <td>5.534731</td>\n",
              "      <td>12.897974</td>\n",
              "      <td>13.760563</td>\n",
              "      <td>10.717264</td>\n",
              "    </tr>\n",
              "    <tr>\n",
              "      <th>std</th>\n",
              "      <td>4611.548810</td>\n",
              "      <td>2.987626</td>\n",
              "      <td>5.749600</td>\n",
              "      <td>6.821889</td>\n",
              "      <td>8.463485</td>\n",
              "    </tr>\n",
              "    <tr>\n",
              "      <th>min</th>\n",
              "      <td>1759.000000</td>\n",
              "      <td>1.000000</td>\n",
              "      <td>0.330000</td>\n",
              "      <td>0.080000</td>\n",
              "      <td>1.250000</td>\n",
              "    </tr>\n",
              "    <tr>\n",
              "      <th>25%</th>\n",
              "      <td>5277.000000</td>\n",
              "      <td>3.000000</td>\n",
              "      <td>8.000000</td>\n",
              "      <td>8.750000</td>\n",
              "      <td>2.830000</td>\n",
              "    </tr>\n",
              "    <tr>\n",
              "      <th>50%</th>\n",
              "      <td>8372.000000</td>\n",
              "      <td>5.000000</td>\n",
              "      <td>11.830000</td>\n",
              "      <td>14.080000</td>\n",
              "      <td>8.670000</td>\n",
              "    </tr>\n",
              "    <tr>\n",
              "      <th>75%</th>\n",
              "      <td>12373.000000</td>\n",
              "      <td>6.000000</td>\n",
              "      <td>18.080000</td>\n",
              "      <td>19.250000</td>\n",
              "      <td>15.500000</td>\n",
              "    </tr>\n",
              "    <tr>\n",
              "      <th>max</th>\n",
              "      <td>79512.000000</td>\n",
              "      <td>12.000000</td>\n",
              "      <td>23.920000</td>\n",
              "      <td>23.920000</td>\n",
              "      <td>47.670000</td>\n",
              "    </tr>\n",
              "  </tbody>\n",
              "</table>\n",
              "</div>\n",
              "      <button class=\"colab-df-convert\" onclick=\"convertToInteractive('df-37a3b223-ce43-4187-bafa-8787fd0735e7')\"\n",
              "              title=\"Convert this dataframe to an interactive table.\"\n",
              "              style=\"display:none;\">\n",
              "        \n",
              "  <svg xmlns=\"http://www.w3.org/2000/svg\" height=\"24px\"viewBox=\"0 0 24 24\"\n",
              "       width=\"24px\">\n",
              "    <path d=\"M0 0h24v24H0V0z\" fill=\"none\"/>\n",
              "    <path d=\"M18.56 5.44l.94 2.06.94-2.06 2.06-.94-2.06-.94-.94-2.06-.94 2.06-2.06.94zm-11 1L8.5 8.5l.94-2.06 2.06-.94-2.06-.94L8.5 2.5l-.94 2.06-2.06.94zm10 10l.94 2.06.94-2.06 2.06-.94-2.06-.94-.94-2.06-.94 2.06-2.06.94z\"/><path d=\"M17.41 7.96l-1.37-1.37c-.4-.4-.92-.59-1.43-.59-.52 0-1.04.2-1.43.59L10.3 9.45l-7.72 7.72c-.78.78-.78 2.05 0 2.83L4 21.41c.39.39.9.59 1.41.59.51 0 1.02-.2 1.41-.59l7.78-7.78 2.81-2.81c.8-.78.8-2.07 0-2.86zM5.41 20L4 18.59l7.72-7.72 1.47 1.35L5.41 20z\"/>\n",
              "  </svg>\n",
              "      </button>\n",
              "      \n",
              "  <style>\n",
              "    .colab-df-container {\n",
              "      display:flex;\n",
              "      flex-wrap:wrap;\n",
              "      gap: 12px;\n",
              "    }\n",
              "\n",
              "    .colab-df-convert {\n",
              "      background-color: #E8F0FE;\n",
              "      border: none;\n",
              "      border-radius: 50%;\n",
              "      cursor: pointer;\n",
              "      display: none;\n",
              "      fill: #1967D2;\n",
              "      height: 32px;\n",
              "      padding: 0 0 0 0;\n",
              "      width: 32px;\n",
              "    }\n",
              "\n",
              "    .colab-df-convert:hover {\n",
              "      background-color: #E2EBFA;\n",
              "      box-shadow: 0px 1px 2px rgba(60, 64, 67, 0.3), 0px 1px 3px 1px rgba(60, 64, 67, 0.15);\n",
              "      fill: #174EA6;\n",
              "    }\n",
              "\n",
              "    [theme=dark] .colab-df-convert {\n",
              "      background-color: #3B4455;\n",
              "      fill: #D2E3FC;\n",
              "    }\n",
              "\n",
              "    [theme=dark] .colab-df-convert:hover {\n",
              "      background-color: #434B5C;\n",
              "      box-shadow: 0px 1px 3px 1px rgba(0, 0, 0, 0.15);\n",
              "      filter: drop-shadow(0px 1px 2px rgba(0, 0, 0, 0.3));\n",
              "      fill: #FFFFFF;\n",
              "    }\n",
              "  </style>\n",
              "\n",
              "      <script>\n",
              "        const buttonEl =\n",
              "          document.querySelector('#df-37a3b223-ce43-4187-bafa-8787fd0735e7 button.colab-df-convert');\n",
              "        buttonEl.style.display =\n",
              "          google.colab.kernel.accessAllowed ? 'block' : 'none';\n",
              "\n",
              "        async function convertToInteractive(key) {\n",
              "          const element = document.querySelector('#df-37a3b223-ce43-4187-bafa-8787fd0735e7');\n",
              "          const dataTable =\n",
              "            await google.colab.kernel.invokeFunction('convertToInteractive',\n",
              "                                                     [key], {});\n",
              "          if (!dataTable) return;\n",
              "\n",
              "          const docLinkHtml = 'Like what you see? Visit the ' +\n",
              "            '<a target=\"_blank\" href=https://colab.research.google.com/notebooks/data_table.ipynb>data table notebook</a>'\n",
              "            + ' to learn more about interactive tables.';\n",
              "          element.innerHTML = '';\n",
              "          dataTable['output_type'] = 'display_data';\n",
              "          await google.colab.output.renderOutput(dataTable, element);\n",
              "          const docLink = document.createElement('div');\n",
              "          docLink.innerHTML = docLinkHtml;\n",
              "          element.appendChild(docLink);\n",
              "        }\n",
              "      </script>\n",
              "    </div>\n",
              "  </div>\n",
              "  "
            ]
          },
          "metadata": {},
          "execution_count": 132
        }
      ],
      "source": [
        "df.describe()"
      ],
      "id": "KLKukWdLQXDC"
    },
    {
      "cell_type": "markdown",
      "metadata": {
        "id": "GLbT5tH9QmcG"
      },
      "source": [
        "NOTE: \n",
        "The flight prices are in the range of 1759 to 79512 with a std of 4611. Mean flight price is 9087 and median is 8372.\n",
        "\n",
        "From the above summary table, we can see that none of the variables are out of bound (for example: hour should be <= 23)"
      ],
      "id": "GLbT5tH9QmcG"
    },
    {
      "cell_type": "code",
      "execution_count": null,
      "metadata": {
        "colab": {
          "base_uri": "https://localhost:8080/",
          "height": 404
        },
        "id": "5f28e48b",
        "outputId": "c13ad0bd-e778-4c5f-ae22-260f4bde1e8c"
      },
      "outputs": [
        {
          "output_type": "execute_result",
          "data": {
            "text/plain": [
              "{'boxes': [<matplotlib.lines.Line2D at 0x7f9e2e57fe50>],\n",
              " 'caps': [<matplotlib.lines.Line2D at 0x7f9e2e576a10>,\n",
              "  <matplotlib.lines.Line2D at 0x7f9e2e576e50>],\n",
              " 'fliers': [<matplotlib.lines.Line2D at 0x7f9e2e566b10>],\n",
              " 'means': [],\n",
              " 'medians': [<matplotlib.lines.Line2D at 0x7f9e2e566a50>],\n",
              " 'whiskers': [<matplotlib.lines.Line2D at 0x7f9e2e57f250>,\n",
              "  <matplotlib.lines.Line2D at 0x7f9e2e175350>]}"
            ]
          },
          "metadata": {},
          "execution_count": 133
        },
        {
          "output_type": "display_data",
          "data": {
            "text/plain": [
              "<Figure size 432x288 with 1 Axes>"
            ],
            "image/png": "[encoded data removed]"
          },
          "metadata": {
            "needs_background": "light"
          }
        }
      ],
      "source": [
        "#to check the distribution of price\n",
        "plt.boxplot(df['Price'],vert=False)"
      ],
      "id": "5f28e48b"
    },
    {
      "cell_type": "markdown",
      "metadata": {
        "id": "9e558f9c"
      },
      "source": [
        "NOTE: The distribution of Price is positively skewed with many outliers.\n",
        "\n",
        "These outliers can affect our analysis of flight fare prediction since flight prices for certain extreme cases might become too high which is not normally the case in general times, therefore, keeping those outliers might affect our predction of the flight prices. Thus, we are removing the outliers here."
      ],
      "id": "9e558f9c"
    },
    {
      "cell_type": "markdown",
      "metadata": {
        "id": "eA3u0-RglR4M"
      },
      "source": [
        "# OUTLIER REMOVAL"
      ],
      "id": "eA3u0-RglR4M"
    },
    {
      "cell_type": "code",
      "execution_count": null,
      "metadata": {
        "id": "lmi14ubelWYr"
      },
      "outputs": [],
      "source": [
        "#function to remove outliers\n",
        "def outlier_removal(dataframe, dataframe2, limit = 3):\n",
        "        \n",
        "    for col in dataframe2:           # This is for the variables to be treated from upper right whisker\n",
        "        rw = limit*(dataframe[col].quantile(0.75) - dataframe[col].quantile(0.25)) + dataframe[col].quantile(0.75)\n",
        "        lw = dataframe[col].quantile(0.25)-(limit*(dataframe[col].quantile(0.75) - dataframe[col].quantile(0.25)))\n",
        "        dataframe = dataframe[~(dataframe[col]>rw)]\n",
        "        dataframe = dataframe[~(dataframe[col]<lw)]\n",
        "        dataframe = dataframe   \n",
        "    \n",
        "    return dataframe"
      ],
      "id": "lmi14ubelWYr"
    },
    {
      "cell_type": "code",
      "execution_count": null,
      "metadata": {
        "id": "vcmE-mgylbLe"
      },
      "outputs": [],
      "source": [
        "col=['Price']\n",
        "df= outlier_removal(df,df[col], limit = 3) #calling the function"
      ],
      "id": "vcmE-mgylbLe"
    },
    {
      "cell_type": "code",
      "execution_count": null,
      "metadata": {
        "colab": {
          "base_uri": "https://localhost:8080/",
          "height": 404
        },
        "id": "BMJ58GNZmHrg",
        "outputId": "d6066d92-9991-4779-ee49-d892a58bd542"
      },
      "outputs": [
        {
          "output_type": "execute_result",
          "data": {
            "text/plain": [
              "{'boxes': [<matplotlib.lines.Line2D at 0x7f9e3ec71c50>],\n",
              " 'caps': [<matplotlib.lines.Line2D at 0x7f9e3ec4fad0>,\n",
              "  <matplotlib.lines.Line2D at 0x7f9e3ec4f050>],\n",
              " 'fliers': [<matplotlib.lines.Line2D at 0x7f9e3ec48190>],\n",
              " 'means': [],\n",
              " 'medians': [<matplotlib.lines.Line2D at 0x7f9e3ec48c10>],\n",
              " 'whiskers': [<matplotlib.lines.Line2D at 0x7f9e3ec45a90>,\n",
              "  <matplotlib.lines.Line2D at 0x7f9e3ec45cd0>]}"
            ]
          },
          "metadata": {},
          "execution_count": 136
        },
        {
          "output_type": "display_data",
          "data": {
            "text/plain": [
              "<Figure size 432x288 with 1 Axes>"
            ],
            "image/png": "[encoded data removed]"
          },
          "metadata": {
            "needs_background": "light"
          }
        }
      ],
      "source": [
        "plt.boxplot(df['Price'],vert=False)"
      ],
      "id": "BMJ58GNZmHrg"
    },
    {
      "cell_type": "code",
      "execution_count": null,
      "metadata": {
        "colab": {
          "base_uri": "https://localhost:8080/",
          "height": 445
        },
        "id": "ba29ae34",
        "outputId": "7362f9e3-5ece-463f-bb64-d8f748dcf460"
      },
      "outputs": [
        {
          "output_type": "display_data",
          "data": {
            "text/plain": [
              "<Figure size 720x504 with 2 Axes>"
            ],
            "image/png": "[encoded data removed]"
          },
          "metadata": {
            "needs_background": "light"
          }
        }
      ],
      "source": [
        "fig, ax = plt.subplots(figsize=(10,7)) \n",
        "df1=df.drop('journey_month',axis=1)\n",
        "sns.heatmap(df1.corr(), cmap='Reds', annot=True)\n",
        "plt.title('Correlation Matrix');"
      ],
      "id": "ba29ae34"
    },
    {
      "cell_type": "markdown",
      "metadata": {
        "id": "6Vrek5AgRJCH"
      },
      "source": [
        "NOTE: From the heatmap, we can see that none of the variables are too highly correlated with each other. Hence, I have considered all the variables."
      ],
      "id": "6Vrek5AgRJCH"
    },
    {
      "cell_type": "code",
      "execution_count": null,
      "metadata": {
        "colab": {
          "base_uri": "https://localhost:8080/",
          "height": 406
        },
        "id": "8a260d8e",
        "outputId": "b2db3a21-7006-4f03-a2bd-4e311f84ca46"
      },
      "outputs": [
        {
          "output_type": "execute_result",
          "data": {
            "text/plain": [
              "<matplotlib.axes._subplots.AxesSubplot at 0x7f9e2e1fd7d0>"
            ]
          },
          "metadata": {},
          "execution_count": 138
        },
        {
          "output_type": "display_data",
          "data": {
            "text/plain": [
              "<Figure size 720x432 with 1 Axes>"
            ],
            "image/png": "[encoded data removed]"
          },
          "metadata": {
            "needs_background": "light"
          }
        }
      ],
      "source": [
        "plt.subplots(figsize=(10,6))\n",
        "df.groupby('journey_month')['Price'].median().plot()"
      ],
      "id": "8a260d8e"
    },
    {
      "cell_type": "markdown",
      "metadata": {
        "id": "sTh7Oj2aRXLg"
      },
      "source": [
        "NOTE: Irrespective of months across a year, price varies between 8000 to 9000, although,  sharp drop can be observed for the month of March-April."
      ],
      "id": "sTh7Oj2aRXLg"
    },
    {
      "cell_type": "code",
      "execution_count": null,
      "metadata": {
        "colab": {
          "base_uri": "https://localhost:8080/",
          "height": 345
        },
        "id": "446464ba",
        "outputId": "188e0891-88c3-467b-fb6a-6b086a5cf873"
      },
      "outputs": [
        {
          "output_type": "execute_result",
          "data": {
            "text/plain": [
              "<matplotlib.axes._subplots.AxesSubplot at 0x7f9e2e20f610>"
            ]
          },
          "metadata": {},
          "execution_count": 139
        },
        {
          "output_type": "display_data",
          "data": {
            "text/plain": [
              "<Figure size 432x288 with 1 Axes>"
            ],
            "image/png": "[encoded data removed]"
          },
          "metadata": {
            "needs_background": "light"
          }
        }
      ],
      "source": [
        "df.groupby('day_of_week')['Price'].median().sort_values(ascending=False).plot(kind='bar')"
      ],
      "id": "446464ba"
    },
    {
      "cell_type": "markdown",
      "metadata": {
        "id": "q4jUk8mESFJ9"
      },
      "source": [
        "NOTE: From the graph we can see that, weekends or weekdays don't have any significant effect on flight fare."
      ],
      "id": "q4jUk8mESFJ9"
    },
    {
      "cell_type": "code",
      "execution_count": null,
      "metadata": {
        "colab": {
          "base_uri": "https://localhost:8080/",
          "height": 265
        },
        "id": "92426c99",
        "outputId": "18f5ed2e-e3a4-448c-cedd-417a09855900"
      },
      "outputs": [
        {
          "output_type": "display_data",
          "data": {
            "text/plain": [
              "<Figure size 432x288 with 1 Axes>"
            ],
            "image/png": "[encoded data removed]"
          },
          "metadata": {
            "needs_background": "light"
          }
        }
      ],
      "source": [
        "t=df.groupby('Airline')['Price'].median().sort_values().plot(kind='barh')"
      ],
      "id": "92426c99"
    },
    {
      "cell_type": "markdown",
      "metadata": {
        "id": "s9xDUDFwScsT"
      },
      "source": [
        "NOTE: The airlines have flight fares in the range of 4000 to 10,000 with highest being for Multiple carriers Premium economy and Jet Airways."
      ],
      "id": "s9xDUDFwScsT"
    },
    {
      "cell_type": "code",
      "execution_count": null,
      "metadata": {
        "colab": {
          "base_uri": "https://localhost:8080/",
          "height": 405
        },
        "id": "7048d978",
        "outputId": "30494886-edff-4af7-f6e0-956fc612416b"
      },
      "outputs": [
        {
          "output_type": "execute_result",
          "data": {
            "text/plain": [
              "<matplotlib.axes._subplots.AxesSubplot at 0x7f9e2e345e50>"
            ]
          },
          "metadata": {},
          "execution_count": 141
        },
        {
          "output_type": "display_data",
          "data": {
            "text/plain": [
              "<Figure size 720x432 with 2 Axes>"
            ],
            "image/png": "[encoded data removed]"
          },
          "metadata": {
            "needs_background": "light"
          }
        }
      ],
      "source": [
        "f,ax=plt.subplots(2,figsize=(10,6))\n",
        "sns.barplot(data=df, x='Source', y='Price',ci=False,ax=ax[0])\n",
        "sns.barplot(data=df, x='Destination', y='Price',ci=False,ax=ax[1])"
      ],
      "id": "7048d978"
    },
    {
      "cell_type": "markdown",
      "metadata": {
        "id": "qTsJ2S_pSvQR"
      },
      "source": [
        "NOTE: Prices of flights vary with destination and sources. The highest being for New Delhi."
      ],
      "id": "qTsJ2S_pSvQR"
    },
    {
      "cell_type": "code",
      "execution_count": null,
      "metadata": {
        "colab": {
          "base_uri": "https://localhost:8080/",
          "height": 297
        },
        "id": "6c5379d9",
        "outputId": "9e78b0cf-6b2a-4690-b0b9-72d4cf5dee6d"
      },
      "outputs": [
        {
          "output_type": "execute_result",
          "data": {
            "text/plain": [
              "<matplotlib.axes._subplots.AxesSubplot at 0x7f9e2aea8a50>"
            ]
          },
          "metadata": {},
          "execution_count": 142
        },
        {
          "output_type": "display_data",
          "data": {
            "text/plain": [
              "<Figure size 432x288 with 1 Axes>"
            ],
            "image/png": "[encoded data removed]"
          },
          "metadata": {
            "needs_background": "light"
          }
        }
      ],
      "source": [
        "sns.barplot(x='Total_Stops',y='Price',data=df,ci=False)"
      ],
      "id": "6c5379d9"
    },
    {
      "cell_type": "markdown",
      "metadata": {
        "id": "r28KSnBaTGIH"
      },
      "source": [
        "NOTE: As the number of stops increase, the flight fare increases."
      ],
      "id": "r28KSnBaTGIH"
    },
    {
      "cell_type": "code",
      "execution_count": null,
      "metadata": {
        "colab": {
          "base_uri": "https://localhost:8080/",
          "height": 543
        },
        "id": "5823208e",
        "outputId": "5dbbebdf-22a8-47d8-f18d-cfd80a6c1bd6"
      },
      "outputs": [
        {
          "output_type": "execute_result",
          "data": {
            "text/plain": [
              "<matplotlib.axes._subplots.AxesSubplot at 0x7f9e2ae5d490>"
            ]
          },
          "metadata": {},
          "execution_count": 143
        },
        {
          "output_type": "display_data",
          "data": {
            "text/plain": [
              "<Figure size 1440x720 with 2 Axes>"
            ],
            "image/png": "[encoded data removed]"
          },
          "metadata": {
            "needs_background": "light"
          }
        }
      ],
      "source": [
        "f,ax=plt.subplots(2,1,figsize=(20,10))\n",
        "df.groupby('Route')['Price'].median().sort_values()[:10].plot(kind='barh',ax=ax[0],color='black')\n",
        "df.groupby('Additional_Info')['Price'].median().sort_values().plot(kind='barh',ax=ax[1],color='black')\n"
      ],
      "id": "5823208e"
    },
    {
      "cell_type": "markdown",
      "metadata": {
        "id": "eRtzevn4UYWX"
      },
      "source": [
        "NOTE: The price for the Bangalore-Surat-Delhi route is the highest while that of Bombay to Hyderabad is the lowest.\n",
        "The price for the \"Business class\" is the highest. "
      ],
      "id": "eRtzevn4UYWX"
    },
    {
      "cell_type": "markdown",
      "metadata": {
        "id": "812a92b7"
      },
      "source": [
        "# Modeling "
      ],
      "id": "812a92b7"
    },
    {
      "cell_type": "code",
      "execution_count": null,
      "metadata": {
        "id": "2f955488"
      },
      "outputs": [],
      "source": [
        "X= df.drop(columns=['Price']) # Input columns\n",
        "y= df['Price'] # Target coulumn"
      ],
      "id": "2f955488"
    },
    {
      "cell_type": "code",
      "execution_count": null,
      "metadata": {
        "colab": {
          "base_uri": "https://localhost:8080/",
          "height": 205
        },
        "id": "67d2009f",
        "outputId": "2d61aea9-c1bf-49be-895a-d78654619730"
      },
      "outputs": [
        {
          "output_type": "execute_result",
          "data": {
            "text/plain": [
              "       Airline    Source Destination                  Route Total_Stops  \\\n",
              "0       IndiGo  Banglore   New Delhi              BLR → DEL    non-stop   \n",
              "1    Air India   Kolkata    Banglore  CCU → IXR → BBI → BLR     2 stops   \n",
              "2  Jet Airways     Delhi      Cochin  DEL → LKO → BOM → COK     2 stops   \n",
              "\n",
              "  Additional_Info  journey_month day_of_week  dep_time_hr  arr_time_hr  dur_hr  \n",
              "0         No info              3      Sunday        22.33         1.17    2.83  \n",
              "1         No info              1    Saturday         5.83        13.25    7.42  \n",
              "2         No info              9      Friday         9.42         4.42   19.00  "
            ],
            "text/html": [
              "\n",
              "  <div id=\"df-43806dec-c1d3-48c5-8ae2-1da7d7db2b67\">\n",
              "    <div class=\"colab-df-container\">\n",
              "      <div>\n",
              "<style scoped>\n",
              "    .dataframe tbody tr th:only-of-type {\n",
              "        vertical-align: middle;\n",
              "    }\n",
              "\n",
              "    .dataframe tbody tr th {\n",
              "        vertical-align: top;\n",
              "    }\n",
              "\n",
              "    .dataframe thead th {\n",
              "        text-align: right;\n",
              "    }\n",
              "</style>\n",
              "<table border=\"1\" class=\"dataframe\">\n",
              "  <thead>\n",
              "    <tr style=\"text-align: right;\">\n",
              "      <th></th>\n",
              "      <th>Airline</th>\n",
              "      <th>Source</th>\n",
              "      <th>Destination</th>\n",
              "      <th>Route</th>\n",
              "      <th>Total_Stops</th>\n",
              "      <th>Additional_Info</th>\n",
              "      <th>journey_month</th>\n",
              "      <th>day_of_week</th>\n",
              "      <th>dep_time_hr</th>\n",
              "      <th>arr_time_hr</th>\n",
              "      <th>dur_hr</th>\n",
              "    </tr>\n",
              "  </thead>\n",
              "  <tbody>\n",
              "    <tr>\n",
              "      <th>0</th>\n",
              "      <td>IndiGo</td>\n",
              "      <td>Banglore</td>\n",
              "      <td>New Delhi</td>\n",
              "      <td>BLR → DEL</td>\n",
              "      <td>non-stop</td>\n",
              "      <td>No info</td>\n",
              "      <td>3</td>\n",
              "      <td>Sunday</td>\n",
              "      <td>22.33</td>\n",
              "      <td>1.17</td>\n",
              "      <td>2.83</td>\n",
              "    </tr>\n",
              "    <tr>\n",
              "      <th>1</th>\n",
              "      <td>Air India</td>\n",
              "      <td>Kolkata</td>\n",
              "      <td>Banglore</td>\n",
              "      <td>CCU → IXR → BBI → BLR</td>\n",
              "      <td>2 stops</td>\n",
              "      <td>No info</td>\n",
              "      <td>1</td>\n",
              "      <td>Saturday</td>\n",
              "      <td>5.83</td>\n",
              "      <td>13.25</td>\n",
              "      <td>7.42</td>\n",
              "    </tr>\n",
              "    <tr>\n",
              "      <th>2</th>\n",
              "      <td>Jet Airways</td>\n",
              "      <td>Delhi</td>\n",
              "      <td>Cochin</td>\n",
              "      <td>DEL → LKO → BOM → COK</td>\n",
              "      <td>2 stops</td>\n",
              "      <td>No info</td>\n",
              "      <td>9</td>\n",
              "      <td>Friday</td>\n",
              "      <td>9.42</td>\n",
              "      <td>4.42</td>\n",
              "      <td>19.00</td>\n",
              "    </tr>\n",
              "  </tbody>\n",
              "</table>\n",
              "</div>\n",
              "      <button class=\"colab-df-convert\" onclick=\"convertToInteractive('df-43806dec-c1d3-48c5-8ae2-1da7d7db2b67')\"\n",
              "              title=\"Convert this dataframe to an interactive table.\"\n",
              "              style=\"display:none;\">\n",
              "        \n",
              "  <svg xmlns=\"http://www.w3.org/2000/svg\" height=\"24px\"viewBox=\"0 0 24 24\"\n",
              "       width=\"24px\">\n",
              "    <path d=\"M0 0h24v24H0V0z\" fill=\"none\"/>\n",
              "    <path d=\"M18.56 5.44l.94 2.06.94-2.06 2.06-.94-2.06-.94-.94-2.06-.94 2.06-2.06.94zm-11 1L8.5 8.5l.94-2.06 2.06-.94-2.06-.94L8.5 2.5l-.94 2.06-2.06.94zm10 10l.94 2.06.94-2.06 2.06-.94-2.06-.94-.94-2.06-.94 2.06-2.06.94z\"/><path d=\"M17.41 7.96l-1.37-1.37c-.4-.4-.92-.59-1.43-.59-.52 0-1.04.2-1.43.59L10.3 9.45l-7.72 7.72c-.78.78-.78 2.05 0 2.83L4 21.41c.39.39.9.59 1.41.59.51 0 1.02-.2 1.41-.59l7.78-7.78 2.81-2.81c.8-.78.8-2.07 0-2.86zM5.41 20L4 18.59l7.72-7.72 1.47 1.35L5.41 20z\"/>\n",
              "  </svg>\n",
              "      </button>\n",
              "      \n",
              "  <style>\n",
              "    .colab-df-container {\n",
              "      display:flex;\n",
              "      flex-wrap:wrap;\n",
              "      gap: 12px;\n",
              "    }\n",
              "\n",
              "    .colab-df-convert {\n",
              "      background-color: #E8F0FE;\n",
              "      border: none;\n",
              "      border-radius: 50%;\n",
              "      cursor: pointer;\n",
              "      display: none;\n",
              "      fill: #1967D2;\n",
              "      height: 32px;\n",
              "      padding: 0 0 0 0;\n",
              "      width: 32px;\n",
              "    }\n",
              "\n",
              "    .colab-df-convert:hover {\n",
              "      background-color: #E2EBFA;\n",
              "      box-shadow: 0px 1px 2px rgba(60, 64, 67, 0.3), 0px 1px 3px 1px rgba(60, 64, 67, 0.15);\n",
              "      fill: #174EA6;\n",
              "    }\n",
              "\n",
              "    [theme=dark] .colab-df-convert {\n",
              "      background-color: #3B4455;\n",
              "      fill: #D2E3FC;\n",
              "    }\n",
              "\n",
              "    [theme=dark] .colab-df-convert:hover {\n",
              "      background-color: #434B5C;\n",
              "      box-shadow: 0px 1px 3px 1px rgba(0, 0, 0, 0.15);\n",
              "      filter: drop-shadow(0px 1px 2px rgba(0, 0, 0, 0.3));\n",
              "      fill: #FFFFFF;\n",
              "    }\n",
              "  </style>\n",
              "\n",
              "      <script>\n",
              "        const buttonEl =\n",
              "          document.querySelector('#df-43806dec-c1d3-48c5-8ae2-1da7d7db2b67 button.colab-df-convert');\n",
              "        buttonEl.style.display =\n",
              "          google.colab.kernel.accessAllowed ? 'block' : 'none';\n",
              "\n",
              "        async function convertToInteractive(key) {\n",
              "          const element = document.querySelector('#df-43806dec-c1d3-48c5-8ae2-1da7d7db2b67');\n",
              "          const dataTable =\n",
              "            await google.colab.kernel.invokeFunction('convertToInteractive',\n",
              "                                                     [key], {});\n",
              "          if (!dataTable) return;\n",
              "\n",
              "          const docLinkHtml = 'Like what you see? Visit the ' +\n",
              "            '<a target=\"_blank\" href=https://colab.research.google.com/notebooks/data_table.ipynb>data table notebook</a>'\n",
              "            + ' to learn more about interactive tables.';\n",
              "          element.innerHTML = '';\n",
              "          dataTable['output_type'] = 'display_data';\n",
              "          await google.colab.output.renderOutput(dataTable, element);\n",
              "          const docLink = document.createElement('div');\n",
              "          docLink.innerHTML = docLinkHtml;\n",
              "          element.appendChild(docLink);\n",
              "        }\n",
              "      </script>\n",
              "    </div>\n",
              "  </div>\n",
              "  "
            ]
          },
          "metadata": {},
          "execution_count": 145
        }
      ],
      "source": [
        "X.head(3)"
      ],
      "id": "67d2009f"
    },
    {
      "cell_type": "code",
      "execution_count": null,
      "metadata": {
        "colab": {
          "base_uri": "https://localhost:8080/"
        },
        "id": "7206dca8",
        "outputId": "6831dfbf-fa3d-4c0f-fba6-66077f907e86"
      },
      "outputs": [
        {
          "output_type": "execute_result",
          "data": {
            "text/plain": [
              "['dep_time_hr', 'arr_time_hr', 'dur_hr']"
            ]
          },
          "metadata": {},
          "execution_count": 146
        }
      ],
      "source": [
        "#Checking the numeric columns\n",
        "numeric_cols = X.select_dtypes(include=['int64', 'float64']).columns.tolist()\n",
        "numeric_cols=numeric_cols[1:]\n",
        "numeric_cols"
      ],
      "id": "7206dca8"
    },
    {
      "cell_type": "code",
      "execution_count": null,
      "metadata": {
        "colab": {
          "base_uri": "https://localhost:8080/"
        },
        "id": "12759113",
        "outputId": "6ab95263-2ed6-40ec-cab1-2ee66d3b861f"
      },
      "outputs": [
        {
          "output_type": "execute_result",
          "data": {
            "text/plain": [
              "['Airline',\n",
              " 'Source',\n",
              " 'Destination',\n",
              " 'Route',\n",
              " 'Total_Stops',\n",
              " 'Additional_Info',\n",
              " 'day_of_week',\n",
              " 'journey_month']"
            ]
          },
          "metadata": {},
          "execution_count": 147
        }
      ],
      "source": [
        "#checking the categorical columns\n",
        "categorical_cols = X.select_dtypes('object').columns.tolist()\n",
        "\n",
        "categorical_cols.append('journey_month')\n",
        "categorical_cols"
      ],
      "id": "12759113"
    },
    {
      "cell_type": "code",
      "execution_count": null,
      "metadata": {
        "id": "a04262b3"
      },
      "outputs": [],
      "source": [
        "df2=df.copy() #creating a copy of df"
      ],
      "id": "a04262b3"
    },
    {
      "cell_type": "code",
      "execution_count": null,
      "metadata": {
        "colab": {
          "base_uri": "https://localhost:8080/",
          "height": 173
        },
        "id": "92243d85",
        "outputId": "fb7aacda-94b1-4717-9575-0c74e8cf347f"
      },
      "outputs": [
        {
          "output_type": "execute_result",
          "data": {
            "text/plain": [
              "     Airline    Source Destination                  Route Total_Stops  \\\n",
              "0     IndiGo  Banglore   New Delhi              BLR → DEL    non-stop   \n",
              "1  Air India   Kolkata    Banglore  CCU → IXR → BBI → BLR     2 stops   \n",
              "\n",
              "  Additional_Info  Price  journey_month day_of_week  dep_time_hr  arr_time_hr  \\\n",
              "0         No info   3897              3      Sunday        22.33         1.17   \n",
              "1         No info   7662              1    Saturday         5.83        13.25   \n",
              "\n",
              "   dur_hr  \n",
              "0    2.83  \n",
              "1    7.42  "
            ],
            "text/html": [
              "\n",
              "  <div id=\"df-a3137fb3-2e65-443d-81e6-177e2c8c7f8a\">\n",
              "    <div class=\"colab-df-container\">\n",
              "      <div>\n",
              "<style scoped>\n",
              "    .dataframe tbody tr th:only-of-type {\n",
              "        vertical-align: middle;\n",
              "    }\n",
              "\n",
              "    .dataframe tbody tr th {\n",
              "        vertical-align: top;\n",
              "    }\n",
              "\n",
              "    .dataframe thead th {\n",
              "        text-align: right;\n",
              "    }\n",
              "</style>\n",
              "<table border=\"1\" class=\"dataframe\">\n",
              "  <thead>\n",
              "    <tr style=\"text-align: right;\">\n",
              "      <th></th>\n",
              "      <th>Airline</th>\n",
              "      <th>Source</th>\n",
              "      <th>Destination</th>\n",
              "      <th>Route</th>\n",
              "      <th>Total_Stops</th>\n",
              "      <th>Additional_Info</th>\n",
              "      <th>Price</th>\n",
              "      <th>journey_month</th>\n",
              "      <th>day_of_week</th>\n",
              "      <th>dep_time_hr</th>\n",
              "      <th>arr_time_hr</th>\n",
              "      <th>dur_hr</th>\n",
              "    </tr>\n",
              "  </thead>\n",
              "  <tbody>\n",
              "    <tr>\n",
              "      <th>0</th>\n",
              "      <td>IndiGo</td>\n",
              "      <td>Banglore</td>\n",
              "      <td>New Delhi</td>\n",
              "      <td>BLR → DEL</td>\n",
              "      <td>non-stop</td>\n",
              "      <td>No info</td>\n",
              "      <td>3897</td>\n",
              "      <td>3</td>\n",
              "      <td>Sunday</td>\n",
              "      <td>22.33</td>\n",
              "      <td>1.17</td>\n",
              "      <td>2.83</td>\n",
              "    </tr>\n",
              "    <tr>\n",
              "      <th>1</th>\n",
              "      <td>Air India</td>\n",
              "      <td>Kolkata</td>\n",
              "      <td>Banglore</td>\n",
              "      <td>CCU → IXR → BBI → BLR</td>\n",
              "      <td>2 stops</td>\n",
              "      <td>No info</td>\n",
              "      <td>7662</td>\n",
              "      <td>1</td>\n",
              "      <td>Saturday</td>\n",
              "      <td>5.83</td>\n",
              "      <td>13.25</td>\n",
              "      <td>7.42</td>\n",
              "    </tr>\n",
              "  </tbody>\n",
              "</table>\n",
              "</div>\n",
              "      <button class=\"colab-df-convert\" onclick=\"convertToInteractive('df-a3137fb3-2e65-443d-81e6-177e2c8c7f8a')\"\n",
              "              title=\"Convert this dataframe to an interactive table.\"\n",
              "              style=\"display:none;\">\n",
              "        \n",
              "  <svg xmlns=\"http://www.w3.org/2000/svg\" height=\"24px\"viewBox=\"0 0 24 24\"\n",
              "       width=\"24px\">\n",
              "    <path d=\"M0 0h24v24H0V0z\" fill=\"none\"/>\n",
              "    <path d=\"M18.56 5.44l.94 2.06.94-2.06 2.06-.94-2.06-.94-.94-2.06-.94 2.06-2.06.94zm-11 1L8.5 8.5l.94-2.06 2.06-.94-2.06-.94L8.5 2.5l-.94 2.06-2.06.94zm10 10l.94 2.06.94-2.06 2.06-.94-2.06-.94-.94-2.06-.94 2.06-2.06.94z\"/><path d=\"M17.41 7.96l-1.37-1.37c-.4-.4-.92-.59-1.43-.59-.52 0-1.04.2-1.43.59L10.3 9.45l-7.72 7.72c-.78.78-.78 2.05 0 2.83L4 21.41c.39.39.9.59 1.41.59.51 0 1.02-.2 1.41-.59l7.78-7.78 2.81-2.81c.8-.78.8-2.07 0-2.86zM5.41 20L4 18.59l7.72-7.72 1.47 1.35L5.41 20z\"/>\n",
              "  </svg>\n",
              "      </button>\n",
              "      \n",
              "  <style>\n",
              "    .colab-df-container {\n",
              "      display:flex;\n",
              "      flex-wrap:wrap;\n",
              "      gap: 12px;\n",
              "    }\n",
              "\n",
              "    .colab-df-convert {\n",
              "      background-color: #E8F0FE;\n",
              "      border: none;\n",
              "      border-radius: 50%;\n",
              "      cursor: pointer;\n",
              "      display: none;\n",
              "      fill: #1967D2;\n",
              "      height: 32px;\n",
              "      padding: 0 0 0 0;\n",
              "      width: 32px;\n",
              "    }\n",
              "\n",
              "    .colab-df-convert:hover {\n",
              "      background-color: #E2EBFA;\n",
              "      box-shadow: 0px 1px 2px rgba(60, 64, 67, 0.3), 0px 1px 3px 1px rgba(60, 64, 67, 0.15);\n",
              "      fill: #174EA6;\n",
              "    }\n",
              "\n",
              "    [theme=dark] .colab-df-convert {\n",
              "      background-color: #3B4455;\n",
              "      fill: #D2E3FC;\n",
              "    }\n",
              "\n",
              "    [theme=dark] .colab-df-convert:hover {\n",
              "      background-color: #434B5C;\n",
              "      box-shadow: 0px 1px 3px 1px rgba(0, 0, 0, 0.15);\n",
              "      filter: drop-shadow(0px 1px 2px rgba(0, 0, 0, 0.3));\n",
              "      fill: #FFFFFF;\n",
              "    }\n",
              "  </style>\n",
              "\n",
              "      <script>\n",
              "        const buttonEl =\n",
              "          document.querySelector('#df-a3137fb3-2e65-443d-81e6-177e2c8c7f8a button.colab-df-convert');\n",
              "        buttonEl.style.display =\n",
              "          google.colab.kernel.accessAllowed ? 'block' : 'none';\n",
              "\n",
              "        async function convertToInteractive(key) {\n",
              "          const element = document.querySelector('#df-a3137fb3-2e65-443d-81e6-177e2c8c7f8a');\n",
              "          const dataTable =\n",
              "            await google.colab.kernel.invokeFunction('convertToInteractive',\n",
              "                                                     [key], {});\n",
              "          if (!dataTable) return;\n",
              "\n",
              "          const docLinkHtml = 'Like what you see? Visit the ' +\n",
              "            '<a target=\"_blank\" href=https://colab.research.google.com/notebooks/data_table.ipynb>data table notebook</a>'\n",
              "            + ' to learn more about interactive tables.';\n",
              "          element.innerHTML = '';\n",
              "          dataTable['output_type'] = 'display_data';\n",
              "          await google.colab.output.renderOutput(dataTable, element);\n",
              "          const docLink = document.createElement('div');\n",
              "          docLink.innerHTML = docLinkHtml;\n",
              "          element.appendChild(docLink);\n",
              "        }\n",
              "      </script>\n",
              "    </div>\n",
              "  </div>\n",
              "  "
            ]
          },
          "metadata": {},
          "execution_count": 149
        }
      ],
      "source": [
        "df2.head(2)"
      ],
      "id": "92243d85"
    },
    {
      "cell_type": "code",
      "execution_count": null,
      "metadata": {
        "colab": {
          "base_uri": "https://localhost:8080/"
        },
        "id": "07b6b61c",
        "outputId": "8d14788f-1e2c-4cdb-b6e9-86f71a47f6f3"
      },
      "outputs": [
        {
          "output_type": "execute_result",
          "data": {
            "text/plain": [
              "OneHotEncoder(handle_unknown='ignore', sparse=False)"
            ]
          },
          "metadata": {},
          "execution_count": 150
        }
      ],
      "source": [
        "#One hot encoding is done on the data\n",
        "from sklearn.preprocessing import OneHotEncoder\n",
        "encoder = OneHotEncoder(sparse=False, handle_unknown='ignore')\n",
        "encoder.fit(df[categorical_cols])"
      ],
      "id": "07b6b61c"
    },
    {
      "cell_type": "code",
      "execution_count": null,
      "metadata": {
        "colab": {
          "base_uri": "https://localhost:8080/"
        },
        "id": "9beb2574",
        "outputId": "8cf67fa3-8411-437d-d16a-15c8efc00e1e"
      },
      "outputs": [
        {
          "output_type": "stream",
          "name": "stdout",
          "text": [
            "['Airline_Air Asia', 'Airline_Air India', 'Airline_GoAir', 'Airline_IndiGo', 'Airline_Jet Airways', 'Airline_Multiple carriers', 'Airline_Multiple carriers Premium economy', 'Airline_SpiceJet', 'Airline_Trujet', 'Airline_Vistara', 'Airline_Vistara Premium economy', 'Source_Banglore', 'Source_Chennai', 'Source_Delhi', 'Source_Kolkata', 'Source_Mumbai', 'Destination_Banglore', 'Destination_Cochin', 'Destination_Delhi', 'Destination_Hyderabad', 'Destination_Kolkata', 'Destination_New Delhi', 'Route_BLR → AMD → DEL', 'Route_BLR → BBI → DEL', 'Route_BLR → BDQ → DEL', 'Route_BLR → BOM → AMD → DEL', 'Route_BLR → BOM → BHO → DEL', 'Route_BLR → BOM → DEL', 'Route_BLR → BOM → IDR → DEL', 'Route_BLR → BOM → IDR → GWL → DEL', 'Route_BLR → BOM → IXC → DEL', 'Route_BLR → BOM → JDH → DEL', 'Route_BLR → BOM → NAG → DEL', 'Route_BLR → BOM → UDR → DEL', 'Route_BLR → CCU → BBI → DEL', 'Route_BLR → CCU → BBI → HYD → DEL', 'Route_BLR → CCU → BBI → HYD → VGA → DEL', 'Route_BLR → CCU → DEL', 'Route_BLR → CCU → GAU → DEL', 'Route_BLR → COK → DEL', 'Route_BLR → DEL', 'Route_BLR → GAU → DEL', 'Route_BLR → GOI → DEL', 'Route_BLR → HBX → BOM → AMD → DEL', 'Route_BLR → HBX → BOM → BHO → DEL', 'Route_BLR → HBX → BOM → NAG → DEL', 'Route_BLR → HYD → DEL', 'Route_BLR → HYD → VGA → DEL', 'Route_BLR → IDR → DEL', 'Route_BLR → LKO → DEL', 'Route_BLR → MAA → DEL', 'Route_BLR → NAG → DEL', 'Route_BLR → PNQ → DEL', 'Route_BLR → STV → DEL', 'Route_BLR → TRV → COK → DEL', 'Route_BLR → VGA → DEL', 'Route_BLR → VGA → HYD → DEL', 'Route_BLR → VGA → VTZ → DEL', 'Route_BOM → AMD → ISK → HYD', 'Route_BOM → BBI → HYD', 'Route_BOM → BDQ → DEL → HYD', 'Route_BOM → BHO → DEL → HYD', 'Route_BOM → BLR → CCU → BBI → HYD', 'Route_BOM → BLR → HYD', 'Route_BOM → CCU → HYD', 'Route_BOM → COK → MAA → HYD', 'Route_BOM → DED → DEL → HYD', 'Route_BOM → DEL → HYD', 'Route_BOM → GOI → HYD', 'Route_BOM → GOI → PNQ → HYD', 'Route_BOM → HYD', 'Route_BOM → IDR → DEL → HYD', 'Route_BOM → JAI → DEL → HYD', 'Route_BOM → JDH → DEL → HYD', 'Route_BOM → JDH → JAI → DEL → HYD', 'Route_BOM → JLR → HYD', 'Route_BOM → MAA → HYD', 'Route_BOM → NDC → HYD', 'Route_BOM → RPR → VTZ → HYD', 'Route_BOM → UDR → DEL → HYD', 'Route_BOM → VNS → DEL → HYD', 'Route_CCU → AMD → BLR', 'Route_CCU → BBI → BLR', 'Route_CCU → BBI → BOM → BLR', 'Route_CCU → BBI → HYD → BLR', 'Route_CCU → BBI → IXR → DEL → BLR', 'Route_CCU → BLR', 'Route_CCU → BOM → AMD → BLR', 'Route_CCU → BOM → BLR', 'Route_CCU → BOM → COK → BLR', 'Route_CCU → BOM → GOI → BLR', 'Route_CCU → BOM → HBX → BLR', 'Route_CCU → BOM → PNQ → BLR', 'Route_CCU → BOM → TRV → BLR', 'Route_CCU → DEL → AMD → BLR', 'Route_CCU → DEL → BLR', 'Route_CCU → DEL → COK → BLR', 'Route_CCU → DEL → COK → TRV → BLR', 'Route_CCU → DEL → VGA → BLR', 'Route_CCU → GAU → BLR', 'Route_CCU → GAU → DEL → BLR', 'Route_CCU → GAU → IMF → DEL → BLR', 'Route_CCU → HYD → BLR', 'Route_CCU → IXA → BLR', 'Route_CCU → IXB → BLR', 'Route_CCU → IXB → DEL → BLR', 'Route_CCU → IXR → BBI → BLR', 'Route_CCU → IXR → DEL → BLR', 'Route_CCU → IXZ → MAA → BLR', 'Route_CCU → JAI → BOM → BLR', 'Route_CCU → JAI → DEL → BLR', 'Route_CCU → KNU → BLR', 'Route_CCU → MAA → BLR', 'Route_CCU → NAG → BLR', 'Route_CCU → PAT → BLR', 'Route_CCU → PNQ → BLR', 'Route_CCU → RPR → HYD → BLR', 'Route_CCU → VNS → DEL → BLR', 'Route_CCU → VTZ → BLR', 'Route_DEL → AMD → BOM → COK', 'Route_DEL → AMD → COK', 'Route_DEL → ATQ → BOM → COK', 'Route_DEL → BBI → COK', 'Route_DEL → BDQ → BOM → COK', 'Route_DEL → BHO → BOM → COK', 'Route_DEL → BLR → COK', 'Route_DEL → BOM → COK', 'Route_DEL → CCU → BOM → COK', 'Route_DEL → COK', 'Route_DEL → DED → BOM → COK', 'Route_DEL → GOI → BOM → COK', 'Route_DEL → GWL → IDR → BOM → COK', 'Route_DEL → HYD → BOM → COK', 'Route_DEL → HYD → COK', 'Route_DEL → HYD → MAA → COK', 'Route_DEL → IDR → BOM → COK', 'Route_DEL → IXC → BOM → COK', 'Route_DEL → IXU → BOM → COK', 'Route_DEL → JAI → BOM → COK', 'Route_DEL → JDH → BOM → COK', 'Route_DEL → LKO → BOM → COK', 'Route_DEL → LKO → COK', 'Route_DEL → MAA → BOM → COK', 'Route_DEL → MAA → COK', 'Route_DEL → NAG → BOM → COK', 'Route_DEL → PNQ → COK', 'Route_DEL → RPR → NAG → BOM → COK', 'Route_DEL → TRV → COK', 'Route_DEL → UDR → BOM → COK', 'Route_MAA → CCU', 'Total_Stops_1 stop', 'Total_Stops_2 stops', 'Total_Stops_3 stops', 'Total_Stops_4 stops', 'Total_Stops_non-stop', 'Additional_Info_1 Long layover', 'Additional_Info_1 Short layover', 'Additional_Info_2 Long layover', 'Additional_Info_Business class', 'Additional_Info_Change airports', 'Additional_Info_In-flight meal not included', 'Additional_Info_No Info', 'Additional_Info_No check-in baggage included', 'Additional_Info_No info', 'Additional_Info_Red-eye flight', 'day_of_week_Friday', 'day_of_week_Monday', 'day_of_week_Saturday', 'day_of_week_Sunday', 'day_of_week_Thursday', 'day_of_week_Tuesday', 'day_of_week_Wednesday', 'journey_month_1', 'journey_month_3', 'journey_month_4', 'journey_month_5', 'journey_month_6', 'journey_month_9', 'journey_month_12']\n"
          ]
        }
      ],
      "source": [
        "encoded_cols = list(encoder.get_feature_names(categorical_cols))\n",
        "print(encoded_cols)"
      ],
      "id": "9beb2574"
    },
    {
      "cell_type": "code",
      "execution_count": null,
      "metadata": {
        "id": "4064a295"
      },
      "outputs": [],
      "source": [
        "X[encoded_cols] = encoder.transform(X[categorical_cols])"
      ],
      "id": "4064a295"
    },
    {
      "cell_type": "code",
      "execution_count": null,
      "metadata": {
        "colab": {
          "base_uri": "https://localhost:8080/",
          "height": 344
        },
        "id": "84e2f7e0",
        "outputId": "2d17b840-7c77-4c8f-c7a7-f251099efabf"
      },
      "outputs": [
        {
          "output_type": "execute_result",
          "data": {
            "text/plain": [
              "     Airline    Source Destination                  Route Total_Stops  \\\n",
              "0     IndiGo  Banglore   New Delhi              BLR → DEL    non-stop   \n",
              "1  Air India   Kolkata    Banglore  CCU → IXR → BBI → BLR     2 stops   \n",
              "\n",
              "  Additional_Info  journey_month day_of_week  dep_time_hr  arr_time_hr  ...  \\\n",
              "0         No info              3      Sunday        22.33         1.17  ...   \n",
              "1         No info              1    Saturday         5.83        13.25  ...   \n",
              "\n",
              "   day_of_week_Thursday  day_of_week_Tuesday  day_of_week_Wednesday  \\\n",
              "0                   0.0                  0.0                    0.0   \n",
              "1                   0.0                  0.0                    0.0   \n",
              "\n",
              "   journey_month_1  journey_month_3  journey_month_4  journey_month_5  \\\n",
              "0              0.0              1.0              0.0              0.0   \n",
              "1              1.0              0.0              0.0              0.0   \n",
              "\n",
              "   journey_month_6  journey_month_9  journey_month_12  \n",
              "0              0.0              0.0               0.0  \n",
              "1              0.0              0.0               0.0  \n",
              "\n",
              "[2 rows x 190 columns]"
            ],
            "text/html": [
              "\n",
              "  <div id=\"df-7df923b4-cca9-4824-9b13-5f7784bcc242\">\n",
              "    <div class=\"colab-df-container\">\n",
              "      <div>\n",
              "<style scoped>\n",
              "    .dataframe tbody tr th:only-of-type {\n",
              "        vertical-align: middle;\n",
              "    }\n",
              "\n",
              "    .dataframe tbody tr th {\n",
              "        vertical-align: top;\n",
              "    }\n",
              "\n",
              "    .dataframe thead th {\n",
              "        text-align: right;\n",
              "    }\n",
              "</style>\n",
              "<table border=\"1\" class=\"dataframe\">\n",
              "  <thead>\n",
              "    <tr style=\"text-align: right;\">\n",
              "      <th></th>\n",
              "      <th>Airline</th>\n",
              "      <th>Source</th>\n",
              "      <th>Destination</th>\n",
              "      <th>Route</th>\n",
              "      <th>Total_Stops</th>\n",
              "      <th>Additional_Info</th>\n",
              "      <th>journey_month</th>\n",
              "      <th>day_of_week</th>\n",
              "      <th>dep_time_hr</th>\n",
              "      <th>arr_time_hr</th>\n",
              "      <th>...</th>\n",
              "      <th>day_of_week_Thursday</th>\n",
              "      <th>day_of_week_Tuesday</th>\n",
              "      <th>day_of_week_Wednesday</th>\n",
              "      <th>journey_month_1</th>\n",
              "      <th>journey_month_3</th>\n",
              "      <th>journey_month_4</th>\n",
              "      <th>journey_month_5</th>\n",
              "      <th>journey_month_6</th>\n",
              "      <th>journey_month_9</th>\n",
              "      <th>journey_month_12</th>\n",
              "    </tr>\n",
              "  </thead>\n",
              "  <tbody>\n",
              "    <tr>\n",
              "      <th>0</th>\n",
              "      <td>IndiGo</td>\n",
              "      <td>Banglore</td>\n",
              "      <td>New Delhi</td>\n",
              "      <td>BLR → DEL</td>\n",
              "      <td>non-stop</td>\n",
              "      <td>No info</td>\n",
              "      <td>3</td>\n",
              "      <td>Sunday</td>\n",
              "      <td>22.33</td>\n",
              "      <td>1.17</td>\n",
              "      <td>...</td>\n",
              "      <td>0.0</td>\n",
              "      <td>0.0</td>\n",
              "      <td>0.0</td>\n",
              "      <td>0.0</td>\n",
              "      <td>1.0</td>\n",
              "      <td>0.0</td>\n",
              "      <td>0.0</td>\n",
              "      <td>0.0</td>\n",
              "      <td>0.0</td>\n",
              "      <td>0.0</td>\n",
              "    </tr>\n",
              "    <tr>\n",
              "      <th>1</th>\n",
              "      <td>Air India</td>\n",
              "      <td>Kolkata</td>\n",
              "      <td>Banglore</td>\n",
              "      <td>CCU → IXR → BBI → BLR</td>\n",
              "      <td>2 stops</td>\n",
              "      <td>No info</td>\n",
              "      <td>1</td>\n",
              "      <td>Saturday</td>\n",
              "      <td>5.83</td>\n",
              "      <td>13.25</td>\n",
              "      <td>...</td>\n",
              "      <td>0.0</td>\n",
              "      <td>0.0</td>\n",
              "      <td>0.0</td>\n",
              "      <td>1.0</td>\n",
              "      <td>0.0</td>\n",
              "      <td>0.0</td>\n",
              "      <td>0.0</td>\n",
              "      <td>0.0</td>\n",
              "      <td>0.0</td>\n",
              "      <td>0.0</td>\n",
              "    </tr>\n",
              "  </tbody>\n",
              "</table>\n",
              "<p>2 rows × 190 columns</p>\n",
              "</div>\n",
              "      <button class=\"colab-df-convert\" onclick=\"convertToInteractive('df-7df923b4-cca9-4824-9b13-5f7784bcc242')\"\n",
              "              title=\"Convert this dataframe to an interactive table.\"\n",
              "              style=\"display:none;\">\n",
              "        \n",
              "  <svg xmlns=\"http://www.w3.org/2000/svg\" height=\"24px\"viewBox=\"0 0 24 24\"\n",
              "       width=\"24px\">\n",
              "    <path d=\"M0 0h24v24H0V0z\" fill=\"none\"/>\n",
              "    <path d=\"M18.56 5.44l.94 2.06.94-2.06 2.06-.94-2.06-.94-.94-2.06-.94 2.06-2.06.94zm-11 1L8.5 8.5l.94-2.06 2.06-.94-2.06-.94L8.5 2.5l-.94 2.06-2.06.94zm10 10l.94 2.06.94-2.06 2.06-.94-2.06-.94-.94-2.06-.94 2.06-2.06.94z\"/><path d=\"M17.41 7.96l-1.37-1.37c-.4-.4-.92-.59-1.43-.59-.52 0-1.04.2-1.43.59L10.3 9.45l-7.72 7.72c-.78.78-.78 2.05 0 2.83L4 21.41c.39.39.9.59 1.41.59.51 0 1.02-.2 1.41-.59l7.78-7.78 2.81-2.81c.8-.78.8-2.07 0-2.86zM5.41 20L4 18.59l7.72-7.72 1.47 1.35L5.41 20z\"/>\n",
              "  </svg>\n",
              "      </button>\n",
              "      \n",
              "  <style>\n",
              "    .colab-df-container {\n",
              "      display:flex;\n",
              "      flex-wrap:wrap;\n",
              "      gap: 12px;\n",
              "    }\n",
              "\n",
              "    .colab-df-convert {\n",
              "      background-color: #E8F0FE;\n",
              "      border: none;\n",
              "      border-radius: 50%;\n",
              "      cursor: pointer;\n",
              "      display: none;\n",
              "      fill: #1967D2;\n",
              "      height: 32px;\n",
              "      padding: 0 0 0 0;\n",
              "      width: 32px;\n",
              "    }\n",
              "\n",
              "    .colab-df-convert:hover {\n",
              "      background-color: #E2EBFA;\n",
              "      box-shadow: 0px 1px 2px rgba(60, 64, 67, 0.3), 0px 1px 3px 1px rgba(60, 64, 67, 0.15);\n",
              "      fill: #174EA6;\n",
              "    }\n",
              "\n",
              "    [theme=dark] .colab-df-convert {\n",
              "      background-color: #3B4455;\n",
              "      fill: #D2E3FC;\n",
              "    }\n",
              "\n",
              "    [theme=dark] .colab-df-convert:hover {\n",
              "      background-color: #434B5C;\n",
              "      box-shadow: 0px 1px 3px 1px rgba(0, 0, 0, 0.15);\n",
              "      filter: drop-shadow(0px 1px 2px rgba(0, 0, 0, 0.3));\n",
              "      fill: #FFFFFF;\n",
              "    }\n",
              "  </style>\n",
              "\n",
              "      <script>\n",
              "        const buttonEl =\n",
              "          document.querySelector('#df-7df923b4-cca9-4824-9b13-5f7784bcc242 button.colab-df-convert');\n",
              "        buttonEl.style.display =\n",
              "          google.colab.kernel.accessAllowed ? 'block' : 'none';\n",
              "\n",
              "        async function convertToInteractive(key) {\n",
              "          const element = document.querySelector('#df-7df923b4-cca9-4824-9b13-5f7784bcc242');\n",
              "          const dataTable =\n",
              "            await google.colab.kernel.invokeFunction('convertToInteractive',\n",
              "                                                     [key], {});\n",
              "          if (!dataTable) return;\n",
              "\n",
              "          const docLinkHtml = 'Like what you see? Visit the ' +\n",
              "            '<a target=\"_blank\" href=https://colab.research.google.com/notebooks/data_table.ipynb>data table notebook</a>'\n",
              "            + ' to learn more about interactive tables.';\n",
              "          element.innerHTML = '';\n",
              "          dataTable['output_type'] = 'display_data';\n",
              "          await google.colab.output.renderOutput(dataTable, element);\n",
              "          const docLink = document.createElement('div');\n",
              "          docLink.innerHTML = docLinkHtml;\n",
              "          element.appendChild(docLink);\n",
              "        }\n",
              "      </script>\n",
              "    </div>\n",
              "  </div>\n",
              "  "
            ]
          },
          "metadata": {},
          "execution_count": 153
        }
      ],
      "source": [
        "X.head(2)"
      ],
      "id": "84e2f7e0"
    },
    {
      "cell_type": "code",
      "execution_count": null,
      "metadata": {
        "id": "c1dfd011"
      },
      "outputs": [],
      "source": [
        "X.drop(X[categorical_cols],axis=1,inplace=True)"
      ],
      "id": "c1dfd011"
    },
    {
      "cell_type": "code",
      "execution_count": null,
      "metadata": {
        "colab": {
          "base_uri": "https://localhost:8080/",
          "height": 240
        },
        "id": "0b1a57df",
        "outputId": "d0902df4-c579-47c5-ddfb-fffe07443bd7"
      },
      "outputs": [
        {
          "output_type": "execute_result",
          "data": {
            "text/plain": [
              "   dep_time_hr  arr_time_hr  dur_hr  Airline_Air Asia  Airline_Air India  \\\n",
              "0        22.33         1.17    2.83               0.0                0.0   \n",
              "1         5.83        13.25    7.42               0.0                1.0   \n",
              "\n",
              "   Airline_GoAir  Airline_IndiGo  Airline_Jet Airways  \\\n",
              "0            0.0             1.0                  0.0   \n",
              "1            0.0             0.0                  0.0   \n",
              "\n",
              "   Airline_Multiple carriers  Airline_Multiple carriers Premium economy  ...  \\\n",
              "0                        0.0                                        0.0  ...   \n",
              "1                        0.0                                        0.0  ...   \n",
              "\n",
              "   day_of_week_Thursday  day_of_week_Tuesday  day_of_week_Wednesday  \\\n",
              "0                   0.0                  0.0                    0.0   \n",
              "1                   0.0                  0.0                    0.0   \n",
              "\n",
              "   journey_month_1  journey_month_3  journey_month_4  journey_month_5  \\\n",
              "0              0.0              1.0              0.0              0.0   \n",
              "1              1.0              0.0              0.0              0.0   \n",
              "\n",
              "   journey_month_6  journey_month_9  journey_month_12  \n",
              "0              0.0              0.0               0.0  \n",
              "1              0.0              0.0               0.0  \n",
              "\n",
              "[2 rows x 182 columns]"
            ],
            "text/html": [
              "\n",
              "  <div id=\"df-8f1499e9-fc18-45eb-80f6-39971b1e4f3d\">\n",
              "    <div class=\"colab-df-container\">\n",
              "      <div>\n",
              "<style scoped>\n",
              "    .dataframe tbody tr th:only-of-type {\n",
              "        vertical-align: middle;\n",
              "    }\n",
              "\n",
              "    .dataframe tbody tr th {\n",
              "        vertical-align: top;\n",
              "    }\n",
              "\n",
              "    .dataframe thead th {\n",
              "        text-align: right;\n",
              "    }\n",
              "</style>\n",
              "<table border=\"1\" class=\"dataframe\">\n",
              "  <thead>\n",
              "    <tr style=\"text-align: right;\">\n",
              "      <th></th>\n",
              "      <th>dep_time_hr</th>\n",
              "      <th>arr_time_hr</th>\n",
              "      <th>dur_hr</th>\n",
              "      <th>Airline_Air Asia</th>\n",
              "      <th>Airline_Air India</th>\n",
              "      <th>Airline_GoAir</th>\n",
              "      <th>Airline_IndiGo</th>\n",
              "      <th>Airline_Jet Airways</th>\n",
              "      <th>Airline_Multiple carriers</th>\n",
              "      <th>Airline_Multiple carriers Premium economy</th>\n",
              "      <th>...</th>\n",
              "      <th>day_of_week_Thursday</th>\n",
              "      <th>day_of_week_Tuesday</th>\n",
              "      <th>day_of_week_Wednesday</th>\n",
              "      <th>journey_month_1</th>\n",
              "      <th>journey_month_3</th>\n",
              "      <th>journey_month_4</th>\n",
              "      <th>journey_month_5</th>\n",
              "      <th>journey_month_6</th>\n",
              "      <th>journey_month_9</th>\n",
              "      <th>journey_month_12</th>\n",
              "    </tr>\n",
              "  </thead>\n",
              "  <tbody>\n",
              "    <tr>\n",
              "      <th>0</th>\n",
              "      <td>22.33</td>\n",
              "      <td>1.17</td>\n",
              "      <td>2.83</td>\n",
              "      <td>0.0</td>\n",
              "      <td>0.0</td>\n",
              "      <td>0.0</td>\n",
              "      <td>1.0</td>\n",
              "      <td>0.0</td>\n",
              "      <td>0.0</td>\n",
              "      <td>0.0</td>\n",
              "      <td>...</td>\n",
              "      <td>0.0</td>\n",
              "      <td>0.0</td>\n",
              "      <td>0.0</td>\n",
              "      <td>0.0</td>\n",
              "      <td>1.0</td>\n",
              "      <td>0.0</td>\n",
              "      <td>0.0</td>\n",
              "      <td>0.0</td>\n",
              "      <td>0.0</td>\n",
              "      <td>0.0</td>\n",
              "    </tr>\n",
              "    <tr>\n",
              "      <th>1</th>\n",
              "      <td>5.83</td>\n",
              "      <td>13.25</td>\n",
              "      <td>7.42</td>\n",
              "      <td>0.0</td>\n",
              "      <td>1.0</td>\n",
              "      <td>0.0</td>\n",
              "      <td>0.0</td>\n",
              "      <td>0.0</td>\n",
              "      <td>0.0</td>\n",
              "      <td>0.0</td>\n",
              "      <td>...</td>\n",
              "      <td>0.0</td>\n",
              "      <td>0.0</td>\n",
              "      <td>0.0</td>\n",
              "      <td>1.0</td>\n",
              "      <td>0.0</td>\n",
              "      <td>0.0</td>\n",
              "      <td>0.0</td>\n",
              "      <td>0.0</td>\n",
              "      <td>0.0</td>\n",
              "      <td>0.0</td>\n",
              "    </tr>\n",
              "  </tbody>\n",
              "</table>\n",
              "<p>2 rows × 182 columns</p>\n",
              "</div>\n",
              "      <button class=\"colab-df-convert\" onclick=\"convertToInteractive('df-8f1499e9-fc18-45eb-80f6-39971b1e4f3d')\"\n",
              "              title=\"Convert this dataframe to an interactive table.\"\n",
              "              style=\"display:none;\">\n",
              "        \n",
              "  <svg xmlns=\"http://www.w3.org/2000/svg\" height=\"24px\"viewBox=\"0 0 24 24\"\n",
              "       width=\"24px\">\n",
              "    <path d=\"M0 0h24v24H0V0z\" fill=\"none\"/>\n",
              "    <path d=\"M18.56 5.44l.94 2.06.94-2.06 2.06-.94-2.06-.94-.94-2.06-.94 2.06-2.06.94zm-11 1L8.5 8.5l.94-2.06 2.06-.94-2.06-.94L8.5 2.5l-.94 2.06-2.06.94zm10 10l.94 2.06.94-2.06 2.06-.94-2.06-.94-.94-2.06-.94 2.06-2.06.94z\"/><path d=\"M17.41 7.96l-1.37-1.37c-.4-.4-.92-.59-1.43-.59-.52 0-1.04.2-1.43.59L10.3 9.45l-7.72 7.72c-.78.78-.78 2.05 0 2.83L4 21.41c.39.39.9.59 1.41.59.51 0 1.02-.2 1.41-.59l7.78-7.78 2.81-2.81c.8-.78.8-2.07 0-2.86zM5.41 20L4 18.59l7.72-7.72 1.47 1.35L5.41 20z\"/>\n",
              "  </svg>\n",
              "      </button>\n",
              "      \n",
              "  <style>\n",
              "    .colab-df-container {\n",
              "      display:flex;\n",
              "      flex-wrap:wrap;\n",
              "      gap: 12px;\n",
              "    }\n",
              "\n",
              "    .colab-df-convert {\n",
              "      background-color: #E8F0FE;\n",
              "      border: none;\n",
              "      border-radius: 50%;\n",
              "      cursor: pointer;\n",
              "      display: none;\n",
              "      fill: #1967D2;\n",
              "      height: 32px;\n",
              "      padding: 0 0 0 0;\n",
              "      width: 32px;\n",
              "    }\n",
              "\n",
              "    .colab-df-convert:hover {\n",
              "      background-color: #E2EBFA;\n",
              "      box-shadow: 0px 1px 2px rgba(60, 64, 67, 0.3), 0px 1px 3px 1px rgba(60, 64, 67, 0.15);\n",
              "      fill: #174EA6;\n",
              "    }\n",
              "\n",
              "    [theme=dark] .colab-df-convert {\n",
              "      background-color: #3B4455;\n",
              "      fill: #D2E3FC;\n",
              "    }\n",
              "\n",
              "    [theme=dark] .colab-df-convert:hover {\n",
              "      background-color: #434B5C;\n",
              "      box-shadow: 0px 1px 3px 1px rgba(0, 0, 0, 0.15);\n",
              "      filter: drop-shadow(0px 1px 2px rgba(0, 0, 0, 0.3));\n",
              "      fill: #FFFFFF;\n",
              "    }\n",
              "  </style>\n",
              "\n",
              "      <script>\n",
              "        const buttonEl =\n",
              "          document.querySelector('#df-8f1499e9-fc18-45eb-80f6-39971b1e4f3d button.colab-df-convert');\n",
              "        buttonEl.style.display =\n",
              "          google.colab.kernel.accessAllowed ? 'block' : 'none';\n",
              "\n",
              "        async function convertToInteractive(key) {\n",
              "          const element = document.querySelector('#df-8f1499e9-fc18-45eb-80f6-39971b1e4f3d');\n",
              "          const dataTable =\n",
              "            await google.colab.kernel.invokeFunction('convertToInteractive',\n",
              "                                                     [key], {});\n",
              "          if (!dataTable) return;\n",
              "\n",
              "          const docLinkHtml = 'Like what you see? Visit the ' +\n",
              "            '<a target=\"_blank\" href=https://colab.research.google.com/notebooks/data_table.ipynb>data table notebook</a>'\n",
              "            + ' to learn more about interactive tables.';\n",
              "          element.innerHTML = '';\n",
              "          dataTable['output_type'] = 'display_data';\n",
              "          await google.colab.output.renderOutput(dataTable, element);\n",
              "          const docLink = document.createElement('div');\n",
              "          docLink.innerHTML = docLinkHtml;\n",
              "          element.appendChild(docLink);\n",
              "        }\n",
              "      </script>\n",
              "    </div>\n",
              "  </div>\n",
              "  "
            ]
          },
          "metadata": {},
          "execution_count": 155
        }
      ],
      "source": [
        "X.head(2)"
      ],
      "id": "0b1a57df"
    },
    {
      "cell_type": "code",
      "execution_count": null,
      "metadata": {
        "colab": {
          "base_uri": "https://localhost:8080/"
        },
        "id": "f916b1b7",
        "outputId": "f7b87460-145c-4362-b956-959abe35b5db"
      },
      "outputs": [
        {
          "output_type": "execute_result",
          "data": {
            "text/plain": [
              "0     3897\n",
              "1     7662\n",
              "2    13882\n",
              "3     6218\n",
              "Name: Price, dtype: int64"
            ]
          },
          "metadata": {},
          "execution_count": 156
        }
      ],
      "source": [
        "y.head(4)"
      ],
      "id": "f916b1b7"
    },
    {
      "cell_type": "markdown",
      "metadata": {
        "id": "bJxw13EIXhXq"
      },
      "source": [
        "# TRAIN-TEST SPLIT"
      ],
      "id": "bJxw13EIXhXq"
    },
    {
      "cell_type": "code",
      "execution_count": null,
      "metadata": {
        "id": "a16fe57e"
      },
      "outputs": [],
      "source": [
        "#splitting the data into train and test\n",
        "from sklearn.model_selection import train_test_split\n",
        "\n",
        "X_train, X_test, y_train, y_test = train_test_split(X, y, test_size = 0.2,random_state=42)\n",
        "X_train1, X_test1, y_train1, y_test1=X_train, X_test, y_train, y_test  "
      ],
      "id": "a16fe57e"
    },
    {
      "cell_type": "code",
      "execution_count": null,
      "metadata": {
        "id": "TTVCAnEnV2h-"
      },
      "outputs": [],
      "source": [
        "#fitting min-max scaler on the train data \n",
        "from sklearn.preprocessing import MinMaxScaler\n",
        "scaler = MinMaxScaler()\n",
        "X_train = scaler.fit_transform(X_train)"
      ],
      "id": "TTVCAnEnV2h-"
    },
    {
      "cell_type": "code",
      "execution_count": null,
      "metadata": {
        "id": "5l-wXdNlV4jl"
      },
      "outputs": [],
      "source": [
        "#scaling the test data\n",
        "X_test = scaler.transform(X_test)\n"
      ],
      "id": "5l-wXdNlV4jl"
    },
    {
      "cell_type": "code",
      "execution_count": null,
      "metadata": {
        "id": "dbbd154a"
      },
      "outputs": [],
      "source": [
        "#importing the necessary libraries for modeling\n",
        "from sklearn.linear_model import  LinearRegression\n",
        "from sklearn.neighbors import KNeighborsRegressor\n",
        "from sklearn.tree import DecisionTreeRegressor\n",
        "from sklearn.ensemble import RandomForestRegressor\n",
        "from xgboost import XGBRegressor\n"
      ],
      "id": "dbbd154a"
    },
    {
      "cell_type": "code",
      "execution_count": null,
      "metadata": {
        "colab": {
          "base_uri": "https://localhost:8080/"
        },
        "id": "TbWayPHQeUei",
        "outputId": "01a8a3e8-c59f-414f-ae60-8d17fbbee01c"
      },
      "outputs": [
        {
          "output_type": "execute_result",
          "data": {
            "text/plain": [
              "array([[0.30394235, 0.87751678, 0.26389487, ..., 0.        , 0.        ,\n",
              "        0.        ],\n",
              "       [0.2615515 , 0.34270134, 0.52778975, ..., 1.        , 0.        ,\n",
              "        0.        ],\n",
              "       [0.39932175, 0.9614094 , 0.25850926, ..., 0.        , 1.        ,\n",
              "        0.        ],\n",
              "       ...,\n",
              "       [0.52988554, 0.87751678, 0.14907368, ..., 1.        , 0.        ,\n",
              "        0.        ],\n",
              "       [0.19457397, 0.80411074, 0.2817751 , ..., 1.        , 0.        ,\n",
              "        0.        ],\n",
              "       [0.18736753, 0.87751678, 0.32313658, ..., 0.        , 0.        ,\n",
              "        0.        ]])"
            ]
          },
          "metadata": {},
          "execution_count": 161
        }
      ],
      "source": [
        "X_train"
      ],
      "id": "TbWayPHQeUei"
    },
    {
      "cell_type": "code",
      "execution_count": null,
      "metadata": {
        "colab": {
          "base_uri": "https://localhost:8080/"
        },
        "id": "OtL1NKR-eH6S",
        "outputId": "cec1ada2-1c8c-4ee4-b9cd-eb5d0b49ea34"
      },
      "outputs": [
        {
          "output_type": "execute_result",
          "data": {
            "text/plain": [
              "array([[0.27214922, 0.18204698, 0.4398966 , ..., 1.        , 0.        ,\n",
              "        0.        ],\n",
              "       [0.69605765, 0.37080537, 0.32141318, ..., 0.        , 0.        ,\n",
              "        0.        ],\n",
              "       [0.28613819, 0.52432886, 0.09155536, ..., 1.        , 0.        ,\n",
              "        0.        ],\n",
              "       ...,\n",
              "       [0.43450615, 0.87751678, 0.19754416, ..., 0.        , 0.        ,\n",
              "        0.        ],\n",
              "       [0.81263247, 0.52432886, 0.3410168 , ..., 0.        , 0.        ,\n",
              "        0.        ],\n",
              "       [0.53709199, 0.05956376, 0.24235243, ..., 0.        , 0.        ,\n",
              "        0.        ]])"
            ]
          },
          "metadata": {},
          "execution_count": 162
        }
      ],
      "source": [
        "X_test"
      ],
      "id": "OtL1NKR-eH6S"
    },
    {
      "cell_type": "code",
      "execution_count": null,
      "metadata": {
        "id": "32ffa6fe"
      },
      "outputs": [],
      "source": [
        "from sklearn.metrics import r2_score,mean_absolute_error,mean_squared_error\n",
        "\n",
        "# call a function named 'ml_model' which will call all Regressor model\n",
        "def predict(ml_model):\n",
        "\n",
        "    # Define Models Name\n",
        "    print('Model: {}'.format(ml_model))\n",
        "\n",
        "    # fit all models with data\n",
        "    model= ml_model.fit(X_train,y_train)\n",
        "\n",
        "    # Model Training Score\n",
        "    print(\"Training score: {}\".format(model.score(X_train,y_train)))\n",
        "\n",
        "    #finding adjusted R2 for the model\n",
        "    adj_r2=1 - (1-model.score(X_train, y_train))*(len(y_train)-1)/(len(y_train)-X_train.shape[1]-1)\n",
        "    print(\"Training Adjusted R2: {}\".format(adj_r2))\n",
        "\n",
        "    # Model Predictions\n",
        "    predictions = model.predict(X_test)\n",
        "\n",
        "    # Define r2 score for Regressor Model\n",
        "    r2score=r2_score(y_test,predictions) \n",
        "    print(\"r2 score: {}\".format(r2score))\n",
        "          \n",
        "    # Model Evaluation with MAE, MSE, RMSE\n",
        "    print('MAE:{}'.format(mean_absolute_error(y_test,predictions)))\n",
        "    print('MSE:{}'.format(mean_squared_error(y_test,predictions)))\n",
        "    print('RMSE:{}'.format(np.sqrt(mean_squared_error(y_test,predictions))))\n",
        "     "
      ],
      "id": "32ffa6fe"
    },
    {
      "cell_type": "code",
      "execution_count": null,
      "metadata": {
        "colab": {
          "base_uri": "https://localhost:8080/"
        },
        "id": "76cfdbb5",
        "outputId": "2666fdd1-dbbb-492d-e876-9e98d6be851d"
      },
      "outputs": [
        {
          "output_type": "stream",
          "name": "stdout",
          "text": [
            "Model: LinearRegression()\n",
            "Training score: 0.7557628413176896\n",
            "Training Adjusted R2: 0.7504387111368079\n",
            "r2 score: -1.6343408439875208e+18\n",
            "MAE:179275639345.15955\n",
            "MSE:2.9530421341589987e+25\n",
            "RMSE:5434190035468.946\n"
          ]
        }
      ],
      "source": [
        "predict(LinearRegression())"
      ],
      "id": "76cfdbb5"
    },
    {
      "cell_type": "markdown",
      "metadata": {
        "id": "ajiH7y2LirM8"
      },
      "source": [
        "NOTE: The R2 value is negative in the test set, which means Linear Regression model is even worse than the basline model and should be completely rejected. Underfitting has occured here.\n",
        "\n"
      ],
      "id": "ajiH7y2LirM8"
    },
    {
      "cell_type": "markdown",
      "metadata": {
        "id": "9b58bV_5fGh7"
      },
      "source": [
        "# KNN Regression Model"
      ],
      "id": "9b58bV_5fGh7"
    },
    {
      "cell_type": "code",
      "execution_count": null,
      "metadata": {
        "colab": {
          "base_uri": "https://localhost:8080/"
        },
        "id": "0b27b3ab",
        "outputId": "580fd8a6-7bad-4976-bffa-d87b8dea3f7c"
      },
      "outputs": [
        {
          "output_type": "stream",
          "name": "stdout",
          "text": [
            "Model: KNeighborsRegressor()\n",
            "Training score: 0.9075784884946199\n",
            "Training Adjusted R2: 0.9055637903159184\n",
            "r2 score: 0.8426401876482105\n",
            "MAE:953.3327085285848\n",
            "MSE:2843287.9090534206\n",
            "RMSE:1686.2051799983954\n"
          ]
        }
      ],
      "source": [
        "predict(KNeighborsRegressor())"
      ],
      "id": "0b27b3ab"
    },
    {
      "cell_type": "markdown",
      "metadata": {
        "id": "075cbv-YeFLi"
      },
      "source": [
        "KNN Regression using Hyper-parameter tuning"
      ],
      "id": "075cbv-YeFLi"
    },
    {
      "cell_type": "code",
      "execution_count": null,
      "metadata": {
        "colab": {
          "base_uri": "https://localhost:8080/"
        },
        "id": "UQYz00w7eIkn",
        "outputId": "bc632fb7-34ac-48f6-866f-a8a7ee954ba9"
      },
      "outputs": [
        {
          "output_type": "stream",
          "name": "stdout",
          "text": [
            "Fitting 5 folds for each of 10 candidates, totalling 50 fits\n",
            "{'n_neighbors': 4}\n",
            "KNeighborsRegressor(n_jobs=-1, n_neighbors=4)\n"
          ]
        }
      ],
      "source": [
        "# Random SearchCV for Hyper Parameter Tuning\n",
        "\n",
        "n_neighbors = [int(x) for x in np.linspace(start = 1, stop = 12, num = 11)]\n",
        "\n",
        "random_grid = {'n_neighbors': n_neighbors}\n",
        "\n",
        "train_model = KNeighborsRegressor(n_jobs = -1)\n",
        "\n",
        "# Random search of parameters, using 3 fold cross validation,\n",
        "# search across 100 different combinations, and use all available cores\n",
        "\n",
        "train_model_random = RandomizedSearchCV(estimator = train_model, param_distributions = random_grid, n_iter = 10, cv = 5, \n",
        "                                        verbose=2, random_state=42, n_jobs = -1)\n",
        "\n",
        "# Fit the Model\n",
        "train_model_random.fit(X_train,y_train)\n",
        "\n",
        "print(train_model_random.best_params_)\n",
        "print(train_model_random.best_estimator_)"
      ],
      "id": "UQYz00w7eIkn"
    },
    {
      "cell_type": "code",
      "execution_count": null,
      "metadata": {
        "colab": {
          "base_uri": "https://localhost:8080/"
        },
        "id": "2Kt_lbsbenpL",
        "outputId": "b133d66a-0b47-4696-dbdd-a60673d3946b"
      },
      "outputs": [
        {
          "output_type": "stream",
          "name": "stdout",
          "text": [
            "Model: KNeighborsRegressor(n_jobs=-1, n_neighbors=4)\n",
            "Training score: 0.9172664439365519\n",
            "Training Adjusted R2: 0.9154629336714246\n",
            "r2 score: 0.8375894358932129\n",
            "MAE:945.0481490159325\n",
            "MSE:2934548.448717198\n",
            "RMSE:1713.0523776922869\n"
          ]
        }
      ],
      "source": [
        "predict(KNeighborsRegressor(n_neighbors = 4, n_jobs = -1))"
      ],
      "id": "2Kt_lbsbenpL"
    },
    {
      "cell_type": "markdown",
      "metadata": {
        "id": "iH6VMgSafAt8"
      },
      "source": [
        "There is not much great improvement even after hyper-parameter tuning."
      ],
      "id": "iH6VMgSafAt8"
    },
    {
      "cell_type": "markdown",
      "metadata": {
        "id": "d6vsWNW1fKrU"
      },
      "source": [
        "# Decision Tree Model"
      ],
      "id": "d6vsWNW1fKrU"
    },
    {
      "cell_type": "code",
      "execution_count": null,
      "metadata": {
        "colab": {
          "base_uri": "https://localhost:8080/"
        },
        "id": "53dc394a",
        "outputId": "214b8e4c-40fb-44f6-cb9c-d2fbc48b1d4c"
      },
      "outputs": [
        {
          "output_type": "stream",
          "name": "stdout",
          "text": [
            "Model: DecisionTreeRegressor(random_state=42)\n",
            "Training score: 0.9906932192960362\n",
            "Training Adjusted R2: 0.9904903406173775\n",
            "r2 score: 0.8281477056384836\n",
            "MAE:836.7232505467041\n",
            "MSE:3105148.280228184\n",
            "RMSE:1762.1430930058386\n"
          ]
        }
      ],
      "source": [
        "predict(DecisionTreeRegressor(random_state=42))"
      ],
      "id": "53dc394a"
    },
    {
      "cell_type": "markdown",
      "metadata": {
        "id": "hPnIB9ZsfTro"
      },
      "source": [
        "Decision Tree Model with Hyper-parameter Tuning"
      ],
      "id": "hPnIB9ZsfTro"
    },
    {
      "cell_type": "code",
      "execution_count": null,
      "metadata": {
        "colab": {
          "base_uri": "https://localhost:8080/"
        },
        "id": "QP4arOu2fXxD",
        "outputId": "f776d18d-4664-4555-e44f-411b72ae60ce"
      },
      "outputs": [
        {
          "output_type": "stream",
          "name": "stdout",
          "text": [
            "Fitting 5 folds for each of 10 candidates, totalling 50 fits\n",
            "{'max_features': 'auto', 'max_depth': 22}\n",
            "DecisionTreeRegressor(max_depth=22, max_features='auto', random_state=42)\n"
          ]
        }
      ],
      "source": [
        "# Random SearchCV for Hyper Parameter Tuning\n",
        "\n",
        "# Maximum number of levels in tree\n",
        "max_depth = [int(x) for x in np.linspace(5, 25, num = 10)]\n",
        "\n",
        "max_features = ['auto', 'sqrt', 5, 6, 8, 10]\n",
        "\n",
        "\n",
        "random_grid = {'max_features': max_features,\n",
        "               'max_depth': max_depth}\n",
        "\n",
        "train_model = DecisionTreeRegressor(random_state = 42)\n",
        "\n",
        "# Random search of parameters, using 3 fold cross validation,\n",
        "# search across 100 different combinations, and use all available cores\n",
        "\n",
        "train_model_random = RandomizedSearchCV(estimator = train_model, param_distributions = random_grid, n_iter = 10, cv = 5, \n",
        "                                        verbose=2, random_state=42, n_jobs = -1)\n",
        "\n",
        "# Fit the random search model\n",
        "train_model_random.fit(X_train,y_train)\n",
        "\n",
        "print(train_model_random.best_params_)\n",
        "print(train_model_random.best_estimator_)"
      ],
      "id": "QP4arOu2fXxD"
    },
    {
      "cell_type": "code",
      "execution_count": null,
      "metadata": {
        "colab": {
          "base_uri": "https://localhost:8080/"
        },
        "id": "1kBUT8WcfeJ9",
        "outputId": "ce75fad0-c4ff-4c88-9f5c-e3cc568c3810"
      },
      "outputs": [
        {
          "output_type": "stream",
          "name": "stdout",
          "text": [
            "Model: DecisionTreeRegressor(max_depth=22, max_features='auto', random_state=42)\n",
            "Training score: 0.9796782521955495\n",
            "Training Adjusted R2: 0.9792352580524892\n",
            "r2 score: 0.8284414603149868\n",
            "MAE:865.9150910795738\n",
            "MSE:3099840.5138585703\n",
            "RMSE:1760.6363945626508\n"
          ]
        }
      ],
      "source": [
        "predict(DecisionTreeRegressor(max_depth=22, max_features='auto', random_state=42))"
      ],
      "id": "1kBUT8WcfeJ9"
    },
    {
      "cell_type": "markdown",
      "metadata": {
        "id": "sB_4Dqxob0sf"
      },
      "source": [
        "NOTE: Even after hyper parameter tuning, there is not much significant improvement in the model."
      ],
      "id": "sB_4Dqxob0sf"
    },
    {
      "cell_type": "markdown",
      "metadata": {
        "id": "ess4gN7kf32d"
      },
      "source": [
        "#Random Forest Regression"
      ],
      "id": "ess4gN7kf32d"
    },
    {
      "cell_type": "code",
      "execution_count": null,
      "metadata": {
        "colab": {
          "base_uri": "https://localhost:8080/"
        },
        "id": "3f8d1908",
        "outputId": "c84321f5-2712-499a-c934-edb0f3203eb4"
      },
      "outputs": [
        {
          "output_type": "stream",
          "name": "stdout",
          "text": [
            "Model: RandomForestRegressor(random_state=42)\n",
            "Training score: 0.9776828557712771\n",
            "Training Adjusted R2: 0.9771963639459534\n",
            "r2 score: 0.8799945826053446\n",
            "MAE:772.4789710376966\n",
            "MSE:2168342.3944121953\n",
            "RMSE:1472.5292507832214\n"
          ]
        }
      ],
      "source": [
        "predict(RandomForestRegressor(random_state = 42))"
      ],
      "id": "3f8d1908"
    },
    {
      "cell_type": "markdown",
      "metadata": {
        "id": "2fNmzaTYf7bt"
      },
      "source": [
        "Random Forest Regression with Hyper-parameter tuning"
      ],
      "id": "2fNmzaTYf7bt"
    },
    {
      "cell_type": "code",
      "execution_count": null,
      "metadata": {
        "colab": {
          "base_uri": "https://localhost:8080/"
        },
        "id": "pUeERPDjgAnw",
        "outputId": "82a9d671-a314-4d87-8929-36d5240c335a"
      },
      "outputs": [
        {
          "output_type": "stream",
          "name": "stdout",
          "text": [
            "Fitting 5 folds for each of 10 candidates, totalling 50 fits\n",
            "{'n_estimators': 300, 'max_features': 'sqrt', 'max_depth': 25}\n",
            "RandomForestRegressor(max_depth=25, max_features='sqrt', n_estimators=300,\n",
            "                      random_state=42)\n"
          ]
        }
      ],
      "source": [
        "# Random SearchCV for Hyper Parameter Tuning\n",
        "\n",
        "# Maximum number of levels in tree\n",
        "# Number of trees in random forest\n",
        "n_estimators = [int(x) for x in np.linspace(start = 100, stop = 800, num = 8)]\n",
        "max_depth = [int(x) for x in np.linspace(5, 25, num = 10)]\n",
        "max_features = ['auto', 'sqrt', 5, 6, 8, 10]\n",
        "\n",
        "random_grid = {'n_estimators': n_estimators,\n",
        "               'max_features': max_features,\n",
        "               'max_depth': max_depth}\n",
        "\n",
        "train_model = RandomForestRegressor(random_state = 42)\n",
        "\n",
        "# Random search of parameters, using 3 fold cross validation,\n",
        "# search across 100 different combinations, and use all available cores\n",
        "\n",
        "train_model_random = RandomizedSearchCV(estimator = train_model, param_distributions = random_grid, n_iter = 10, cv = 5, \n",
        "                                        verbose=2, random_state=42, n_jobs = -1)\n",
        "\n",
        "# Fit the random search model\n",
        "train_model_random.fit(X_train,y_train)\n",
        "\n",
        "print(train_model_random.best_params_)\n",
        "print(train_model_random.best_estimator_)"
      ],
      "id": "pUeERPDjgAnw"
    },
    {
      "cell_type": "code",
      "execution_count": null,
      "metadata": {
        "colab": {
          "base_uri": "https://localhost:8080/"
        },
        "id": "rRXIENJbgEx6",
        "outputId": "54905be9-2863-4c8c-f6a1-5d9762bce7d8"
      },
      "outputs": [
        {
          "output_type": "stream",
          "name": "stdout",
          "text": [
            "Model: RandomForestRegressor(max_depth=25, max_features='sqrt', n_estimators=300,\n",
            "                      random_state=42)\n",
            "Training score: 0.9657166840161527\n",
            "Training Adjusted R2: 0.9649693413991854\n",
            "r2 score: 0.8676045943204835\n",
            "MAE:899.1384561208652\n",
            "MSE:2392213.428300463\n",
            "RMSE:1546.6781915771824\n"
          ]
        }
      ],
      "source": [
        "predict(RandomForestRegressor(max_depth=25, max_features='sqrt', n_estimators=300,\n",
        "                      random_state=42))"
      ],
      "id": "rRXIENJbgEx6"
    },
    {
      "cell_type": "markdown",
      "source": [
        "Results have not improved much and hence, boosting models have to be checked."
      ],
      "metadata": {
        "id": "pOrqAyCv9KrF"
      },
      "id": "pOrqAyCv9KrF"
    },
    {
      "cell_type": "markdown",
      "metadata": {
        "id": "NoJrdKQ-gKcp"
      },
      "source": [
        "# XGBoost Regression"
      ],
      "id": "NoJrdKQ-gKcp"
    },
    {
      "cell_type": "code",
      "execution_count": null,
      "metadata": {
        "colab": {
          "base_uri": "https://localhost:8080/"
        },
        "id": "99a4bd9a",
        "outputId": "eb473733-d853-452c-dc37-a0e1a46fb056"
      },
      "outputs": [
        {
          "output_type": "stream",
          "name": "stdout",
          "text": [
            "Model: XGBRegressor(random_state=42)\n",
            "[16:39:05] WARNING: /workspace/src/objective/regression_obj.cu:152: reg:linear is now deprecated in favor of reg:squarederror.\n",
            "Training score: 0.8013472345944477\n",
            "Training Adjusted R2: 0.7970167994161257\n",
            "r2 score: 0.7884195694020628\n",
            "MAE:1344.5651912671333\n",
            "MSE:3822984.2239932604\n",
            "RMSE:1955.2453104388871\n"
          ]
        }
      ],
      "source": [
        "predict(XGBRegressor(random_state=42))"
      ],
      "id": "99a4bd9a"
    },
    {
      "cell_type": "markdown",
      "metadata": {
        "id": "exr_lIJMgNG-"
      },
      "source": [
        "XGBoost Regression with Hyper-parameter tuning"
      ],
      "id": "exr_lIJMgNG-"
    },
    {
      "cell_type": "code",
      "execution_count": null,
      "metadata": {
        "colab": {
          "base_uri": "https://localhost:8080/"
        },
        "id": "kbkjhU8_gReI",
        "outputId": "b7926c8e-3591-4248-e801-d5f058945412"
      },
      "outputs": [
        {
          "output_type": "stream",
          "name": "stdout",
          "text": [
            "Fitting 5 folds for each of 10 candidates, totalling 50 fits\n",
            "[17:06:24] WARNING: /workspace/src/objective/regression_obj.cu:152: reg:linear is now deprecated in favor of reg:squarederror.\n",
            "{'n_estimators': 200, 'max_features': 'auto', 'max_depth': 10}\n",
            "XGBRegressor(max_depth=10, max_features='auto', n_estimators=200,\n",
            "             random_state=42)\n"
          ]
        }
      ],
      "source": [
        "# Random SearchCV for Hyper Parameter Tuning\n",
        "\n",
        "# Maximum number of levels in tree\n",
        "# Number of trees in random forest\n",
        "n_estimators = [int(x) for x in np.linspace(start = 100, stop = 500, num = 5)]\n",
        "\n",
        "max_depth = [int(x) for x in np.linspace(5, 25, num = 5)]\n",
        "\n",
        "max_features = ['auto', 'sqrt', 5, 6, 8, 10]\n",
        "\n",
        "\n",
        "random_grid = {'n_estimators': n_estimators,\n",
        "               'max_features': max_features,\n",
        "               'max_depth': max_depth}\n",
        "\n",
        "train_model = XGBRegressor(random_state = 42)\n",
        "\n",
        "# Random search of parameters, using 3 fold cross validation,\n",
        "# search across 100 different combinations, and use all available cores\n",
        "\n",
        "train_model_random = RandomizedSearchCV(estimator = train_model, param_distributions = random_grid, n_iter = 10, cv = 5, \n",
        "                                        verbose=2, random_state=42, n_jobs = -1)\n",
        "\n",
        "# Fit the random search model\n",
        "train_model_random.fit(X_train,y_train)\n",
        "\n",
        "print(train_model_random.best_params_)\n",
        "print(train_model_random.best_estimator_)"
      ],
      "id": "kbkjhU8_gReI"
    },
    {
      "cell_type": "code",
      "execution_count": null,
      "metadata": {
        "colab": {
          "base_uri": "https://localhost:8080/"
        },
        "id": "ANbhNzmogVxz",
        "outputId": "3ae8d779-59f1-4f17-f770-e7d35971bee6"
      },
      "outputs": [
        {
          "output_type": "stream",
          "name": "stdout",
          "text": [
            "Model: XGBRegressor(max_depth=10, max_features='auto', n_estimators=200,\n",
            "             random_state=42)\n",
            "[17:06:42] WARNING: /workspace/src/objective/regression_obj.cu:152: reg:linear is now deprecated in favor of reg:squarederror.\n",
            "Training score: 0.9718591934617518\n",
            "Training Adjusted R2: 0.971245751517811\n",
            "r2 score: 0.9034907914402746\n",
            "MAE:750.1261884980706\n",
            "MSE:1743796.346151793\n",
            "RMSE:1320.5288130714123\n"
          ]
        }
      ],
      "source": [
        "predict(XGBRegressor(max_depth=10, max_features='auto', n_estimators=200,\n",
        "             random_state=42))"
      ],
      "id": "ANbhNzmogVxz"
    },
    {
      "cell_type": "markdown",
      "metadata": {
        "id": "jW4L1tHeft5V"
      },
      "source": [
        "NOTE: RMSE, MAE,MSE scores have decreased as compared to all the other models. Hence, we will prefer the XGBoost model over all."
      ],
      "id": "jW4L1tHeft5V"
    },
    {
      "cell_type": "markdown",
      "source": [
        "Feature Importance Plot of Top 10 features from XGBoost model."
      ],
      "metadata": {
        "id": "UY3REUJAsTH9"
      },
      "id": "UY3REUJAsTH9"
    },
    {
      "cell_type": "code",
      "source": [
        "model=XGBRegressor(max_depth=10, max_features='auto', n_estimators=200,\n",
        "             random_state=42)\n",
        "model.fit(X_train,y_train)\n",
        "feature_importance = model.feature_importances_\n",
        "sorted_idx = np.argsort(feature_importance)\n",
        "sorted_idx=sorted_idx[-10:len(sorted_idx)]\n",
        "fig = plt.figure(figsize=(12, 6))\n",
        "plt.barh(range(len(sorted_idx)), feature_importance[sorted_idx], align='center')\n",
        "plt.yticks(range(len(sorted_idx)), np.array(X_test1.columns)[sorted_idx])\n",
        "plt.title('Feature Importance')\n"
      ],
      "metadata": {
        "colab": {
          "base_uri": "https://localhost:8080/",
          "height": 425
        },
        "id": "kRBtuKXm2vdT",
        "outputId": "c20bf177-b298-4589-9df8-6565eac6989c"
      },
      "id": "kRBtuKXm2vdT",
      "execution_count": null,
      "outputs": [
        {
          "output_type": "stream",
          "name": "stdout",
          "text": [
            "[17:35:44] WARNING: /workspace/src/objective/regression_obj.cu:152: reg:linear is now deprecated in favor of reg:squarederror.\n"
          ]
        },
        {
          "output_type": "execute_result",
          "data": {
            "text/plain": [
              "Text(0.5, 1.0, 'Feature Importance')"
            ]
          },
          "metadata": {},
          "execution_count": 198
        },
        {
          "output_type": "display_data",
          "data": {
            "text/plain": [
              "<Figure size 864x432 with 1 Axes>"
            ],
            "image/png": "[encoded data removed]"
          },
          "metadata": {
            "needs_background": "light"
          }
        }
      ]
    },
    {
      "cell_type": "markdown",
      "source": [
        "#CONCLUSION"
      ],
      "metadata": {
        "id": "BmRMG3pC9ly2"
      },
      "id": "BmRMG3pC9ly2"
    },
    {
      "cell_type": "markdown",
      "metadata": {
        "id": "2ddf949d"
      },
      "source": [
        "After looking at performance of all the models, based on performance metrics viz., RMSE, MAE and MSE are minimum for XGBoost Regression model (R2 is maximum) and hence that is the best performing model to predict the flight fares."
      ],
      "id": "2ddf949d"
    },
    {
      "cell_type": "markdown",
      "metadata": {
        "id": "HXmokg5Isr5l"
      },
      "source": [
        "This project aims at helping the airline companies to understand which attributes affect the flight fares and how the prices vary across their competitors. Using the Machine Learning model, they would be able to predict the prices that they should maintain to grow their business.\n",
        "\n",
        "Accordingly, it will help the customers to predict future prices and plan their journey accordingly."
      ],
      "id": "HXmokg5Isr5l"
    },
    {
      "cell_type": "code",
      "execution_count": null,
      "metadata": {
        "id": "0ce90c72"
      },
      "outputs": [],
      "source": [
        ""
      ],
      "id": "0ce90c72"
    }
  ],
  "metadata": {
    "colab": {
      "collapsed_sections": [],
      "name": "Flight Fare Prediction.ipynb",
      "provenance": []
    },
    "kernelspec": {
      "display_name": "Python 3",
      "language": "python",
      "name": "python3"
    },
    "language_info": {
      "codemirror_mode": {
        "name": "ipython",
        "version": 3
      },
      "file_extension": ".py",
      "mimetype": "text/x-python",
      "name": "python",
      "nbconvert_exporter": "python",
      "pygments_lexer": "ipython3",
      "version": "3.8.8"
    }
  },
  "nbformat": 4,
  "nbformat_minor": 5
}